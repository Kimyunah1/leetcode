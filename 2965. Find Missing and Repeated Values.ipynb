{
 "cells": [
  {
   "cell_type": "code",
   "execution_count": 2,
   "id": "7e746ccf",
   "metadata": {},
   "outputs": [],
   "source": [
    "from typing import List\n",
    "class Solution:\n",
    "    def findMissingAndRepeatedValues(self, grid: List[List[int]]) -> List[int]:\n",
    "        n = len(grid)\n",
    "        seen = set()\n",
    "        missing = set(range(1, n*n+1))\n",
    "\n",
    "        repeat = 0\n",
    "        for row in grid:\n",
    "            for num in row:\n",
    "                if num in seen:\n",
    "                    repeat = num\n",
    "                else:\n",
    "                    seen.add(num)\n",
    "                missing.discard(num)\n",
    "\n",
    "        return [repeat, missing.pop()]"
   ]
  },
  {
   "cell_type": "code",
   "execution_count": 3,
   "id": "9fe4f6af",
   "metadata": {},
   "outputs": [
    {
     "name": "stdout",
     "output_type": "stream",
     "text": [
      "[2, 4]\n"
     ]
    }
   ],
   "source": [
    "grid = [[1,3],[2,2]]\n",
    "print(Solution().findMissingAndRepeatedValues(grid))"
   ]
  },
  {
   "cell_type": "code",
   "execution_count": null,
   "id": "188a51d1",
   "metadata": {},
   "outputs": [],
   "source": []
  }
 ],
 "metadata": {
  "kernelspec": {
   "display_name": "Python 3 (ipykernel)",
   "language": "python",
   "name": "python3"
  },
  "language_info": {
   "codemirror_mode": {
    "name": "ipython",
    "version": 3
   },
   "file_extension": ".py",
   "mimetype": "text/x-python",
   "name": "python",
   "nbconvert_exporter": "python",
   "pygments_lexer": "ipython3",
   "version": "3.11.5"
  }
 },
 "nbformat": 4,
 "nbformat_minor": 5
}
