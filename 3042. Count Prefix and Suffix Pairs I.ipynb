{
 "cells": [
  {
   "cell_type": "code",
   "execution_count": 2,
   "id": "2af90406",
   "metadata": {},
   "outputs": [],
   "source": [
    "from typing import List\n",
    "\n",
    "class Solution:\n",
    "    def countPrefixSuffixPairs(self, words: List[str]) -> int:\n",
    "        count = 0\n",
    "        n = len(words)\n",
    "        for i in range(n):\n",
    "            for j in range(i+1, n):\n",
    "                if words[j].startswith(words[i]) and words[j].endswith(words[i]):\n",
    "                    count += 1\n",
    "\n",
    "        return count\n"
   ]
  },
  {
   "cell_type": "code",
   "execution_count": 3,
   "id": "542518d4",
   "metadata": {},
   "outputs": [
    {
     "name": "stdout",
     "output_type": "stream",
     "text": [
      "4\n"
     ]
    }
   ],
   "source": [
    "words = [\"a\",\"aba\",\"ababa\",\"aa\"]\n",
    "\n",
    "print(Solution().countPrefixSuffixPairs(words))"
   ]
  },
  {
   "cell_type": "code",
   "execution_count": null,
   "id": "277c6510",
   "metadata": {},
   "outputs": [],
   "source": []
  }
 ],
 "metadata": {
  "kernelspec": {
   "display_name": "Python 3 (ipykernel)",
   "language": "python",
   "name": "python3"
  },
  "language_info": {
   "codemirror_mode": {
    "name": "ipython",
    "version": 3
   },
   "file_extension": ".py",
   "mimetype": "text/x-python",
   "name": "python",
   "nbconvert_exporter": "python",
   "pygments_lexer": "ipython3",
   "version": "3.11.5"
  }
 },
 "nbformat": 4,
 "nbformat_minor": 5
}
