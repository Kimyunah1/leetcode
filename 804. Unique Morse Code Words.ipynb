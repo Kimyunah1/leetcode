{
 "cells": [
  {
   "cell_type": "code",
   "execution_count": null,
   "id": "2b6b3db4",
   "metadata": {},
   "outputs": [],
   "source": [
    "class Solution:\n",
    "    def uniqueMorseRepresentations(self, words: List[str]) -> int:\n",
    "        \n",
    "        morse_list = [\".-\", \"-...\", \"-.-.\", \"-..\", \".\", \"..-.\", \"--.\", \"....\", \"..\", \".---\", \"-.-\", \".-..\", \"--\", \"-.\", \"---\", \".--.\", \"--.-\", \".-.\", \"...\", \"-\", \"..-\", \"...-\", \".--\", \"-..-\", \"-.--\", \"--..\"]\n",
    "        alphabet = 'abcdefghijklmnopqrstuvwxyz'\n",
    "\n",
    "        morse_dict = dict(zip(alphabet, morse_list))\n",
    "\n",
    "        unique_mors = set()\n",
    "\n",
    "        for word in words:\n",
    "            mors = \"\"  # 각 단어마다 새로운 모스 부호를 생성하기 위해 초기화\n",
    "            for i in word:\n",
    "                if i in morse_dict:\n",
    "                    mors += morse_dict[i]\n",
    "            unique_mors.add(mors)\n",
    "\n",
    "        return len(unique_mors)"
   ]
  }
 ],
 "metadata": {
  "kernelspec": {
   "display_name": "Python 3 (ipykernel)",
   "language": "python",
   "name": "python3"
  },
  "language_info": {
   "codemirror_mode": {
    "name": "ipython",
    "version": 3
   },
   "file_extension": ".py",
   "mimetype": "text/x-python",
   "name": "python",
   "nbconvert_exporter": "python",
   "pygments_lexer": "ipython3",
   "version": "3.11.5"
  }
 },
 "nbformat": 4,
 "nbformat_minor": 5
}
