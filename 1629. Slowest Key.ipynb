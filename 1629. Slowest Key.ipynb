{
 "cells": [
  {
   "cell_type": "code",
   "execution_count": 2,
   "id": "4a17ebf3",
   "metadata": {},
   "outputs": [],
   "source": [
    "from typing import List\n",
    "class Solution:\n",
    "    def slowestKey(self, releaseTimes: List[int], keysPressed: str) -> str:\n",
    "        l = releaseTimes[0:1] + [releaseTimes[i] - releaseTimes[i-1] for i in range(1,len(releaseTimes))]\n",
    "\n",
    "        keysPressed = [x for x in keysPressed]\n",
    "\n",
    "        k = [(k,val) for k, val in zip(l,keysPressed)]\n",
    "\n",
    "        return sorted(k,reverse = True)[0][1]"
   ]
  },
  {
   "cell_type": "code",
   "execution_count": 3,
   "id": "27423a91",
   "metadata": {},
   "outputs": [
    {
     "name": "stdout",
     "output_type": "stream",
     "text": [
      "c\n"
     ]
    }
   ],
   "source": [
    "releaseTimes = [9,29,49,50]\n",
    "keysPressed = \"cbcd\"\n",
    "\n",
    "print(Solution().slowestKey(releaseTimes, keysPressed) )"
   ]
  },
  {
   "cell_type": "code",
   "execution_count": null,
   "id": "98677439",
   "metadata": {},
   "outputs": [],
   "source": []
  }
 ],
 "metadata": {
  "kernelspec": {
   "display_name": "Python 3 (ipykernel)",
   "language": "python",
   "name": "python3"
  },
  "language_info": {
   "codemirror_mode": {
    "name": "ipython",
    "version": 3
   },
   "file_extension": ".py",
   "mimetype": "text/x-python",
   "name": "python",
   "nbconvert_exporter": "python",
   "pygments_lexer": "ipython3",
   "version": "3.11.5"
  }
 },
 "nbformat": 4,
 "nbformat_minor": 5
}
