{
 "cells": [
  {
   "cell_type": "code",
   "execution_count": 4,
   "id": "c63c745a",
   "metadata": {},
   "outputs": [],
   "source": [
    "class Solution:\n",
    "    def thousandSeparator(self, n: int) -> str:\n",
    "        s = str(n)\n",
    "        s = s[::-1]\n",
    "        res = '.'.join(s[i:i+3] for i in range(0, len(s), 3))\n",
    "\n",
    "        return res[::-1]"
   ]
  },
  {
   "cell_type": "code",
   "execution_count": 6,
   "id": "8544d953",
   "metadata": {},
   "outputs": [
    {
     "name": "stdout",
     "output_type": "stream",
     "text": [
      "1.234\n"
     ]
    }
   ],
   "source": [
    "n = 1234\n",
    "\n",
    "print(Solution().thousandSeparator(n))"
   ]
  },
  {
   "cell_type": "code",
   "execution_count": null,
   "id": "4431e874",
   "metadata": {},
   "outputs": [],
   "source": []
  }
 ],
 "metadata": {
  "kernelspec": {
   "display_name": "Python 3 (ipykernel)",
   "language": "python",
   "name": "python3"
  },
  "language_info": {
   "codemirror_mode": {
    "name": "ipython",
    "version": 3
   },
   "file_extension": ".py",
   "mimetype": "text/x-python",
   "name": "python",
   "nbconvert_exporter": "python",
   "pygments_lexer": "ipython3",
   "version": "3.11.5"
  }
 },
 "nbformat": 4,
 "nbformat_minor": 5
}
