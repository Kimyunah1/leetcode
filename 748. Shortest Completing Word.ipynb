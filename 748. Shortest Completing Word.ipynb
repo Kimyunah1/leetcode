{
 "cells": [
  {
   "cell_type": "code",
   "execution_count": 2,
   "id": "282be973",
   "metadata": {},
   "outputs": [],
   "source": [
    "from typing import List\n",
    "class Solution:\n",
    "    def shortestCompletingWord(self, licensePlate: str, words: List[str]) -> str:\n",
    "        licensePlate = ''.join([i.lower() for i in licensePlate if i.isalpha()])\n",
    "        words = sorted(words, key=len)\n",
    "\n",
    "        for word in words:\n",
    "            for i in range(len(licensePlate)):\n",
    "                if word.count(licensePlate[i]) < licensePlate.count(licensePlate[i]):\n",
    "                    break\n",
    "                if i == len(licensePlate) -1 :\n",
    "                    return word"
   ]
  },
  {
   "cell_type": "code",
   "execution_count": 3,
   "id": "aa8bc33c",
   "metadata": {},
   "outputs": [
    {
     "name": "stdout",
     "output_type": "stream",
     "text": [
      "steps\n"
     ]
    }
   ],
   "source": [
    "licensePlate = \"1s3 PSt\"\n",
    "words = [\"step\",\"steps\",\"stripe\",\"stepple\"]\n",
    "\n",
    "print(Solution().shortestCompletingWord(licensePlate, words))"
   ]
  },
  {
   "cell_type": "code",
   "execution_count": null,
   "id": "aa625298",
   "metadata": {},
   "outputs": [],
   "source": []
  }
 ],
 "metadata": {
  "kernelspec": {
   "display_name": "Python 3 (ipykernel)",
   "language": "python",
   "name": "python3"
  },
  "language_info": {
   "codemirror_mode": {
    "name": "ipython",
    "version": 3
   },
   "file_extension": ".py",
   "mimetype": "text/x-python",
   "name": "python",
   "nbconvert_exporter": "python",
   "pygments_lexer": "ipython3",
   "version": "3.11.5"
  }
 },
 "nbformat": 4,
 "nbformat_minor": 5
}
