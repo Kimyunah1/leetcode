{
 "cells": [
  {
   "cell_type": "code",
   "execution_count": 2,
   "id": "516570dc",
   "metadata": {},
   "outputs": [],
   "source": [
    "class Solution:\n",
    "    def countPoints(self, rings: str) -> int:\n",
    "        lst=[]\n",
    "        rgb=[]\n",
    "        count=0\n",
    "        for i in range(1,len(rings),2):\n",
    "            rgb=[]\n",
    "            if rings[i] not in lst:\n",
    "                lst.append(rings[i])\n",
    "                for j in range(1,len(rings),2):\n",
    "                    if rings[j]==rings[i]:\n",
    "                        if rings[j-1]=='R':\n",
    "                            rgb.append(rings[j-1])\n",
    "                        if rings[j-1]=='G':\n",
    "                            rgb.append(rings[j-1])\n",
    "                        if rings[j-1]=='B':\n",
    "                            rgb.append(rings[j-1])\n",
    "                if len(set(rgb))==3:\n",
    "                    count+=1\n",
    "        return count"
   ]
  },
  {
   "cell_type": "code",
   "execution_count": 3,
   "id": "24e22a7c",
   "metadata": {},
   "outputs": [
    {
     "name": "stdout",
     "output_type": "stream",
     "text": [
      "1\n"
     ]
    }
   ],
   "source": [
    "rings = \"B0B6G0R6R0R6G9\"\n",
    "print(Solution().countPoints(rings))"
   ]
  },
  {
   "cell_type": "code",
   "execution_count": null,
   "id": "c11f94a8",
   "metadata": {},
   "outputs": [],
   "source": []
  }
 ],
 "metadata": {
  "kernelspec": {
   "display_name": "Python 3 (ipykernel)",
   "language": "python",
   "name": "python3"
  },
  "language_info": {
   "codemirror_mode": {
    "name": "ipython",
    "version": 3
   },
   "file_extension": ".py",
   "mimetype": "text/x-python",
   "name": "python",
   "nbconvert_exporter": "python",
   "pygments_lexer": "ipython3",
   "version": "3.11.5"
  }
 },
 "nbformat": 4,
 "nbformat_minor": 5
}
