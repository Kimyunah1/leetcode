{
 "cells": [
  {
   "cell_type": "code",
   "execution_count": 1,
   "id": "fa360554",
   "metadata": {},
   "outputs": [],
   "source": [
    "class Solution:\n",
    "    def minimizedStringLength(self, s: str) -> int:\n",
    "        return len(set(s))"
   ]
  },
  {
   "cell_type": "code",
   "execution_count": 3,
   "id": "939f0bd3",
   "metadata": {},
   "outputs": [
    {
     "name": "stdout",
     "output_type": "stream",
     "text": [
      "3\n"
     ]
    }
   ],
   "source": [
    " s = \"aaabc\"\n",
    "print(Solution().minimizedStringLength( s))"
   ]
  },
  {
   "cell_type": "code",
   "execution_count": null,
   "id": "c8641417",
   "metadata": {},
   "outputs": [],
   "source": []
  }
 ],
 "metadata": {
  "kernelspec": {
   "display_name": "Python 3 (ipykernel)",
   "language": "python",
   "name": "python3"
  },
  "language_info": {
   "codemirror_mode": {
    "name": "ipython",
    "version": 3
   },
   "file_extension": ".py",
   "mimetype": "text/x-python",
   "name": "python",
   "nbconvert_exporter": "python",
   "pygments_lexer": "ipython3",
   "version": "3.11.5"
  }
 },
 "nbformat": 4,
 "nbformat_minor": 5
}
