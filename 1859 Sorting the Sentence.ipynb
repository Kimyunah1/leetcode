{
 "cells": [
  {
   "cell_type": "code",
   "execution_count": 6,
   "id": "2d3d7c21",
   "metadata": {},
   "outputs": [],
   "source": [
    "class Solution:\n",
    "    def sortSentence(self, s: str) -> str:\n",
    "        words = s.split(' ')\n",
    "        arr= ['']*len(words)\n",
    "        for i in range(0,len(words)):\n",
    "            index = words[i][-1]\n",
    "            value = words[i].replace(index,'')\n",
    "            arr[int(index)-1] = value\n",
    "\n",
    "        return ' '.join(arr)"
   ]
  },
  {
   "cell_type": "code",
   "execution_count": 7,
   "id": "3099db95",
   "metadata": {},
   "outputs": [
    {
     "name": "stdout",
     "output_type": "stream",
     "text": [
      "This is a sentence\n"
     ]
    }
   ],
   "source": [
    "s = \"is2 sentence4 This1 a3\"\n",
    "print(Solution().sortSentence(s))"
   ]
  },
  {
   "cell_type": "code",
   "execution_count": null,
   "id": "f16a2bb9",
   "metadata": {},
   "outputs": [],
   "source": []
  },
  {
   "cell_type": "code",
   "execution_count": null,
   "id": "a763fb60",
   "metadata": {},
   "outputs": [],
   "source": []
  }
 ],
 "metadata": {
  "kernelspec": {
   "display_name": "Python 3 (ipykernel)",
   "language": "python",
   "name": "python3"
  },
  "language_info": {
   "codemirror_mode": {
    "name": "ipython",
    "version": 3
   },
   "file_extension": ".py",
   "mimetype": "text/x-python",
   "name": "python",
   "nbconvert_exporter": "python",
   "pygments_lexer": "ipython3",
   "version": "3.11.5"
  }
 },
 "nbformat": 4,
 "nbformat_minor": 5
}
