{
 "cells": [
  {
   "cell_type": "code",
   "execution_count": 1,
   "id": "1551d9f7",
   "metadata": {},
   "outputs": [],
   "source": [
    "class Solution:\n",
    "    def numberOfMatches(self, n: int) -> int:\n",
    "        count = 0\n",
    "        while n > 1:\n",
    "            if n % 2 == 0: \n",
    "                count += n/2\n",
    "                n = n/2\n",
    "            else:\n",
    "                count += (n-1)/2\n",
    "                n = (n-1)/2 +1\n",
    "\n",
    "\n",
    "        return int(count)"
   ]
  },
  {
   "cell_type": "code",
   "execution_count": 2,
   "id": "a3cb92e6",
   "metadata": {},
   "outputs": [
    {
     "name": "stdout",
     "output_type": "stream",
     "text": [
      "6\n"
     ]
    }
   ],
   "source": [
    "n = 7\n",
    "print(Solution().numberOfMatches(n))"
   ]
  },
  {
   "cell_type": "code",
   "execution_count": null,
   "id": "3111aa01",
   "metadata": {},
   "outputs": [],
   "source": []
  }
 ],
 "metadata": {
  "kernelspec": {
   "display_name": "Python 3 (ipykernel)",
   "language": "python",
   "name": "python3"
  },
  "language_info": {
   "codemirror_mode": {
    "name": "ipython",
    "version": 3
   },
   "file_extension": ".py",
   "mimetype": "text/x-python",
   "name": "python",
   "nbconvert_exporter": "python",
   "pygments_lexer": "ipython3",
   "version": "3.11.5"
  }
 },
 "nbformat": 4,
 "nbformat_minor": 5
}
