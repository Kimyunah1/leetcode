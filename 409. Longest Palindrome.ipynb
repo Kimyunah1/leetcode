{
 "cells": [
  {
   "cell_type": "code",
   "execution_count": 1,
   "id": "756d678d",
   "metadata": {},
   "outputs": [],
   "source": [
    "class Solution:\n",
    "    def longestPalindrome(self, s: str) -> int:\n",
    "        odd_count = 0\n",
    "        d = {}\n",
    "        for ch in s:\n",
    "            if ch in d:\n",
    "                d[ch] += 1\n",
    "            else:\n",
    "                d[ch] = 1\n",
    "            if d[ch] % 2 == 1:\n",
    "                odd_count += 1\n",
    "            else:\n",
    "                odd_count -= 1\n",
    "        if odd_count > 1:\n",
    "            return len(s) - odd_count + 1\n",
    "        return len(s)"
   ]
  },
  {
   "cell_type": "code",
   "execution_count": 2,
   "id": "b3c3c72f",
   "metadata": {},
   "outputs": [
    {
     "name": "stdout",
     "output_type": "stream",
     "text": [
      "7\n"
     ]
    }
   ],
   "source": [
    "s = \"abccccdd\"\n",
    "    \n",
    "print(Solution().longestPalindrome( s))"
   ]
  },
  {
   "cell_type": "code",
   "execution_count": null,
   "id": "b833e144",
   "metadata": {},
   "outputs": [],
   "source": []
  }
 ],
 "metadata": {
  "kernelspec": {
   "display_name": "Python 3 (ipykernel)",
   "language": "python",
   "name": "python3"
  },
  "language_info": {
   "codemirror_mode": {
    "name": "ipython",
    "version": 3
   },
   "file_extension": ".py",
   "mimetype": "text/x-python",
   "name": "python",
   "nbconvert_exporter": "python",
   "pygments_lexer": "ipython3",
   "version": "3.11.5"
  }
 },
 "nbformat": 4,
 "nbformat_minor": 5
}
