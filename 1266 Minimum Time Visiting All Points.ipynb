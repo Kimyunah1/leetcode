{
 "cells": [
  {
   "cell_type": "code",
   "execution_count": 1,
   "id": "46c68d09",
   "metadata": {},
   "outputs": [],
   "source": [
    "from typing import List\n",
    "class Solution:\n",
    "    def minTimeToVisitAllPoints(self, points: List[List[int]]) -> int:\n",
    "        time = 0\n",
    "        for i in range(1,len(points)):\n",
    "            \n",
    "            prevpoint = points[i-1]\n",
    "            currpoint = points[i]\n",
    "\n",
    "            x = abs(prevpoint[0]-currpoint[0])\n",
    "            y = abs(prevpoint[1]-currpoint[1])\n",
    "\n",
    "            time += max(x,y)\n",
    "        \n",
    "        return time"
   ]
  },
  {
   "cell_type": "code",
   "execution_count": 2,
   "id": "ba6221e1",
   "metadata": {},
   "outputs": [
    {
     "name": "stdout",
     "output_type": "stream",
     "text": [
      "7\n"
     ]
    }
   ],
   "source": [
    "points = [[1,1],[3,4],[-1,0]]\n",
    "print(Solution().minTimeToVisitAllPoints(points))"
   ]
  },
  {
   "cell_type": "code",
   "execution_count": null,
   "id": "cd0e2b95",
   "metadata": {},
   "outputs": [],
   "source": []
  }
 ],
 "metadata": {
  "kernelspec": {
   "display_name": "Python 3 (ipykernel)",
   "language": "python",
   "name": "python3"
  },
  "language_info": {
   "codemirror_mode": {
    "name": "ipython",
    "version": 3
   },
   "file_extension": ".py",
   "mimetype": "text/x-python",
   "name": "python",
   "nbconvert_exporter": "python",
   "pygments_lexer": "ipython3",
   "version": "3.11.5"
  }
 },
 "nbformat": 4,
 "nbformat_minor": 5
}
