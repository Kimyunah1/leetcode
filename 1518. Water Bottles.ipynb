{
 "cells": [
  {
   "cell_type": "code",
   "execution_count": 1,
   "id": "a037ae8c",
   "metadata": {},
   "outputs": [],
   "source": [
    "class Solution:\n",
    "    def numWaterBottles(self, numBottles: int, numExchange: int) -> int:\n",
    "        drank , left = [numBottles] * 2\n",
    "        \n",
    "        while left >= numExchange:\n",
    "            left -= numExchange - 1\n",
    "            drank += 1\n",
    "        \n",
    "        return drank"
   ]
  },
  {
   "cell_type": "code",
   "execution_count": 2,
   "id": "6936e4b6",
   "metadata": {},
   "outputs": [
    {
     "name": "stdout",
     "output_type": "stream",
     "text": [
      "19\n"
     ]
    }
   ],
   "source": [
    "numBottles = 15\n",
    "numExchange = 4\n",
    "\n",
    "print(Solution().numWaterBottles(numBottles, numExchange))"
   ]
  },
  {
   "cell_type": "code",
   "execution_count": null,
   "id": "43e8c702",
   "metadata": {},
   "outputs": [],
   "source": []
  }
 ],
 "metadata": {
  "kernelspec": {
   "display_name": "Python 3 (ipykernel)",
   "language": "python",
   "name": "python3"
  },
  "language_info": {
   "codemirror_mode": {
    "name": "ipython",
    "version": 3
   },
   "file_extension": ".py",
   "mimetype": "text/x-python",
   "name": "python",
   "nbconvert_exporter": "python",
   "pygments_lexer": "ipython3",
   "version": "3.11.5"
  }
 },
 "nbformat": 4,
 "nbformat_minor": 5
}
