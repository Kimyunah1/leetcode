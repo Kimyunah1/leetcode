{
 "cells": [
  {
   "cell_type": "code",
   "execution_count": 1,
   "id": "3b7f3076",
   "metadata": {},
   "outputs": [],
   "source": [
    "class Solution:\n",
    "    def greatestLetter(self, s: str) -> str:\n",
    "        common_letters = [i for i in set(s) if i.lower() in s and i.upper() in s]\n",
    "        if common_letters:\n",
    "            return max(common_letters).upper()\n",
    "        else:\n",
    "            return \"\""
   ]
  },
  {
   "cell_type": "code",
   "execution_count": 2,
   "id": "4dec84a8",
   "metadata": {},
   "outputs": [
    {
     "name": "stdout",
     "output_type": "stream",
     "text": [
      "E\n"
     ]
    }
   ],
   "source": [
    "s = \"lEeTcOdE\"\n",
    "\n",
    "print(Solution().greatestLetter(s))"
   ]
  },
  {
   "cell_type": "code",
   "execution_count": null,
   "id": "d92d31c7",
   "metadata": {},
   "outputs": [],
   "source": []
  }
 ],
 "metadata": {
  "kernelspec": {
   "display_name": "Python 3 (ipykernel)",
   "language": "python",
   "name": "python3"
  },
  "language_info": {
   "codemirror_mode": {
    "name": "ipython",
    "version": 3
   },
   "file_extension": ".py",
   "mimetype": "text/x-python",
   "name": "python",
   "nbconvert_exporter": "python",
   "pygments_lexer": "ipython3",
   "version": "3.11.5"
  }
 },
 "nbformat": 4,
 "nbformat_minor": 5
}
