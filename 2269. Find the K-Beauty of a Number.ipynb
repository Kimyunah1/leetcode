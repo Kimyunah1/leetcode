{
 "cells": [
  {
   "cell_type": "code",
   "execution_count": 1,
   "id": "3a345dff",
   "metadata": {},
   "outputs": [],
   "source": [
    "class Solution:\n",
    "    def divisorSubstrings(self, num: int, k: int) -> int:\n",
    "        numstr = str(num)\n",
    "        l = [numstr[i:i + k] for i in range(len(numstr)-k+1)]\n",
    "        count = 0\n",
    "\n",
    "        for n in l:\n",
    "            if int(n) !=0 and num % int(n) == 0:\n",
    "                count += 1\n",
    "\n",
    "        return count"
   ]
  },
  {
   "cell_type": "code",
   "execution_count": 2,
   "id": "e36149da",
   "metadata": {},
   "outputs": [
    {
     "name": "stdout",
     "output_type": "stream",
     "text": [
      "2\n"
     ]
    }
   ],
   "source": [
    "num = 240\n",
    "k = 2\n",
    "\n",
    "print(Solution().divisorSubstrings(num, k))"
   ]
  },
  {
   "cell_type": "code",
   "execution_count": null,
   "id": "37559f7d",
   "metadata": {},
   "outputs": [],
   "source": []
  }
 ],
 "metadata": {
  "kernelspec": {
   "display_name": "Python 3 (ipykernel)",
   "language": "python",
   "name": "python3"
  },
  "language_info": {
   "codemirror_mode": {
    "name": "ipython",
    "version": 3
   },
   "file_extension": ".py",
   "mimetype": "text/x-python",
   "name": "python",
   "nbconvert_exporter": "python",
   "pygments_lexer": "ipython3",
   "version": "3.11.5"
  }
 },
 "nbformat": 4,
 "nbformat_minor": 5
}
