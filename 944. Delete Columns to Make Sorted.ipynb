{
 "cells": [
  {
   "cell_type": "code",
   "execution_count": 1,
   "id": "a8cf8393",
   "metadata": {},
   "outputs": [],
   "source": [
    "from typing import List\n",
    "class Solution:\n",
    "    def minDeletionSize(self, strs: List[str]) -> int:\n",
    "        num_columns = len(strs[0])  \n",
    "        count = 0  \n",
    "        \n",
    "        \n",
    "        for j in range(num_columns):\n",
    "            \n",
    "            for i in range(1, len(strs)):\n",
    "                if strs[i][j] < strs[i-1][j]:\n",
    "                    count += 1\n",
    "                    break\n",
    "        \n",
    "        return count"
   ]
  },
  {
   "cell_type": "code",
   "execution_count": 2,
   "id": "2d90edf9",
   "metadata": {},
   "outputs": [
    {
     "name": "stdout",
     "output_type": "stream",
     "text": [
      "1\n"
     ]
    }
   ],
   "source": [
    "strs = [\"cba\",\"daf\",\"ghi\"]\n",
    "print(Solution().minDeletionSize(strs))"
   ]
  },
  {
   "cell_type": "code",
   "execution_count": 3,
   "id": "599b84c9",
   "metadata": {},
   "outputs": [
    {
     "name": "stdout",
     "output_type": "stream",
     "text": [
      "0\n"
     ]
    }
   ],
   "source": [
    "strs = [\"a\",\"b\"]\n",
    "print(Solution().minDeletionSize(strs))"
   ]
  },
  {
   "cell_type": "code",
   "execution_count": null,
   "id": "b754059d",
   "metadata": {},
   "outputs": [],
   "source": []
  }
 ],
 "metadata": {
  "kernelspec": {
   "display_name": "Python 3 (ipykernel)",
   "language": "python",
   "name": "python3"
  },
  "language_info": {
   "codemirror_mode": {
    "name": "ipython",
    "version": 3
   },
   "file_extension": ".py",
   "mimetype": "text/x-python",
   "name": "python",
   "nbconvert_exporter": "python",
   "pygments_lexer": "ipython3",
   "version": "3.11.5"
  }
 },
 "nbformat": 4,
 "nbformat_minor": 5
}
