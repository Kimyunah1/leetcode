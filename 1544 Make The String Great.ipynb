{
 "cells": [
  {
   "cell_type": "code",
   "execution_count": 4,
   "id": "fd765ec5",
   "metadata": {},
   "outputs": [],
   "source": [
    "class Solution:\n",
    "    def makeGood(self, s: str) -> str:\n",
    "        i = 0\n",
    "        while i < len(s) - 1:\n",
    "            if s[i].swapcase() == s[i+1]:\n",
    "                s = s[:i] + s[i+2:]\n",
    "                i = max(0, i - 1)\n",
    "            else:\n",
    "                i += 1\n",
    "        return s"
   ]
  },
  {
   "cell_type": "code",
   "execution_count": 2,
   "id": "32a04325",
   "metadata": {},
   "outputs": [
    {
     "name": "stdout",
     "output_type": "stream",
     "text": [
      "leetcode\n"
     ]
    }
   ],
   "source": [
    "s = \"leEeetcode\"\n",
    "\n",
    "print(Solution().makeGood(s))"
   ]
  },
  {
   "cell_type": "code",
   "execution_count": null,
   "id": "7ab9e8a3",
   "metadata": {},
   "outputs": [],
   "source": []
  }
 ],
 "metadata": {
  "kernelspec": {
   "display_name": "Python 3 (ipykernel)",
   "language": "python",
   "name": "python3"
  },
  "language_info": {
   "codemirror_mode": {
    "name": "ipython",
    "version": 3
   },
   "file_extension": ".py",
   "mimetype": "text/x-python",
   "name": "python",
   "nbconvert_exporter": "python",
   "pygments_lexer": "ipython3",
   "version": "3.11.5"
  }
 },
 "nbformat": 4,
 "nbformat_minor": 5
}
