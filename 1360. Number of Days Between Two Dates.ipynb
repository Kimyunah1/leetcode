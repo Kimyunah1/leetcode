{
 "cells": [
  {
   "cell_type": "code",
   "execution_count": 1,
   "id": "34ddebf7",
   "metadata": {},
   "outputs": [],
   "source": [
    "from datetime import datetime as dt\n",
    "class Solution:\n",
    "    def daysBetweenDates(self, date1: str, date2: str) -> int:\n",
    "        date1 = date1.split('-')\n",
    "        date2 = date2.split('-')\n",
    "\n",
    "        date1 = [int(i) for i in date1]\n",
    "        date2 = [int(i) for i in date2]\n",
    "\n",
    "        m = dt(date1[0], date1[1], date1[2])\n",
    "        n = dt(date2[0], date2[1], date2[2])\n",
    "\n",
    "        return abs((n-m).days)"
   ]
  },
  {
   "cell_type": "code",
   "execution_count": 2,
   "id": "f8117725",
   "metadata": {},
   "outputs": [
    {
     "name": "stdout",
     "output_type": "stream",
     "text": [
      "15\n"
     ]
    }
   ],
   "source": [
    "date1 = \"2020-01-15\"\n",
    "date2 = \"2019-12-31\"\n",
    "\n",
    "print(Solution().daysBetweenDates(date1, date2))"
   ]
  },
  {
   "cell_type": "code",
   "execution_count": null,
   "id": "133c2294",
   "metadata": {},
   "outputs": [],
   "source": []
  }
 ],
 "metadata": {
  "kernelspec": {
   "display_name": "Python 3 (ipykernel)",
   "language": "python",
   "name": "python3"
  },
  "language_info": {
   "codemirror_mode": {
    "name": "ipython",
    "version": 3
   },
   "file_extension": ".py",
   "mimetype": "text/x-python",
   "name": "python",
   "nbconvert_exporter": "python",
   "pygments_lexer": "ipython3",
   "version": "3.11.5"
  }
 },
 "nbformat": 4,
 "nbformat_minor": 5
}
