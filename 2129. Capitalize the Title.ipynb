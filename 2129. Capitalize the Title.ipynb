{
 "cells": [
  {
   "cell_type": "code",
   "execution_count": 1,
   "id": "8095f587",
   "metadata": {},
   "outputs": [],
   "source": [
    "class Solution:\n",
    "    def capitalizeTitle(self, title: str) -> str:\n",
    "        words = title.split()\n",
    "        result = []\n",
    "\n",
    "        for word in words:\n",
    "            if len(word) > 2:\n",
    "                result.append(word[0].upper() + word[1:].lower())\n",
    "            else:\n",
    "                result.append(word.lower())\n",
    "\n",
    "        return ' '.join(result)"
   ]
  },
  {
   "cell_type": "code",
   "execution_count": 2,
   "id": "3a8e0f62",
   "metadata": {},
   "outputs": [
    {
     "name": "stdout",
     "output_type": "stream",
     "text": [
      "First Letter of Each Word\n"
     ]
    }
   ],
   "source": [
    "title = \"First leTTeR of EACH Word\"\n",
    "\n",
    "print(Solution().capitalizeTitle(title) )"
   ]
  },
  {
   "cell_type": "code",
   "execution_count": null,
   "id": "a94454f3",
   "metadata": {},
   "outputs": [],
   "source": []
  }
 ],
 "metadata": {
  "kernelspec": {
   "display_name": "Python 3 (ipykernel)",
   "language": "python",
   "name": "python3"
  },
  "language_info": {
   "codemirror_mode": {
    "name": "ipython",
    "version": 3
   },
   "file_extension": ".py",
   "mimetype": "text/x-python",
   "name": "python",
   "nbconvert_exporter": "python",
   "pygments_lexer": "ipython3",
   "version": "3.11.5"
  }
 },
 "nbformat": 4,
 "nbformat_minor": 5
}
