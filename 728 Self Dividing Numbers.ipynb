{
 "cells": [
  {
   "cell_type": "code",
   "execution_count": 1,
   "id": "5c69bf95",
   "metadata": {},
   "outputs": [],
   "source": [
    "from typing import List\n",
    "class Solution:\n",
    "    def selfDividingNumbers(self, left: int, right: int) -> List[int]:\n",
    "        nums = []\n",
    "        count = 0\n",
    "\n",
    "        for i in range(left, right+1):\n",
    "            count = 0\n",
    "            s = str(i)\n",
    "            for num in s:\n",
    "                num = int(num)\n",
    "                if num != 0 and i%num ==0:\n",
    "                    count += 1\n",
    "\n",
    "                if count == len(s):\n",
    "                    nums.append(i)\n",
    "\n",
    "        return nums\n"
   ]
  },
  {
   "cell_type": "code",
   "execution_count": 2,
   "id": "6944a8f3",
   "metadata": {},
   "outputs": [
    {
     "name": "stdout",
     "output_type": "stream",
     "text": [
      "[1, 2, 3, 4, 5, 6, 7, 8, 9, 11, 12, 15, 22]\n"
     ]
    }
   ],
   "source": [
    "left = 1\n",
    "right = 22\n",
    "print(Solution().selfDividingNumbers(left, right))"
   ]
  },
  {
   "cell_type": "code",
   "execution_count": null,
   "id": "89a96724",
   "metadata": {},
   "outputs": [],
   "source": []
  }
 ],
 "metadata": {
  "kernelspec": {
   "display_name": "Python 3 (ipykernel)",
   "language": "python",
   "name": "python3"
  },
  "language_info": {
   "codemirror_mode": {
    "name": "ipython",
    "version": 3
   },
   "file_extension": ".py",
   "mimetype": "text/x-python",
   "name": "python",
   "nbconvert_exporter": "python",
   "pygments_lexer": "ipython3",
   "version": "3.11.5"
  }
 },
 "nbformat": 4,
 "nbformat_minor": 5
}
