{
 "cells": [
  {
   "cell_type": "code",
   "execution_count": 1,
   "id": "57397c8d",
   "metadata": {},
   "outputs": [],
   "source": [
    "class Solution:\n",
    "    def detectCapitalUse(self, word: str) -> bool:\n",
    "        return word == word.upper() or word == word.lower() or (word[0] == word[0].upper() and word[1:] == word[1:].lower())"
   ]
  },
  {
   "cell_type": "code",
   "execution_count": 2,
   "id": "40cdb10b",
   "metadata": {},
   "outputs": [
    {
     "name": "stdout",
     "output_type": "stream",
     "text": [
      "True\n"
     ]
    }
   ],
   "source": [
    "word = \"USA\"\n",
    "\n",
    "print(Solution().detectCapitalUse(word))"
   ]
  },
  {
   "cell_type": "code",
   "execution_count": 3,
   "id": "16aa0d46",
   "metadata": {},
   "outputs": [
    {
     "name": "stdout",
     "output_type": "stream",
     "text": [
      "True\n"
     ]
    }
   ],
   "source": [
    "word = \"Google\"\n",
    "\n",
    "print(Solution().detectCapitalUse(word))"
   ]
  },
  {
   "cell_type": "code",
   "execution_count": 4,
   "id": "8ef8557a",
   "metadata": {},
   "outputs": [
    {
     "name": "stdout",
     "output_type": "stream",
     "text": [
      "False\n"
     ]
    }
   ],
   "source": [
    "word = \"FlaG\"\n",
    "\n",
    "print(Solution().detectCapitalUse(word))"
   ]
  },
  {
   "cell_type": "code",
   "execution_count": null,
   "id": "42f81b29",
   "metadata": {},
   "outputs": [],
   "source": []
  }
 ],
 "metadata": {
  "kernelspec": {
   "display_name": "Python 3 (ipykernel)",
   "language": "python",
   "name": "python3"
  },
  "language_info": {
   "codemirror_mode": {
    "name": "ipython",
    "version": 3
   },
   "file_extension": ".py",
   "mimetype": "text/x-python",
   "name": "python",
   "nbconvert_exporter": "python",
   "pygments_lexer": "ipython3",
   "version": "3.11.5"
  }
 },
 "nbformat": 4,
 "nbformat_minor": 5
}
