{
 "cells": [
  {
   "cell_type": "code",
   "execution_count": 1,
   "id": "75e717b9",
   "metadata": {},
   "outputs": [],
   "source": [
    "from typing import List\n",
    "class Solution:\n",
    "    def fizzBuzz(self, n: int) -> List[str]:\n",
    "        l = [str(i) for i in range(1,n+1)]\n",
    "\n",
    "        for s in range(n):\n",
    "            if (s+1)%3 == 0 and (s+1)%5 == 0:\n",
    "                l[s] = \"FizzBuzz\"\n",
    "\n",
    "            elif (s+1) % 3 == 0:\n",
    "                l[s] = \"Fizz\"\n",
    "\n",
    "            elif (s+1) % 5 == 0:\n",
    "                l[s] = \"Buzz\"\n",
    "\n",
    "        return l"
   ]
  },
  {
   "cell_type": "code",
   "execution_count": 2,
   "id": "cf532522",
   "metadata": {},
   "outputs": [
    {
     "name": "stdout",
     "output_type": "stream",
     "text": [
      "['1', '2', 'Fizz', '4', 'Buzz', 'Fizz', '7', '8', 'Fizz', 'Buzz', '11', 'Fizz', '13', '14', 'FizzBuzz']\n"
     ]
    }
   ],
   "source": [
    "n = 15\n",
    "    \n",
    "print(Solution().fizzBuzz(n))"
   ]
  },
  {
   "cell_type": "code",
   "execution_count": null,
   "id": "f82c587d",
   "metadata": {},
   "outputs": [],
   "source": []
  }
 ],
 "metadata": {
  "kernelspec": {
   "display_name": "Python 3 (ipykernel)",
   "language": "python",
   "name": "python3"
  },
  "language_info": {
   "codemirror_mode": {
    "name": "ipython",
    "version": 3
   },
   "file_extension": ".py",
   "mimetype": "text/x-python",
   "name": "python",
   "nbconvert_exporter": "python",
   "pygments_lexer": "ipython3",
   "version": "3.11.5"
  }
 },
 "nbformat": 4,
 "nbformat_minor": 5
}
