{
 "cells": [
  {
   "cell_type": "code",
   "execution_count": 3,
   "id": "8c66f762",
   "metadata": {},
   "outputs": [
    {
     "name": "stdout",
     "output_type": "stream",
     "text": [
      "[2, 3, 5]\n"
     ]
    }
   ],
   "source": [
    "primes = [x for x in range(2, 6) if all(x % i != 0 for i in range(2, int(x**0.5) + 1))]\n",
    "print(primes)"
   ]
  },
  {
   "cell_type": "code",
   "execution_count": 4,
   "id": "b3dfabcc",
   "metadata": {},
   "outputs": [],
   "source": [
    "n = 5\n",
    "primes = [x for x in range(2, n+1) if all(x % i != 0 for i in range(2, int(x**0.5) + 1))]\n"
   ]
  },
  {
   "cell_type": "code",
   "execution_count": 7,
   "id": "c520f4c3",
   "metadata": {},
   "outputs": [],
   "source": [
    "import math\n",
    "\n",
    "class Solution:\n",
    "    def numPrimeArrangements(self, n: int) -> int:\n",
    "        MOD = 10**9 + 7\n",
    "        \n",
    "        \n",
    "        sieve = [True] * (n + 1)\n",
    "        sieve[0] = sieve[1] = False\n",
    "        for start in range(2, int(n**0.5) + 1):\n",
    "            if sieve[start]:\n",
    "                for multiple in range(start * start, n + 1, start):\n",
    "                    sieve[multiple] = False\n",
    "        prime_count = sum(sieve)\n",
    "        \n",
    "        \n",
    "        k = 1\n",
    "        for i in range(2, prime_count + 1):\n",
    "            k = (k * i) % MOD\n",
    "        \n",
    "        l = 1\n",
    "        for i in range(2, n - prime_count + 1):\n",
    "            l = (l * i) % MOD\n",
    "        \n",
    "        return (k * l) % MOD\n",
    "\n"
   ]
  },
  {
   "cell_type": "code",
   "execution_count": 8,
   "id": "420ed58c",
   "metadata": {},
   "outputs": [
    {
     "name": "stdout",
     "output_type": "stream",
     "text": [
      "682289015\n"
     ]
    }
   ],
   "source": [
    "n = 100\n",
    "\n",
    "print(Solution().numPrimeArrangements(n))"
   ]
  },
  {
   "cell_type": "code",
   "execution_count": null,
   "id": "2ee65f2f",
   "metadata": {},
   "outputs": [],
   "source": []
  }
 ],
 "metadata": {
  "kernelspec": {
   "display_name": "Python 3 (ipykernel)",
   "language": "python",
   "name": "python3"
  },
  "language_info": {
   "codemirror_mode": {
    "name": "ipython",
    "version": 3
   },
   "file_extension": ".py",
   "mimetype": "text/x-python",
   "name": "python",
   "nbconvert_exporter": "python",
   "pygments_lexer": "ipython3",
   "version": "3.11.5"
  }
 },
 "nbformat": 4,
 "nbformat_minor": 5
}
