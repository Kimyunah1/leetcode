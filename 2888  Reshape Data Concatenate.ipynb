{
 "cells": [
  {
   "cell_type": "code",
   "execution_count": 1,
   "id": "0277fdcb",
   "metadata": {},
   "outputs": [],
   "source": [
    "import pandas as pd\n",
    "\n",
    "def concatenateTables(df1: pd.DataFrame, df2: pd.DataFrame) -> pd.DataFrame:\n",
    "    return pd.concat([df1, df2])"
   ]
  },
  {
   "cell_type": "code",
   "execution_count": null,
   "id": "7772b747",
   "metadata": {},
   "outputs": [],
   "source": [
    "df1\n",
    "+------------+---------+-----+\n",
    "| student_id | name    | age |\n",
    "+------------+---------+-----+\n",
    "| 1          | Mason   | 8   |\n",
    "| 2          | Ava     | 6   |\n",
    "| 3          | Taylor  | 15  |\n",
    "| 4          | Georgia | 17  |\n",
    "+------------+---------+-----+\n",
    "df2\n",
    "+------------+------+-----+\n",
    "| student_id | name | age |\n",
    "+------------+------+-----+\n",
    "| 5          | Leo  | 7   |\n",
    "| 6          | Alex | 7   |\n",
    "+------------+------+-----+"
   ]
  }
 ],
 "metadata": {
  "kernelspec": {
   "display_name": "Python 3 (ipykernel)",
   "language": "python",
   "name": "python3"
  },
  "language_info": {
   "codemirror_mode": {
    "name": "ipython",
    "version": 3
   },
   "file_extension": ".py",
   "mimetype": "text/x-python",
   "name": "python",
   "nbconvert_exporter": "python",
   "pygments_lexer": "ipython3",
   "version": "3.11.5"
  }
 },
 "nbformat": 4,
 "nbformat_minor": 5
}
