{
 "cells": [
  {
   "cell_type": "code",
   "execution_count": 1,
   "id": "136d8a26",
   "metadata": {},
   "outputs": [],
   "source": [
    "class Solution:\n",
    "    def minMaxDifference(self, num: int) -> int:\n",
    "        maxnum = num\n",
    "        for d in str(maxnum):\n",
    "            if d != \"9\":\n",
    "                maxnum = int(str(maxnum).replace(d,\"9\"))\n",
    "                break\n",
    "        minnum = int(str(num).replace(str(num)[0],\"0\"))\n",
    "        return maxnum - minnum"
   ]
  },
  {
   "cell_type": "code",
   "execution_count": 2,
   "id": "6aa5642c",
   "metadata": {},
   "outputs": [
    {
     "name": "stdout",
     "output_type": "stream",
     "text": [
      "99009\n"
     ]
    }
   ],
   "source": [
    "num = 11891\n",
    "\n",
    "print(Solution().minMaxDifference(num))"
   ]
  },
  {
   "cell_type": "code",
   "execution_count": null,
   "id": "68abfe7d",
   "metadata": {},
   "outputs": [],
   "source": []
  }
 ],
 "metadata": {
  "kernelspec": {
   "display_name": "Python 3 (ipykernel)",
   "language": "python",
   "name": "python3"
  },
  "language_info": {
   "codemirror_mode": {
    "name": "ipython",
    "version": 3
   },
   "file_extension": ".py",
   "mimetype": "text/x-python",
   "name": "python",
   "nbconvert_exporter": "python",
   "pygments_lexer": "ipython3",
   "version": "3.11.5"
  }
 },
 "nbformat": 4,
 "nbformat_minor": 5
}
