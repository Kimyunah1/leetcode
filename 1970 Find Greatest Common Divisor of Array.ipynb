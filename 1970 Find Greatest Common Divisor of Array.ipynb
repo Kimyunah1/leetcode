{
 "cells": [
  {
   "cell_type": "code",
   "execution_count": 4,
   "id": "ca431121",
   "metadata": {},
   "outputs": [],
   "source": [
    "from typing import List\n",
    "import math\n",
    "class Solution:\n",
    "    def findGCD(self, nums: List[int]) -> int:\n",
    "\n",
    "        n = min(nums)\n",
    "        m = max(nums)\n",
    "\n",
    "        return math.gcd(n,m)"
   ]
  },
  {
   "cell_type": "code",
   "execution_count": 5,
   "id": "b808e088",
   "metadata": {},
   "outputs": [
    {
     "name": "stdout",
     "output_type": "stream",
     "text": [
      "2\n"
     ]
    }
   ],
   "source": [
    "nums = [2,5,6,9,10]\n",
    "print(Solution().findGCD(nums))"
   ]
  },
  {
   "cell_type": "code",
   "execution_count": null,
   "id": "897a64af",
   "metadata": {},
   "outputs": [],
   "source": []
  }
 ],
 "metadata": {
  "kernelspec": {
   "display_name": "Python 3 (ipykernel)",
   "language": "python",
   "name": "python3"
  },
  "language_info": {
   "codemirror_mode": {
    "name": "ipython",
    "version": 3
   },
   "file_extension": ".py",
   "mimetype": "text/x-python",
   "name": "python",
   "nbconvert_exporter": "python",
   "pygments_lexer": "ipython3",
   "version": "3.11.5"
  }
 },
 "nbformat": 4,
 "nbformat_minor": 5
}
