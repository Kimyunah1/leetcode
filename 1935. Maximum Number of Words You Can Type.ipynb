{
 "cells": [
  {
   "cell_type": "code",
   "execution_count": 1,
   "id": "0dad4a2c",
   "metadata": {},
   "outputs": [],
   "source": [
    "class Solution:\n",
    "    def canBeTypedWords(self, text: str, brokenLetters: str) -> int:\n",
    "        words = text.split()\n",
    "        count = 0\n",
    "        for word in words:\n",
    "            for i in brokenLetters:\n",
    "                if i in word:\n",
    "                    count += 1\n",
    "                    break\n",
    "        return len(words) - count"
   ]
  },
  {
   "cell_type": "code",
   "execution_count": 3,
   "id": "c8c3fd76",
   "metadata": {},
   "outputs": [
    {
     "name": "stdout",
     "output_type": "stream",
     "text": [
      "1\n"
     ]
    }
   ],
   "source": [
    "text = \"leet code\"\n",
    "brokenLetters = \"lt\"\n",
    "\n",
    "print(Solution().canBeTypedWords(text, brokenLetters))"
   ]
  },
  {
   "cell_type": "code",
   "execution_count": null,
   "id": "be9cbb95",
   "metadata": {},
   "outputs": [],
   "source": []
  }
 ],
 "metadata": {
  "kernelspec": {
   "display_name": "Python 3 (ipykernel)",
   "language": "python",
   "name": "python3"
  },
  "language_info": {
   "codemirror_mode": {
    "name": "ipython",
    "version": 3
   },
   "file_extension": ".py",
   "mimetype": "text/x-python",
   "name": "python",
   "nbconvert_exporter": "python",
   "pygments_lexer": "ipython3",
   "version": "3.11.5"
  }
 },
 "nbformat": 4,
 "nbformat_minor": 5
}
