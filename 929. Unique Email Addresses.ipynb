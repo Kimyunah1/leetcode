{
 "cells": [
  {
   "cell_type": "code",
   "execution_count": 4,
   "id": "df161c95",
   "metadata": {},
   "outputs": [],
   "source": [
    "from typing import List\n",
    "class Solution:\n",
    "    def numUniqueEmails(self, emails: List[str]) -> int:\n",
    "        l = []\n",
    "\n",
    "        for email in emails:\n",
    "            local_part, domain_part = email.split('@')\n",
    "            local_part = local_part.replace('.', '').split('+')[0]\n",
    "            processed_email = local_part + '@' + domain_part\n",
    "            l.append(processed_email)\n",
    "\n",
    "        return len(set(l))"
   ]
  },
  {
   "cell_type": "code",
   "execution_count": 5,
   "id": "18c133c4",
   "metadata": {},
   "outputs": [
    {
     "name": "stdout",
     "output_type": "stream",
     "text": [
      "2\n"
     ]
    }
   ],
   "source": [
    "emails = [\"test.email+alex@leetcode.com\",\"test.e.mail+bob.cathy@leetcode.com\",\"testemail+david@lee.tcode.com\"]\n",
    "\n",
    "print(Solution(). numUniqueEmails(emails))\n"
   ]
  },
  {
   "cell_type": "code",
   "execution_count": null,
   "id": "358852e6",
   "metadata": {},
   "outputs": [],
   "source": []
  }
 ],
 "metadata": {
  "kernelspec": {
   "display_name": "Python 3 (ipykernel)",
   "language": "python",
   "name": "python3"
  },
  "language_info": {
   "codemirror_mode": {
    "name": "ipython",
    "version": 3
   },
   "file_extension": ".py",
   "mimetype": "text/x-python",
   "name": "python",
   "nbconvert_exporter": "python",
   "pygments_lexer": "ipython3",
   "version": "3.11.5"
  }
 },
 "nbformat": 4,
 "nbformat_minor": 5
}
