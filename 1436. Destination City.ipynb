{
 "cells": [
  {
   "cell_type": "code",
   "execution_count": 3,
   "id": "0212a37a",
   "metadata": {},
   "outputs": [],
   "source": [
    "from typing import List\n",
    "class Solution:\n",
    "    def destCity(self, paths: List[List[str]]) -> str:\n",
    "        sec = set(path[1] for path in paths)\n",
    "        fir = set(path[0] for path in paths)\n",
    "        ans = sec - fir\n",
    "        return ans.pop()"
   ]
  },
  {
   "cell_type": "code",
   "execution_count": 4,
   "id": "b6ddb449",
   "metadata": {},
   "outputs": [
    {
     "name": "stdout",
     "output_type": "stream",
     "text": [
      "Sao Paulo\n"
     ]
    }
   ],
   "source": [
    "paths = [[\"London\",\"New York\"],[\"New York\",\"Lima\"],[\"Lima\",\"Sao Paulo\"]]\n",
    "\n",
    "print(Solution().destCity(paths))"
   ]
  },
  {
   "cell_type": "code",
   "execution_count": 5,
   "id": "1b96c103",
   "metadata": {},
   "outputs": [
    {
     "name": "stdout",
     "output_type": "stream",
     "text": [
      "A\n"
     ]
    }
   ],
   "source": [
    "paths = [[\"B\",\"C\"],[\"D\",\"B\"],[\"C\",\"A\"]]\n",
    "    \n",
    "print(Solution().destCity(paths))"
   ]
  },
  {
   "cell_type": "code",
   "execution_count": null,
   "id": "afa4fb4a",
   "metadata": {},
   "outputs": [],
   "source": []
  }
 ],
 "metadata": {
  "kernelspec": {
   "display_name": "Python 3 (ipykernel)",
   "language": "python",
   "name": "python3"
  },
  "language_info": {
   "codemirror_mode": {
    "name": "ipython",
    "version": 3
   },
   "file_extension": ".py",
   "mimetype": "text/x-python",
   "name": "python",
   "nbconvert_exporter": "python",
   "pygments_lexer": "ipython3",
   "version": "3.11.5"
  }
 },
 "nbformat": 4,
 "nbformat_minor": 5
}
