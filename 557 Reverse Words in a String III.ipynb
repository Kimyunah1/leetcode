{
 "cells": [
  {
   "cell_type": "code",
   "execution_count": 8,
   "id": "0112ebf3",
   "metadata": {},
   "outputs": [],
   "source": [
    "#s = \"Let's take LeetCode contest\"\n",
    "#new = s.split( )\n",
    "#print(new)\n",
    "#l = []\n",
    "#for i in new:\n",
    "#    l.append(i[::-1])\n",
    "    \n",
    "#print(l)\n",
    "\n",
    "#k = \" \".join(l)\n",
    "#print(k)"
   ]
  },
  {
   "cell_type": "code",
   "execution_count": 9,
   "id": "a435f705",
   "metadata": {},
   "outputs": [],
   "source": [
    "class Solution:\n",
    "    def reverseWords(self, s: str) -> str:\n",
    "        new = s.split( )\n",
    "\n",
    "        l = []\n",
    "        for i in new:\n",
    "            l.append(i[::-1])\n",
    "    \n",
    "\n",
    "        k = \" \".join(l)\n",
    "\n",
    "        return k"
   ]
  },
  {
   "cell_type": "code",
   "execution_count": 7,
   "id": "e0ea8003",
   "metadata": {},
   "outputs": [
    {
     "name": "stdout",
     "output_type": "stream",
     "text": [
      "s'teL ekat edoCteeL tsetnoc\n"
     ]
    }
   ],
   "source": [
    "sol = Solution()\n",
    "s = \"Let's take LeetCode contest\"\n",
    "print(sol.reverseWords(s))"
   ]
  },
  {
   "cell_type": "code",
   "execution_count": null,
   "id": "0cbbfc75",
   "metadata": {},
   "outputs": [],
   "source": []
  }
 ],
 "metadata": {
  "kernelspec": {
   "display_name": "Python 3 (ipykernel)",
   "language": "python",
   "name": "python3"
  },
  "language_info": {
   "codemirror_mode": {
    "name": "ipython",
    "version": 3
   },
   "file_extension": ".py",
   "mimetype": "text/x-python",
   "name": "python",
   "nbconvert_exporter": "python",
   "pygments_lexer": "ipython3",
   "version": "3.11.5"
  }
 },
 "nbformat": 4,
 "nbformat_minor": 5
}
