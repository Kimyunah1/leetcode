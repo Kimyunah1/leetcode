{
 "cells": [
  {
   "cell_type": "code",
   "execution_count": 1,
   "id": "2ed2f8fe",
   "metadata": {},
   "outputs": [],
   "source": [
    "class Solution:\n",
    "    def minLength(self, s: str) -> int:\n",
    "        while \"AB\" in s or \"CD\" in s:\n",
    "            if \"AB\" in s:\n",
    "                s = s.replace(\"AB\",\"\")\n",
    "\n",
    "            elif \"CD\" in s:\n",
    "                s = s.replace(\"CD\",\"\")\n",
    "\n",
    "        return len(s)"
   ]
  },
  {
   "cell_type": "code",
   "execution_count": 2,
   "id": "82adca7b",
   "metadata": {},
   "outputs": [
    {
     "name": "stdout",
     "output_type": "stream",
     "text": [
      "2\n"
     ]
    }
   ],
   "source": [
    "s = \"ABFCACDB\"\n",
    "\n",
    "print(Solution().minLength(s))"
   ]
  },
  {
   "cell_type": "code",
   "execution_count": null,
   "id": "0638b5ea",
   "metadata": {},
   "outputs": [],
   "source": []
  }
 ],
 "metadata": {
  "kernelspec": {
   "display_name": "Python 3 (ipykernel)",
   "language": "python",
   "name": "python3"
  },
  "language_info": {
   "codemirror_mode": {
    "name": "ipython",
    "version": 3
   },
   "file_extension": ".py",
   "mimetype": "text/x-python",
   "name": "python",
   "nbconvert_exporter": "python",
   "pygments_lexer": "ipython3",
   "version": "3.11.5"
  }
 },
 "nbformat": 4,
 "nbformat_minor": 5
}
