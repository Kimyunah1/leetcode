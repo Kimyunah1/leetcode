{
 "cells": [
  {
   "cell_type": "code",
   "execution_count": 1,
   "id": "619af3e9",
   "metadata": {},
   "outputs": [],
   "source": [
    "from typing import List\n",
    "class Solution:\n",
    "    def smallestRangeI(self, nums: List[int], k: int) -> int:\n",
    "        x = max(nums)\n",
    "        y = min(nums)\n",
    "\n",
    "        return max(0,(x-k)-(y+k))"
   ]
  },
  {
   "cell_type": "code",
   "execution_count": 2,
   "id": "52dca184",
   "metadata": {},
   "outputs": [
    {
     "name": "stdout",
     "output_type": "stream",
     "text": [
      "6\n"
     ]
    }
   ],
   "source": [
    "nums = [0,10]\n",
    "k = 2\n",
    "print(Solution().smallestRangeI(nums, k))"
   ]
  },
  {
   "cell_type": "code",
   "execution_count": null,
   "id": "255dd2be",
   "metadata": {},
   "outputs": [],
   "source": []
  }
 ],
 "metadata": {
  "kernelspec": {
   "display_name": "Python 3 (ipykernel)",
   "language": "python",
   "name": "python3"
  },
  "language_info": {
   "codemirror_mode": {
    "name": "ipython",
    "version": 3
   },
   "file_extension": ".py",
   "mimetype": "text/x-python",
   "name": "python",
   "nbconvert_exporter": "python",
   "pygments_lexer": "ipython3",
   "version": "3.11.5"
  }
 },
 "nbformat": 4,
 "nbformat_minor": 5
}
