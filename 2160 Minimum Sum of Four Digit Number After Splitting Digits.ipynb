{
 "cells": [
  {
   "cell_type": "code",
   "execution_count": 7,
   "id": "2654c07b",
   "metadata": {},
   "outputs": [],
   "source": [
    "class Solution:\n",
    "    def minimumSum(self, num: int) -> int:\n",
    "       \n",
    "        new = sorted(str(num))\n",
    "        new1 = new[0] + new[2]\n",
    "        new2 = new[1] + new[3]\n",
    "\n",
    "        return int(new1) + int(new2)\n"
   ]
  },
  {
   "cell_type": "code",
   "execution_count": 8,
   "id": "1de27e81",
   "metadata": {},
   "outputs": [
    {
     "name": "stdout",
     "output_type": "stream",
     "text": [
      "52\n"
     ]
    }
   ],
   "source": [
    "num = 2932\n",
    "print(Solution().minimumSum(num))"
   ]
  },
  {
   "cell_type": "code",
   "execution_count": null,
   "id": "800fd52e",
   "metadata": {},
   "outputs": [],
   "source": []
  }
 ],
 "metadata": {
  "kernelspec": {
   "display_name": "Python 3 (ipykernel)",
   "language": "python",
   "name": "python3"
  },
  "language_info": {
   "codemirror_mode": {
    "name": "ipython",
    "version": 3
   },
   "file_extension": ".py",
   "mimetype": "text/x-python",
   "name": "python",
   "nbconvert_exporter": "python",
   "pygments_lexer": "ipython3",
   "version": "3.11.5"
  }
 },
 "nbformat": 4,
 "nbformat_minor": 5
}
