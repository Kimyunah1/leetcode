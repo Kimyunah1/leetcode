{
 "cells": [
  {
   "cell_type": "code",
   "execution_count": 1,
   "id": "bf4584d3",
   "metadata": {},
   "outputs": [],
   "source": [
    "class Solution:\n",
    "    def minimumRecolors(self, blocks: str, k: int) -> int:\n",
    "        ans = len(blocks)\n",
    "\n",
    "        for i in range(len(blocks)):\n",
    "            s = blocks[i:i+k]\n",
    "\n",
    "            if len(s) == k:\n",
    "                if s.count('W') < ans:\n",
    "                    ans = s.count('W')\n",
    "\n",
    "            else:\n",
    "                break\n",
    "\n",
    "        return ans"
   ]
  },
  {
   "cell_type": "code",
   "execution_count": 2,
   "id": "8b169970",
   "metadata": {},
   "outputs": [
    {
     "name": "stdout",
     "output_type": "stream",
     "text": [
      "3\n"
     ]
    }
   ],
   "source": [
    "blocks = \"WBBWWBBWBW\"\n",
    "k = 7\n",
    "\n",
    "print(Solution().minimumRecolors(blocks, k))"
   ]
  },
  {
   "cell_type": "code",
   "execution_count": null,
   "id": "95fde2d2",
   "metadata": {},
   "outputs": [],
   "source": []
  }
 ],
 "metadata": {
  "kernelspec": {
   "display_name": "Python 3 (ipykernel)",
   "language": "python",
   "name": "python3"
  },
  "language_info": {
   "codemirror_mode": {
    "name": "ipython",
    "version": 3
   },
   "file_extension": ".py",
   "mimetype": "text/x-python",
   "name": "python",
   "nbconvert_exporter": "python",
   "pygments_lexer": "ipython3",
   "version": "3.11.5"
  }
 },
 "nbformat": 4,
 "nbformat_minor": 5
}
