{
 "cells": [
  {
   "cell_type": "code",
   "execution_count": 4,
   "id": "b157854e",
   "metadata": {},
   "outputs": [],
   "source": [
    "class Solution:\n",
    "    def countOperations(self, num1: int, num2: int) -> int:\n",
    "        ans = 0\n",
    "\n",
    "        while num1 and num2:\n",
    "            if num1 >= num2:\n",
    "                num1 -= num2\n",
    "\n",
    "            else:\n",
    "                num2 -= num1\n",
    "\n",
    "            ans += 1\n",
    "\n",
    "        return ans"
   ]
  },
  {
   "cell_type": "code",
   "execution_count": 5,
   "id": "b344d7a4",
   "metadata": {},
   "outputs": [
    {
     "name": "stdout",
     "output_type": "stream",
     "text": [
      "3\n"
     ]
    }
   ],
   "source": [
    "num1 = 2\n",
    "num2 = 3\n",
    "print(Solution().countOperations(num1, num2))"
   ]
  },
  {
   "cell_type": "code",
   "execution_count": null,
   "id": "c02e9437",
   "metadata": {},
   "outputs": [],
   "source": []
  }
 ],
 "metadata": {
  "kernelspec": {
   "display_name": "Python 3 (ipykernel)",
   "language": "python",
   "name": "python3"
  },
  "language_info": {
   "codemirror_mode": {
    "name": "ipython",
    "version": 3
   },
   "file_extension": ".py",
   "mimetype": "text/x-python",
   "name": "python",
   "nbconvert_exporter": "python",
   "pygments_lexer": "ipython3",
   "version": "3.11.5"
  }
 },
 "nbformat": 4,
 "nbformat_minor": 5
}
