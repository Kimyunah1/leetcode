{
 "cells": [
  {
   "cell_type": "code",
   "execution_count": null,
   "id": "72c290f1",
   "metadata": {},
   "outputs": [],
   "source": [
    "class Solution:\n",
    "    def sumOfMultiples(self, n: int) -> int:\n",
    "         \n",
    "        total_sum = 0 \n",
    "        for num in range(1, n+1):\n",
    "            if num % 3 == 0 or num % 5 == 0 or num % 7 == 0:\n",
    "                \n",
    "                total_sum += num\n",
    "\n",
    "        return total_sum"
   ]
  }
 ],
 "metadata": {
  "kernelspec": {
   "display_name": "Python 3 (ipykernel)",
   "language": "python",
   "name": "python3"
  },
  "language_info": {
   "codemirror_mode": {
    "name": "ipython",
    "version": 3
   },
   "file_extension": ".py",
   "mimetype": "text/x-python",
   "name": "python",
   "nbconvert_exporter": "python",
   "pygments_lexer": "ipython3",
   "version": "3.11.5"
  }
 },
 "nbformat": 4,
 "nbformat_minor": 5
}
