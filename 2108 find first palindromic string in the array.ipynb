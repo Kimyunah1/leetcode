{
 "cells": [
  {
   "cell_type": "code",
   "execution_count": 14,
   "id": "aa8eaf7f",
   "metadata": {},
   "outputs": [],
   "source": [
    "from typing import List\n",
    "\n",
    "class Solution:\n",
    "    def firstPalindrome(self, words: List[str]) -> str:\n",
    "        palindrome = \"\"\n",
    "        \n",
    "        for i in words:\n",
    "            n = len(i)\n",
    "\n",
    "            if i == i[::-1]:\n",
    "                palindrome = i\n",
    "                break  \n",
    "\n",
    "        return palindrome\n",
    "    "
   ]
  },
  {
   "cell_type": "code",
   "execution_count": null,
   "id": "814327c1",
   "metadata": {},
   "outputs": [],
   "source": []
  },
  {
   "cell_type": "code",
   "execution_count": 21,
   "id": "3c4ab420",
   "metadata": {},
   "outputs": [
    {
     "name": "stdout",
     "output_type": "stream",
     "text": [
      "ada\n"
     ]
    }
   ],
   "source": [
    "sol = Solution()\n",
    "words = [\"abc\",\"car\",\"ada\",\"racecar\",\"cool\"]\n",
    "print(sol.firstPalindrome(words))"
   ]
  },
  {
   "cell_type": "code",
   "execution_count": null,
   "id": "95507517",
   "metadata": {},
   "outputs": [],
   "source": [
    "\n"
   ]
  },
  {
   "cell_type": "code",
   "execution_count": null,
   "id": "2945f078",
   "metadata": {},
   "outputs": [],
   "source": []
  }
 ],
 "metadata": {
  "kernelspec": {
   "display_name": "Python 3 (ipykernel)",
   "language": "python",
   "name": "python3"
  },
  "language_info": {
   "codemirror_mode": {
    "name": "ipython",
    "version": 3
   },
   "file_extension": ".py",
   "mimetype": "text/x-python",
   "name": "python",
   "nbconvert_exporter": "python",
   "pygments_lexer": "ipython3",
   "version": "3.11.5"
  }
 },
 "nbformat": 4,
 "nbformat_minor": 5
}
