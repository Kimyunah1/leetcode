{
 "cells": [
  {
   "cell_type": "code",
   "execution_count": 1,
   "id": "45ff6754",
   "metadata": {},
   "outputs": [],
   "source": [
    "class Solution:\n",
    "    def wordPattern(self, pattern: str, s: str) -> bool:\n",
    "\n",
    "        l = s.split(\" \")\n",
    "\n",
    "        if len(l)!=len(pattern):\n",
    "            return False\n",
    "\n",
    "        d ={}\n",
    "        se=set()\n",
    "\n",
    "        for i in range(len(pattern)):\n",
    "            if pattern[i] in d:\n",
    "                if d[pattern[i]]!=l[i]:\n",
    "                    return False\n",
    "            else:\n",
    "                if l[i] not in se:\n",
    "                    d[pattern[i]]=l[i]\n",
    "                    se.add(l[i])\n",
    "                else:\n",
    "                    return False\n",
    "        \n",
    "        return True"
   ]
  },
  {
   "cell_type": "code",
   "execution_count": 3,
   "id": "115a909a",
   "metadata": {},
   "outputs": [
    {
     "name": "stdout",
     "output_type": "stream",
     "text": [
      "True\n"
     ]
    }
   ],
   "source": [
    "pattern = \"abba\"\n",
    "s = \"dog cat cat dog\"\n",
    "\n",
    "print(Solution(). wordPattern(pattern, s))"
   ]
  },
  {
   "cell_type": "code",
   "execution_count": null,
   "id": "b7d42d43",
   "metadata": {},
   "outputs": [],
   "source": []
  }
 ],
 "metadata": {
  "kernelspec": {
   "display_name": "Python 3 (ipykernel)",
   "language": "python",
   "name": "python3"
  },
  "language_info": {
   "codemirror_mode": {
    "name": "ipython",
    "version": 3
   },
   "file_extension": ".py",
   "mimetype": "text/x-python",
   "name": "python",
   "nbconvert_exporter": "python",
   "pygments_lexer": "ipython3",
   "version": "3.11.5"
  }
 },
 "nbformat": 4,
 "nbformat_minor": 5
}
