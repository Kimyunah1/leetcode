{
 "cells": [
  {
   "cell_type": "code",
   "execution_count": 1,
   "id": "3e915de3",
   "metadata": {},
   "outputs": [],
   "source": [
    "class Solution:\n",
    "    def alternateDigitSum(self, n: int) -> int:\n",
    "        s= str(n)\n",
    "        count = 0\n",
    "        for i in range(len(s)):\n",
    "            if i%2 == 0:\n",
    "               count +=int(s[i])\n",
    "\n",
    "            else:\n",
    "               count -= int(s[i])\n",
    "\n",
    "        return count\n"
   ]
  },
  {
   "cell_type": "code",
   "execution_count": 2,
   "id": "86e7357a",
   "metadata": {},
   "outputs": [
    {
     "name": "stdout",
     "output_type": "stream",
     "text": [
      "4\n"
     ]
    }
   ],
   "source": [
    "n = 521\n",
    "\n",
    "print(Solution().alternateDigitSum(n))"
   ]
  },
  {
   "cell_type": "code",
   "execution_count": null,
   "id": "1db4c6d1",
   "metadata": {},
   "outputs": [],
   "source": []
  }
 ],
 "metadata": {
  "kernelspec": {
   "display_name": "Python 3 (ipykernel)",
   "language": "python",
   "name": "python3"
  },
  "language_info": {
   "codemirror_mode": {
    "name": "ipython",
    "version": 3
   },
   "file_extension": ".py",
   "mimetype": "text/x-python",
   "name": "python",
   "nbconvert_exporter": "python",
   "pygments_lexer": "ipython3",
   "version": "3.11.5"
  }
 },
 "nbformat": 4,
 "nbformat_minor": 5
}
