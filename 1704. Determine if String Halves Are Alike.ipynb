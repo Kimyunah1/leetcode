{
 "cells": [
  {
   "cell_type": "code",
   "execution_count": 1,
   "id": "91bf2bf3",
   "metadata": {},
   "outputs": [],
   "source": [
    "class Solution:\n",
    "    def halvesAreAlike(self, s: str) -> bool:\n",
    "        left = [l for l in s[:len(s)//2]]\n",
    "        right = [r for r in s[len(s)//2:]]\n",
    "        vowel = ['a', 'e', 'i', 'o', 'u', 'A', 'E', 'I', 'O', 'U']\n",
    "\n",
    "        rcount = 0\n",
    "        lcount = 0\n",
    "\n",
    "        for i in left:\n",
    "            if i in vowel:\n",
    "                lcount += 1\n",
    "\n",
    "        for j in right:\n",
    "            if j in vowel:\n",
    "                rcount += 1\n",
    "\n",
    "        return lcount == rcount"
   ]
  },
  {
   "cell_type": "code",
   "execution_count": 2,
   "id": "f8fbc8f0",
   "metadata": {},
   "outputs": [
    {
     "name": "stdout",
     "output_type": "stream",
     "text": [
      "False\n"
     ]
    }
   ],
   "source": [
    "s = \"textbook\"\n",
    "\n",
    "print(Solution().halvesAreAlike(s))"
   ]
  },
  {
   "cell_type": "code",
   "execution_count": null,
   "id": "25bd462a",
   "metadata": {},
   "outputs": [],
   "source": []
  }
 ],
 "metadata": {
  "kernelspec": {
   "display_name": "Python 3 (ipykernel)",
   "language": "python",
   "name": "python3"
  },
  "language_info": {
   "codemirror_mode": {
    "name": "ipython",
    "version": 3
   },
   "file_extension": ".py",
   "mimetype": "text/x-python",
   "name": "python",
   "nbconvert_exporter": "python",
   "pygments_lexer": "ipython3",
   "version": "3.11.5"
  }
 },
 "nbformat": 4,
 "nbformat_minor": 5
}
