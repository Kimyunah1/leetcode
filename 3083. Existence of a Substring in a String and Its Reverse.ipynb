{
 "cells": [
  {
   "cell_type": "code",
   "execution_count": 1,
   "id": "107c871b",
   "metadata": {},
   "outputs": [],
   "source": [
    "class Solution:\n",
    "    def isSubstringPresent(self, s: str) -> bool:\n",
    "        \n",
    "        for i in range(len(s)-1):\n",
    "            if s[i:i+2][::-1] in s:\n",
    "                return True\n",
    "        return False"
   ]
  },
  {
   "cell_type": "code",
   "execution_count": 2,
   "id": "8b1e472b",
   "metadata": {},
   "outputs": [
    {
     "name": "stdout",
     "output_type": "stream",
     "text": [
      "True\n"
     ]
    }
   ],
   "source": [
    "s = \"leetcode\"\n",
    "\n",
    "print(Solution().isSubstringPresent(s))"
   ]
  },
  {
   "cell_type": "code",
   "execution_count": 3,
   "id": "dad119eb",
   "metadata": {},
   "outputs": [
    {
     "name": "stdout",
     "output_type": "stream",
     "text": [
      "False\n"
     ]
    }
   ],
   "source": [
    "s = \"abcd\"\n",
    "    \n",
    "print(Solution().isSubstringPresent(s))"
   ]
  },
  {
   "cell_type": "code",
   "execution_count": null,
   "id": "4ed13026",
   "metadata": {},
   "outputs": [],
   "source": []
  }
 ],
 "metadata": {
  "kernelspec": {
   "display_name": "Python 3 (ipykernel)",
   "language": "python",
   "name": "python3"
  },
  "language_info": {
   "codemirror_mode": {
    "name": "ipython",
    "version": 3
   },
   "file_extension": ".py",
   "mimetype": "text/x-python",
   "name": "python",
   "nbconvert_exporter": "python",
   "pygments_lexer": "ipython3",
   "version": "3.11.5"
  }
 },
 "nbformat": 4,
 "nbformat_minor": 5
}
