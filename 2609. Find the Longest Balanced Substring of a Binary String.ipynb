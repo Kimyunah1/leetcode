{
 "cells": [
  {
   "cell_type": "code",
   "execution_count": 1,
   "id": "b711cc2a",
   "metadata": {},
   "outputs": [],
   "source": [
    "class Solution:\n",
    "    def findTheLongestBalancedSubstring(self, s: str) -> int:\n",
    "        ans = 0\n",
    "        zeroCnt = 0\n",
    "        oneCnt = 0\n",
    "        cnt = 0\n",
    "        \n",
    "        for i in range(len(s)):\n",
    "            if s[i] == '0':\n",
    "                if oneCnt == zeroCnt:\n",
    "                    ans = max(ans, oneCnt)\n",
    "                oneCnt = 0\n",
    "                zeroCnt += 1\n",
    "            else:\n",
    "                oneCnt += 1\n",
    "                if oneCnt <= zeroCnt:\n",
    "                    ans = max(ans, oneCnt)\n",
    "                if i + 1 < len(s) and s[i + 1] != s[i]:\n",
    "                    zeroCnt = 0\n",
    "                    \n",
    "        return 2 * ans"
   ]
  },
  {
   "cell_type": "code",
   "execution_count": 2,
   "id": "c4a73355",
   "metadata": {},
   "outputs": [
    {
     "name": "stdout",
     "output_type": "stream",
     "text": [
      "4\n"
     ]
    }
   ],
   "source": [
    "s = \"00111\"\n",
    "\n",
    "print(Solution().findTheLongestBalancedSubstring(s))"
   ]
  },
  {
   "cell_type": "code",
   "execution_count": null,
   "id": "b720e083",
   "metadata": {},
   "outputs": [],
   "source": []
  }
 ],
 "metadata": {
  "kernelspec": {
   "display_name": "Python 3 (ipykernel)",
   "language": "python",
   "name": "python3"
  },
  "language_info": {
   "codemirror_mode": {
    "name": "ipython",
    "version": 3
   },
   "file_extension": ".py",
   "mimetype": "text/x-python",
   "name": "python",
   "nbconvert_exporter": "python",
   "pygments_lexer": "ipython3",
   "version": "3.11.5"
  }
 },
 "nbformat": 4,
 "nbformat_minor": 5
}
