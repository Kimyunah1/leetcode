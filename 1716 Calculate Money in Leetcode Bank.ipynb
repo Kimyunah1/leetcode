{
 "cells": [
  {
   "cell_type": "code",
   "execution_count": 5,
   "id": "19aefa6d",
   "metadata": {},
   "outputs": [],
   "source": [
    "class Solution:\n",
    "    def totalMoney(self, n: int) -> int:\n",
    "        res=0\n",
    "        i=1\n",
    "        j=0\n",
    "        count=1\n",
    "        while j<n:\n",
    "            \n",
    "            res+=i\n",
    "            if i==7+count-1:\n",
    "                count+=1\n",
    "                i=count\n",
    "            else:\n",
    "                i+=1\n",
    "            j+=1\n",
    "        \n",
    "        return(res)"
   ]
  },
  {
   "cell_type": "code",
   "execution_count": 2,
   "id": "27883bef",
   "metadata": {},
   "outputs": [
    {
     "name": "stdout",
     "output_type": "stream",
     "text": [
      "37\n"
     ]
    }
   ],
   "source": [
    "n = 10\n",
    "print(Solution().totalMoney(n))"
   ]
  },
  {
   "cell_type": "code",
   "execution_count": null,
   "id": "c3392144",
   "metadata": {},
   "outputs": [],
   "source": []
  }
 ],
 "metadata": {
  "kernelspec": {
   "display_name": "Python 3 (ipykernel)",
   "language": "python",
   "name": "python3"
  },
  "language_info": {
   "codemirror_mode": {
    "name": "ipython",
    "version": 3
   },
   "file_extension": ".py",
   "mimetype": "text/x-python",
   "name": "python",
   "nbconvert_exporter": "python",
   "pygments_lexer": "ipython3",
   "version": "3.11.5"
  }
 },
 "nbformat": 4,
 "nbformat_minor": 5
}
