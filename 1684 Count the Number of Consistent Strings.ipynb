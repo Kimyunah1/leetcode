{
 "cells": [
  {
   "cell_type": "code",
   "execution_count": 13,
   "id": "5ed77ada",
   "metadata": {},
   "outputs": [],
   "source": [
    "#count = 0\n",
    "#allowed = \"ab\"\n",
    "#allowed = set(allowed)\n",
    "#print(allowed)\n",
    "#words = [\"ad\",\"bd\",\"aaab\",\"baa\",\"badab\"]\n",
    "#for word in words:\n",
    "#    for i in word:\n",
    "#        if i not in allowed:\n",
    "#            count += 1\n",
    "             \n",
    "#k = len(words) - count\n",
    "        \n",
    "#print(k)"
   ]
  },
  {
   "cell_type": "code",
   "execution_count": 14,
   "id": "14158939",
   "metadata": {},
   "outputs": [],
   "source": [
    "from typing import List\n",
    "class Solution:\n",
    "    def countConsistentStrings(self, allowed: str, words: List[str]) -> int:\n",
    "        allowed = set(allowed)\n",
    "        count = 0\n",
    "\n",
    "        for word in words:\n",
    "            for i in word:\n",
    "                if i not in allowed:\n",
    "                    count += 1\n",
    "                    break\n",
    "        return len(words) - count\n"
   ]
  },
  {
   "cell_type": "code",
   "execution_count": 15,
   "id": "9933326d",
   "metadata": {},
   "outputs": [
    {
     "name": "stdout",
     "output_type": "stream",
     "text": [
      "2\n"
     ]
    }
   ],
   "source": [
    "allowed = \"ab\"\n",
    "words = [\"ad\",\"bd\",\"aaab\",\"baa\",\"badab\"]\n",
    "print(Solution().countConsistentStrings(allowed, words))"
   ]
  },
  {
   "cell_type": "code",
   "execution_count": null,
   "id": "08612dee",
   "metadata": {},
   "outputs": [],
   "source": []
  }
 ],
 "metadata": {
  "kernelspec": {
   "display_name": "Python 3 (ipykernel)",
   "language": "python",
   "name": "python3"
  },
  "language_info": {
   "codemirror_mode": {
    "name": "ipython",
    "version": 3
   },
   "file_extension": ".py",
   "mimetype": "text/x-python",
   "name": "python",
   "nbconvert_exporter": "python",
   "pygments_lexer": "ipython3",
   "version": "3.11.5"
  }
 },
 "nbformat": 4,
 "nbformat_minor": 5
}
