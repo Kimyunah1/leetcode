{
 "cells": [
  {
   "cell_type": "code",
   "execution_count": 9,
   "id": "5842fea5",
   "metadata": {},
   "outputs": [],
   "source": [
    "class Solution:\n",
    "    def reformat(self, s: str) -> str:\n",
    "        letters = [c for c in s if c.isalpha()]\n",
    "        digits = [c for c in s if c.isdigit()]\n",
    "        if abs(len(letters) - len(digits)) > 1: return \"\"\n",
    "        \n",
    "        rv = []\n",
    "        flag = len(letters) > len(digits)\n",
    "        while letters or digits:\n",
    "            rv.append(letters.pop() if flag else digits.pop())\n",
    "            flag = not flag\n",
    "        return rv"
   ]
  },
  {
   "cell_type": "code",
   "execution_count": 10,
   "id": "0adc5637",
   "metadata": {},
   "outputs": [
    {
     "name": "stdout",
     "output_type": "stream",
     "text": [
      "['2', 'c', '1', 'b', '0', 'a']\n"
     ]
    }
   ],
   "source": [
    "s = \"a0b1c2\"\n",
    "\n",
    "print(Solution().reformat(s))"
   ]
  },
  {
   "cell_type": "code",
   "execution_count": null,
   "id": "52a16b8b",
   "metadata": {},
   "outputs": [],
   "source": []
  }
 ],
 "metadata": {
  "kernelspec": {
   "display_name": "Python 3 (ipykernel)",
   "language": "python",
   "name": "python3"
  },
  "language_info": {
   "codemirror_mode": {
    "name": "ipython",
    "version": 3
   },
   "file_extension": ".py",
   "mimetype": "text/x-python",
   "name": "python",
   "nbconvert_exporter": "python",
   "pygments_lexer": "ipython3",
   "version": "3.11.5"
  }
 },
 "nbformat": 4,
 "nbformat_minor": 5
}
