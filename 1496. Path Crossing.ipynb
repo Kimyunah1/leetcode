{
 "cells": [
  {
   "cell_type": "code",
   "execution_count": 1,
   "id": "6737f65a",
   "metadata": {},
   "outputs": [],
   "source": [
    "class Solution:\n",
    "    def isPathCrossing(self, path: str) -> bool:\n",
    "        x = 0\n",
    "        y = 0\n",
    "        visited = {(0, 0)}\n",
    "\n",
    "        for i in path:\n",
    "            if i == \"N\":\n",
    "                y += 1\n",
    "            elif i == \"S\":\n",
    "                y -= 1\n",
    "            elif i == \"E\":\n",
    "                x += 1\n",
    "            elif i == \"W\":\n",
    "                x -= 1\n",
    "            \n",
    "            current_position = (x, y)\n",
    "            if current_position in visited:\n",
    "                return True\n",
    "            \n",
    "            visited.add(current_position)\n",
    "\n",
    "        return False"
   ]
  },
  {
   "cell_type": "code",
   "execution_count": 2,
   "id": "de4c562f",
   "metadata": {},
   "outputs": [
    {
     "name": "stdout",
     "output_type": "stream",
     "text": [
      "True\n"
     ]
    }
   ],
   "source": [
    "path = \"NESWW\"\n",
    "\n",
    "print(Solution().isPathCrossing(path))"
   ]
  },
  {
   "cell_type": "code",
   "execution_count": 3,
   "id": "b35230bc",
   "metadata": {},
   "outputs": [
    {
     "name": "stdout",
     "output_type": "stream",
     "text": [
      "False\n"
     ]
    }
   ],
   "source": [
    "path = \"NES\"\n",
    "\n",
    "print(Solution().isPathCrossing(path))"
   ]
  },
  {
   "cell_type": "code",
   "execution_count": null,
   "id": "d8941460",
   "metadata": {},
   "outputs": [],
   "source": []
  }
 ],
 "metadata": {
  "kernelspec": {
   "display_name": "Python 3 (ipykernel)",
   "language": "python",
   "name": "python3"
  },
  "language_info": {
   "codemirror_mode": {
    "name": "ipython",
    "version": 3
   },
   "file_extension": ".py",
   "mimetype": "text/x-python",
   "name": "python",
   "nbconvert_exporter": "python",
   "pygments_lexer": "ipython3",
   "version": "3.11.5"
  }
 },
 "nbformat": 4,
 "nbformat_minor": 5
}
