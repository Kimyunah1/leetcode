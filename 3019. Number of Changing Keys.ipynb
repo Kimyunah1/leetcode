{
 "cells": [
  {
   "cell_type": "code",
   "execution_count": 1,
   "id": "069e959b",
   "metadata": {},
   "outputs": [],
   "source": [
    "class Solution:\n",
    "    def countKeyChanges(self, s: str) -> int:\n",
    "        s_low = s.lower()\n",
    "        count = 0\n",
    "        for i in range(len(s)-1):\n",
    "            if s_low[i] != s_low[i+1]:\n",
    "                count += 1\n",
    "\n",
    "        return count"
   ]
  },
  {
   "cell_type": "code",
   "execution_count": 2,
   "id": "7790c30a",
   "metadata": {},
   "outputs": [
    {
     "name": "stdout",
     "output_type": "stream",
     "text": [
      "2\n"
     ]
    }
   ],
   "source": [
    "s = \"aAbBcC\"\n",
    "print( Solution().countKeyChanges(s))"
   ]
  },
  {
   "cell_type": "code",
   "execution_count": null,
   "id": "44242a50",
   "metadata": {},
   "outputs": [],
   "source": []
  }
 ],
 "metadata": {
  "kernelspec": {
   "display_name": "Python 3 (ipykernel)",
   "language": "python",
   "name": "python3"
  },
  "language_info": {
   "codemirror_mode": {
    "name": "ipython",
    "version": 3
   },
   "file_extension": ".py",
   "mimetype": "text/x-python",
   "name": "python",
   "nbconvert_exporter": "python",
   "pygments_lexer": "ipython3",
   "version": "3.11.5"
  }
 },
 "nbformat": 4,
 "nbformat_minor": 5
}
