{
 "cells": [
  {
   "cell_type": "code",
   "execution_count": 1,
   "id": "e8935126",
   "metadata": {},
   "outputs": [],
   "source": [
    "class Solution:\n",
    "    def countGoodSubstrings(self, s: str) -> int:\n",
    "        l = [s[i:i+3] for i in range(len(s)-2) if len(s[i:i+3])==len(set(s[i:i+3]))]\n",
    "        return len(l)"
   ]
  },
  {
   "cell_type": "code",
   "execution_count": 2,
   "id": "314eefc1",
   "metadata": {},
   "outputs": [
    {
     "name": "stdout",
     "output_type": "stream",
     "text": [
      "4\n"
     ]
    }
   ],
   "source": [
    "s = \"aababcabc\"\n",
    "\n",
    "print(Solution().countGoodSubstrings(s))"
   ]
  },
  {
   "cell_type": "code",
   "execution_count": null,
   "id": "86410791",
   "metadata": {},
   "outputs": [],
   "source": []
  }
 ],
 "metadata": {
  "kernelspec": {
   "display_name": "Python 3 (ipykernel)",
   "language": "python",
   "name": "python3"
  },
  "language_info": {
   "codemirror_mode": {
    "name": "ipython",
    "version": 3
   },
   "file_extension": ".py",
   "mimetype": "text/x-python",
   "name": "python",
   "nbconvert_exporter": "python",
   "pygments_lexer": "ipython3",
   "version": "3.11.5"
  }
 },
 "nbformat": 4,
 "nbformat_minor": 5
}
