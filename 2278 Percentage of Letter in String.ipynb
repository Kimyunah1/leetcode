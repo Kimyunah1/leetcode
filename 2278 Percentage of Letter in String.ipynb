{
 "cells": [
  {
   "cell_type": "code",
   "execution_count": 3,
   "id": "44a7279e",
   "metadata": {},
   "outputs": [],
   "source": [
    "import math\n",
    "class Solution:\n",
    "    def percentageLetter(self, s: str, letter: str) -> int:\n",
    "        count = 0\n",
    "\n",
    "        for i in s:\n",
    "            if i == letter:\n",
    "                count += 1\n",
    "\n",
    "        return math.floor((count/len(s))*100)"
   ]
  },
  {
   "cell_type": "code",
   "execution_count": 4,
   "id": "39260df6",
   "metadata": {},
   "outputs": [
    {
     "name": "stdout",
     "output_type": "stream",
     "text": [
      "33\n"
     ]
    }
   ],
   "source": [
    " s = \"foobar\"\n",
    "letter = \"o\"\n",
    "\n",
    "print(Solution().percentageLetter(s, letter))"
   ]
  },
  {
   "cell_type": "code",
   "execution_count": null,
   "id": "42b0c9ca",
   "metadata": {},
   "outputs": [],
   "source": []
  }
 ],
 "metadata": {
  "kernelspec": {
   "display_name": "Python 3 (ipykernel)",
   "language": "python",
   "name": "python3"
  },
  "language_info": {
   "codemirror_mode": {
    "name": "ipython",
    "version": 3
   },
   "file_extension": ".py",
   "mimetype": "text/x-python",
   "name": "python",
   "nbconvert_exporter": "python",
   "pygments_lexer": "ipython3",
   "version": "3.11.5"
  }
 },
 "nbformat": 4,
 "nbformat_minor": 5
}
