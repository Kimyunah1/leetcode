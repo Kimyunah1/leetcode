{
 "cells": [
  {
   "cell_type": "code",
   "execution_count": 3,
   "id": "95255f5a",
   "metadata": {},
   "outputs": [],
   "source": [
    "class Solution:\n",
    "    def areNumbersAscending(self, s: str) -> bool:\n",
    "        nums = [int(word) for word in s.split() if word.isdigit()]\n",
    "        return all(nums[i-1] < nums[i] for i in range(1, len(nums)))\n",
    "\n"
   ]
  },
  {
   "cell_type": "code",
   "execution_count": 4,
   "id": "e13f6e11",
   "metadata": {},
   "outputs": [
    {
     "name": "stdout",
     "output_type": "stream",
     "text": [
      "False\n"
     ]
    }
   ],
   "source": [
    "s = \"sunset is at 7 51 pm overnight lows will be in the low 50 and 60 s\"\n",
    "    \n",
    "print(Solution().areNumbersAscending(s))"
   ]
  },
  {
   "cell_type": "code",
   "execution_count": null,
   "id": "3da70556",
   "metadata": {},
   "outputs": [],
   "source": []
  }
 ],
 "metadata": {
  "kernelspec": {
   "display_name": "Python 3 (ipykernel)",
   "language": "python",
   "name": "python3"
  },
  "language_info": {
   "codemirror_mode": {
    "name": "ipython",
    "version": 3
   },
   "file_extension": ".py",
   "mimetype": "text/x-python",
   "name": "python",
   "nbconvert_exporter": "python",
   "pygments_lexer": "ipython3",
   "version": "3.11.5"
  }
 },
 "nbformat": 4,
 "nbformat_minor": 5
}
