{
 "cells": [
  {
   "cell_type": "code",
   "execution_count": 7,
   "id": "08907b3a",
   "metadata": {},
   "outputs": [],
   "source": [
    "class Solution:\n",
    "    def sortString(self, s: str) -> str:\n",
    "        \n",
    "        freq = {}\n",
    "        letters = sorted(set(s))\n",
    "        res = \"\"\n",
    "        for i in s:\n",
    "            if i in freq:\n",
    "                freq[i]+=1\n",
    "            else:\n",
    "                freq[i] = 1\n",
    "        while freq:\n",
    "            for i in letters:\n",
    "                if  i in freq:\n",
    "                    if freq[i]>0:\n",
    "                        res+=i\n",
    "                        freq[i]-=1\n",
    "                    else:\n",
    "                        del freq[i]\n",
    "\n",
    "            for i in letters[::-1]:\n",
    "                if  i in freq:\n",
    "                    if freq[i]>0:\n",
    "                        res+=i\n",
    "                        freq[i]-=1\n",
    "                    else:\n",
    "                        del freq[i]\n",
    "\n",
    "\n",
    "        return res\n",
    "\n",
    "\n",
    "    \n",
    "    \n",
    "    \n",
    "    \n",
    "             "
   ]
  },
  {
   "cell_type": "code",
   "execution_count": 9,
   "id": "768593c4",
   "metadata": {},
   "outputs": [
    {
     "name": "stdout",
     "output_type": "stream",
     "text": [
      "abccbaabccba\n"
     ]
    }
   ],
   "source": [
    "s = \"aaaabbbbcccc\"\n",
    "print(Solution().sortString(s))"
   ]
  },
  {
   "cell_type": "code",
   "execution_count": null,
   "id": "5849b958",
   "metadata": {},
   "outputs": [],
   "source": []
  }
 ],
 "metadata": {
  "kernelspec": {
   "display_name": "Python 3 (ipykernel)",
   "language": "python",
   "name": "python3"
  },
  "language_info": {
   "codemirror_mode": {
    "name": "ipython",
    "version": 3
   },
   "file_extension": ".py",
   "mimetype": "text/x-python",
   "name": "python",
   "nbconvert_exporter": "python",
   "pygments_lexer": "ipython3",
   "version": "3.11.5"
  }
 },
 "nbformat": 4,
 "nbformat_minor": 5
}
