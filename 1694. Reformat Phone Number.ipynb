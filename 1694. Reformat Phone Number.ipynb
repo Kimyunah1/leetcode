{
 "cells": [
  {
   "cell_type": "code",
   "execution_count": 1,
   "id": "03dc6428",
   "metadata": {},
   "outputs": [],
   "source": [
    "class Solution:\n",
    "    def reformatNumber(self, number: str) -> str:\n",
    "        num = number.replace(' ', '').replace('-','')\n",
    "        l = [num[i:i+3] for i in range(0,len(num),3)]\n",
    "        if len(l[-1]) > 1:\n",
    "            return '-'.join(l)\n",
    "\n",
    "        else:\n",
    "            if len(l) > 2:\n",
    "                return '-'.join(l[:-2]) + '-' + l[-2][:2] + '-' + l[-2][2]+l[-1]\n",
    "\n",
    "            else:\n",
    "                return l[-2][:2] + '-' + l[-2][2]+l[-1]\n",
    "    "
   ]
  },
  {
   "cell_type": "code",
   "execution_count": 2,
   "id": "25925089",
   "metadata": {},
   "outputs": [
    {
     "name": "stdout",
     "output_type": "stream",
     "text": [
      "123-456-78\n"
     ]
    }
   ],
   "source": [
    "number = \"123 4-5678\"\n",
    "\n",
    "print(Solution().reformatNumber(number))"
   ]
  },
  {
   "cell_type": "code",
   "execution_count": null,
   "id": "7d1c1c5a",
   "metadata": {},
   "outputs": [],
   "source": []
  }
 ],
 "metadata": {
  "kernelspec": {
   "display_name": "Python 3 (ipykernel)",
   "language": "python",
   "name": "python3"
  },
  "language_info": {
   "codemirror_mode": {
    "name": "ipython",
    "version": 3
   },
   "file_extension": ".py",
   "mimetype": "text/x-python",
   "name": "python",
   "nbconvert_exporter": "python",
   "pygments_lexer": "ipython3",
   "version": "3.11.5"
  }
 },
 "nbformat": 4,
 "nbformat_minor": 5
}
