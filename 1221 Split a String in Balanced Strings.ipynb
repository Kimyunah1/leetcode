{
 "cells": [
  {
   "cell_type": "code",
   "execution_count": 1,
   "id": "c4a27200",
   "metadata": {},
   "outputs": [],
   "source": [
    "class Solution:\n",
    "    def balancedStringSplit(self, s: str) -> int:\n",
    "        l = 0\n",
    "        r = 0\n",
    "        ans = 0\n",
    "\n",
    "        for i in s:\n",
    "            if i == 'L':\n",
    "                l += 1\n",
    "\n",
    "            if i == 'R':\n",
    "                r += 1\n",
    "\n",
    "            if l == r:\n",
    "                ans += 1\n",
    "\n",
    "        return ans\n"
   ]
  },
  {
   "cell_type": "code",
   "execution_count": 2,
   "id": "0d95d400",
   "metadata": {},
   "outputs": [
    {
     "name": "stdout",
     "output_type": "stream",
     "text": [
      "4\n"
     ]
    }
   ],
   "source": [
    "s = \"RLRRLLRLRL\"\n",
    "print(Solution().balancedStringSplit(s))"
   ]
  },
  {
   "cell_type": "code",
   "execution_count": null,
   "id": "fb4227b4",
   "metadata": {},
   "outputs": [],
   "source": []
  }
 ],
 "metadata": {
  "kernelspec": {
   "display_name": "Python 3 (ipykernel)",
   "language": "python",
   "name": "python3"
  },
  "language_info": {
   "codemirror_mode": {
    "name": "ipython",
    "version": 3
   },
   "file_extension": ".py",
   "mimetype": "text/x-python",
   "name": "python",
   "nbconvert_exporter": "python",
   "pygments_lexer": "ipython3",
   "version": "3.11.5"
  }
 },
 "nbformat": 4,
 "nbformat_minor": 5
}
