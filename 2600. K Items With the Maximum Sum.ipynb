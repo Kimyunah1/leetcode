{
 "cells": [
  {
   "cell_type": "code",
   "execution_count": 1,
   "id": "e80d32c4",
   "metadata": {},
   "outputs": [],
   "source": [
    "class Solution:\n",
    "    def kItemsWithMaximumSum(self, numOnes: int, numZeros: int, numNegOnes: int, k: int) -> int:\n",
    "        if k <= numOnes:\n",
    "            return k\n",
    "\n",
    "        elif k <= numZeros + numOnes:\n",
    "            return numOnes\n",
    "\n",
    "        else:\n",
    "            return numOnes + (-1)*(k -numOnes-numZeros)\n",
    "            "
   ]
  },
  {
   "cell_type": "code",
   "execution_count": 2,
   "id": "cd88d4c8",
   "metadata": {},
   "outputs": [
    {
     "name": "stdout",
     "output_type": "stream",
     "text": [
      "3\n"
     ]
    }
   ],
   "source": [
    "numOnes = 3\n",
    "numZeros = 2 \n",
    "numNegOnes = 0\n",
    "k = 4\n",
    "\n",
    "print(Solution().kItemsWithMaximumSum(numOnes, numZeros, numNegOnes, k))"
   ]
  },
  {
   "cell_type": "code",
   "execution_count": null,
   "id": "ff748f2f",
   "metadata": {},
   "outputs": [],
   "source": []
  }
 ],
 "metadata": {
  "kernelspec": {
   "display_name": "Python 3 (ipykernel)",
   "language": "python",
   "name": "python3"
  },
  "language_info": {
   "codemirror_mode": {
    "name": "ipython",
    "version": 3
   },
   "file_extension": ".py",
   "mimetype": "text/x-python",
   "name": "python",
   "nbconvert_exporter": "python",
   "pygments_lexer": "ipython3",
   "version": "3.11.5"
  }
 },
 "nbformat": 4,
 "nbformat_minor": 5
}
