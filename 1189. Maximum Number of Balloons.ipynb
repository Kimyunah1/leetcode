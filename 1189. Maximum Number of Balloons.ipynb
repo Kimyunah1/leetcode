{
 "cells": [
  {
   "cell_type": "code",
   "execution_count": 1,
   "id": "1b5fed25",
   "metadata": {},
   "outputs": [],
   "source": [
    "class Solution:\n",
    "    def maxNumberOfBalloons(self, text: str) -> int:\n",
    "        b = text.count('b')\n",
    "        a = text.count('a')\n",
    "        l = text.count('l')//2\n",
    "        o = text.count('o')//2\n",
    "        n = text.count('n')\n",
    "\n",
    "        return min(b,a,l,o,n)"
   ]
  },
  {
   "cell_type": "code",
   "execution_count": 2,
   "id": "b8904b03",
   "metadata": {},
   "outputs": [
    {
     "name": "stdout",
     "output_type": "stream",
     "text": [
      "2\n"
     ]
    }
   ],
   "source": [
    "text = \"loonbalxballpoon\"\n",
    "\n",
    "print(Solution().maxNumberOfBalloons(text))"
   ]
  },
  {
   "cell_type": "code",
   "execution_count": null,
   "id": "356889c5",
   "metadata": {},
   "outputs": [],
   "source": []
  }
 ],
 "metadata": {
  "kernelspec": {
   "display_name": "Python 3 (ipykernel)",
   "language": "python",
   "name": "python3"
  },
  "language_info": {
   "codemirror_mode": {
    "name": "ipython",
    "version": 3
   },
   "file_extension": ".py",
   "mimetype": "text/x-python",
   "name": "python",
   "nbconvert_exporter": "python",
   "pygments_lexer": "ipython3",
   "version": "3.11.5"
  }
 },
 "nbformat": 4,
 "nbformat_minor": 5
}
