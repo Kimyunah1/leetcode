{
 "cells": [
  {
   "cell_type": "code",
   "execution_count": 5,
   "id": "088a61ce",
   "metadata": {},
   "outputs": [],
   "source": [
    "class Solution:\n",
    "    def differenceOfSums(self, n: int, m: int) -> int:\n",
    "        list1 = list(range(1, n+1))\n",
    "        total1 = 0\n",
    "        total2 = 0\n",
    "\n",
    "        for i in list1:\n",
    "            if i % m == 0:\n",
    "                total1 += i\n",
    "\n",
    "            else:\n",
    "                total2 += i\n",
    "\n",
    "        return (total2 - total1)"
   ]
  },
  {
   "cell_type": "code",
   "execution_count": 6,
   "id": "1710bd57",
   "metadata": {},
   "outputs": [
    {
     "name": "stdout",
     "output_type": "stream",
     "text": [
      "19\n"
     ]
    }
   ],
   "source": [
    "sol = Solution()\n",
    "n = 10\n",
    "m = 3\n",
    "print(sol. differenceOfSums( n, m))"
   ]
  },
  {
   "cell_type": "code",
   "execution_count": null,
   "id": "be39c8ef",
   "metadata": {},
   "outputs": [],
   "source": []
  }
 ],
 "metadata": {
  "kernelspec": {
   "display_name": "Python 3 (ipykernel)",
   "language": "python",
   "name": "python3"
  },
  "language_info": {
   "codemirror_mode": {
    "name": "ipython",
    "version": 3
   },
   "file_extension": ".py",
   "mimetype": "text/x-python",
   "name": "python",
   "nbconvert_exporter": "python",
   "pygments_lexer": "ipython3",
   "version": "3.11.5"
  }
 },
 "nbformat": 4,
 "nbformat_minor": 5
}
