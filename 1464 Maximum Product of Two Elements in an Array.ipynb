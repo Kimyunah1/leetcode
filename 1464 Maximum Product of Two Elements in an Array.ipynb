{
 "cells": [
  {
   "cell_type": "code",
   "execution_count": 3,
   "id": "b77e30e9",
   "metadata": {},
   "outputs": [],
   "source": [
    "from typing import List\n",
    "class Solution:\n",
    "    def maxProduct(self, nums: List[int]) -> int:\n",
    "        nn = sorted(nums,reverse=True)\n",
    "\n",
    "        return (nn[0] -1)*(nn[1]-1)"
   ]
  },
  {
   "cell_type": "code",
   "execution_count": 4,
   "id": "fb74299d",
   "metadata": {},
   "outputs": [
    {
     "name": "stdout",
     "output_type": "stream",
     "text": [
      "12\n"
     ]
    }
   ],
   "source": [
    "nums = [3,4,5,2]\n",
    "print(Solution().maxProduct(nums))"
   ]
  },
  {
   "cell_type": "code",
   "execution_count": null,
   "id": "23188877",
   "metadata": {},
   "outputs": [],
   "source": []
  }
 ],
 "metadata": {
  "kernelspec": {
   "display_name": "Python 3 (ipykernel)",
   "language": "python",
   "name": "python3"
  },
  "language_info": {
   "codemirror_mode": {
    "name": "ipython",
    "version": 3
   },
   "file_extension": ".py",
   "mimetype": "text/x-python",
   "name": "python",
   "nbconvert_exporter": "python",
   "pygments_lexer": "ipython3",
   "version": "3.11.5"
  }
 },
 "nbformat": 4,
 "nbformat_minor": 5
}
