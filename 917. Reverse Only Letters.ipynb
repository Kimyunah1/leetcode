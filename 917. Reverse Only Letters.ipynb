{
 "cells": [
  {
   "cell_type": "code",
   "execution_count": 1,
   "id": "350cf389",
   "metadata": {},
   "outputs": [],
   "source": [
    "class Solution:\n",
    "    def reverseOnlyLetters(self, s: str) -> str:\n",
    "        k = s[::-1]\n",
    "        l = []\n",
    "\n",
    "        for i in range(len(s)):\n",
    "            if k[i].isalpha():\n",
    "                l.append(k[i])\n",
    "\n",
    "\n",
    "        for i in range(len(s)):\n",
    "            if not s[i].isalpha():\n",
    "                l.insert(i,s[i])\n",
    "\n",
    "        return ''.join(l)\n",
    "        "
   ]
  },
  {
   "cell_type": "code",
   "execution_count": 2,
   "id": "2c546de3",
   "metadata": {},
   "outputs": [
    {
     "name": "stdout",
     "output_type": "stream",
     "text": [
      "Qedo1ct-eeLg=ntse-T!\n"
     ]
    }
   ],
   "source": [
    "s = \"Test1ng-Leet=code-Q!\"\n",
    "\n",
    "print(Solution().reverseOnlyLetters(s))"
   ]
  },
  {
   "cell_type": "code",
   "execution_count": null,
   "id": "fc5e2a31",
   "metadata": {},
   "outputs": [],
   "source": []
  }
 ],
 "metadata": {
  "kernelspec": {
   "display_name": "Python 3 (ipykernel)",
   "language": "python",
   "name": "python3"
  },
  "language_info": {
   "codemirror_mode": {
    "name": "ipython",
    "version": 3
   },
   "file_extension": ".py",
   "mimetype": "text/x-python",
   "name": "python",
   "nbconvert_exporter": "python",
   "pygments_lexer": "ipython3",
   "version": "3.11.5"
  }
 },
 "nbformat": 4,
 "nbformat_minor": 5
}
