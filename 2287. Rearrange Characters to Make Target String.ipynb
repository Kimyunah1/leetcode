{
 "cells": [
  {
   "cell_type": "code",
   "execution_count": 3,
   "id": "14fadf27",
   "metadata": {},
   "outputs": [],
   "source": [
    "from collections import Counter\n",
    "class Solution:\n",
    "    def rearrangeCharacters(self, s: str, target: str) -> int:\n",
    "\n",
    "        counts = Counter(s)\n",
    "\n",
    "        return min(counts[i] // count for i,count in Counter(target).items())"
   ]
  },
  {
   "cell_type": "code",
   "execution_count": 4,
   "id": "4db96e10",
   "metadata": {},
   "outputs": [
    {
     "name": "stdout",
     "output_type": "stream",
     "text": [
      "2\n"
     ]
    }
   ],
   "source": [
    "s = \"ilovecodingonleetcode\"\n",
    "target = \"code\"\n",
    "\n",
    "print(Solution().rearrangeCharacters( s, target))"
   ]
  },
  {
   "cell_type": "code",
   "execution_count": null,
   "id": "c265aa4c",
   "metadata": {},
   "outputs": [],
   "source": []
  }
 ],
 "metadata": {
  "kernelspec": {
   "display_name": "Python 3 (ipykernel)",
   "language": "python",
   "name": "python3"
  },
  "language_info": {
   "codemirror_mode": {
    "name": "ipython",
    "version": 3
   },
   "file_extension": ".py",
   "mimetype": "text/x-python",
   "name": "python",
   "nbconvert_exporter": "python",
   "pygments_lexer": "ipython3",
   "version": "3.11.5"
  }
 },
 "nbformat": 4,
 "nbformat_minor": 5
}
