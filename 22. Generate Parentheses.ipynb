{
 "cells": [
  {
   "cell_type": "code",
   "execution_count": 2,
   "id": "f0b707bb",
   "metadata": {},
   "outputs": [],
   "source": [
    "from typing import List\n",
    "class Solution:\n",
    "    def generateParenthesis(self, n: int) -> List[str]:\n",
    "\n",
    "        memo = {0:[\"\"], 1:[\"()\"]}\n",
    "\n",
    "        if n in memo:\n",
    "            return memo[n]\n",
    "\n",
    "\n",
    "        out = []\n",
    "        for n_inside_parentheses in range(n):\n",
    "            for s in self.generateParenthesis(n_inside_parentheses):\n",
    "                for s_right in self.generateParenthesis(n-1- n_inside_parentheses):\n",
    "                    out.append(\"(\" + s + \")\" + s_right)\n",
    "        memo[n] = out\n",
    "        return out"
   ]
  },
  {
   "cell_type": "code",
   "execution_count": 3,
   "id": "d1fd6733",
   "metadata": {},
   "outputs": [
    {
     "name": "stdout",
     "output_type": "stream",
     "text": [
      "['()()()', '()(())', '(())()', '(()())', '((()))']\n"
     ]
    }
   ],
   "source": [
    "n = 3\n",
    "\n",
    "print(Solution().generateParenthesis(n))"
   ]
  },
  {
   "cell_type": "code",
   "execution_count": null,
   "id": "3839755b",
   "metadata": {},
   "outputs": [],
   "source": []
  }
 ],
 "metadata": {
  "kernelspec": {
   "display_name": "Python 3 (ipykernel)",
   "language": "python",
   "name": "python3"
  },
  "language_info": {
   "codemirror_mode": {
    "name": "ipython",
    "version": 3
   },
   "file_extension": ".py",
   "mimetype": "text/x-python",
   "name": "python",
   "nbconvert_exporter": "python",
   "pygments_lexer": "ipython3",
   "version": "3.11.5"
  }
 },
 "nbformat": 4,
 "nbformat_minor": 5
}
