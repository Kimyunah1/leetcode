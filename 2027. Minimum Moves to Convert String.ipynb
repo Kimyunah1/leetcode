{
 "cells": [
  {
   "cell_type": "code",
   "execution_count": 1,
   "id": "e0c3cd96",
   "metadata": {},
   "outputs": [],
   "source": [
    "class Solution:\n",
    "    def minimumMoves(self, s: str) -> int:\n",
    "        ans = i = 0\n",
    "        while i < len(s): \n",
    "            if s[i] == \"X\": \n",
    "                ans += 1\n",
    "                i += 3\n",
    "            else: i += 1\n",
    "        return ans "
   ]
  },
  {
   "cell_type": "code",
   "execution_count": 2,
   "id": "8a25e356",
   "metadata": {},
   "outputs": [
    {
     "name": "stdout",
     "output_type": "stream",
     "text": [
      "2\n"
     ]
    }
   ],
   "source": [
    "s = \"XXOX\"\n",
    "\n",
    "print(Solution().minimumMoves(s))"
   ]
  },
  {
   "cell_type": "code",
   "execution_count": null,
   "id": "00db03cd",
   "metadata": {},
   "outputs": [],
   "source": []
  }
 ],
 "metadata": {
  "kernelspec": {
   "display_name": "Python 3 (ipykernel)",
   "language": "python",
   "name": "python3"
  },
  "language_info": {
   "codemirror_mode": {
    "name": "ipython",
    "version": 3
   },
   "file_extension": ".py",
   "mimetype": "text/x-python",
   "name": "python",
   "nbconvert_exporter": "python",
   "pygments_lexer": "ipython3",
   "version": "3.11.5"
  }
 },
 "nbformat": 4,
 "nbformat_minor": 5
}
