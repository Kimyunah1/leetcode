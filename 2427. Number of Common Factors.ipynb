{
 "cells": [
  {
   "cell_type": "code",
   "execution_count": null,
   "id": "7de4efd8",
   "metadata": {},
   "outputs": [],
   "source": [
    "class Solution:\n",
    "    def commonFactors(self, a: int, b: int) -> int:\n",
    "\n",
    "        list_a = [i for i in range(1, a+1) if a % i == 0]  \n",
    "        list_b = [i for i in range(1, b+1) if b % i == 0]  \n",
    "        \n",
    "        common = set(list_a) & set(list_b)  \n",
    "        \n",
    "        return len(common)"
   ]
  }
 ],
 "metadata": {
  "kernelspec": {
   "display_name": "Python 3 (ipykernel)",
   "language": "python",
   "name": "python3"
  },
  "language_info": {
   "codemirror_mode": {
    "name": "ipython",
    "version": 3
   },
   "file_extension": ".py",
   "mimetype": "text/x-python",
   "name": "python",
   "nbconvert_exporter": "python",
   "pygments_lexer": "ipython3",
   "version": "3.11.5"
  }
 },
 "nbformat": 4,
 "nbformat_minor": 5
}
