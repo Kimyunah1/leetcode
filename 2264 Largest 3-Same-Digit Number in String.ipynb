{
 "cells": [
  {
   "cell_type": "code",
   "execution_count": 10,
   "id": "293beb80",
   "metadata": {},
   "outputs": [],
   "source": [
    "class Solution:\n",
    "    def largestGoodInteger(self, num: str) -> str:\n",
    "        s = []\n",
    "        \n",
    "        for i in range(len(num)-2):\n",
    "            k = num[i:i+3]\n",
    "            if len(set(k)) == 1:\n",
    "                s.append(k)\n",
    "                \n",
    "        if len(s) != 0:\n",
    "            w = sorted(s)\n",
    "            l = w[-1]\n",
    "            return l\n",
    "\n",
    "                \n",
    "        else:\n",
    "            return \"\""
   ]
  },
  {
   "cell_type": "code",
   "execution_count": 14,
   "id": "9878d98a",
   "metadata": {},
   "outputs": [
    {
     "name": "stdout",
     "output_type": "stream",
     "text": [
      "777\n"
     ]
    }
   ],
   "source": [
    "num = \"6777133339\"\n",
    "print(Solution().largestGoodInteger(num))"
   ]
  },
  {
   "cell_type": "code",
   "execution_count": null,
   "id": "c7156472",
   "metadata": {},
   "outputs": [],
   "source": []
  }
 ],
 "metadata": {
  "kernelspec": {
   "display_name": "Python 3 (ipykernel)",
   "language": "python",
   "name": "python3"
  },
  "language_info": {
   "codemirror_mode": {
    "name": "ipython",
    "version": 3
   },
   "file_extension": ".py",
   "mimetype": "text/x-python",
   "name": "python",
   "nbconvert_exporter": "python",
   "pygments_lexer": "ipython3",
   "version": "3.11.5"
  }
 },
 "nbformat": 4,
 "nbformat_minor": 5
}
