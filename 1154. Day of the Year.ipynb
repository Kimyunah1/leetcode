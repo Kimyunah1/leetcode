{
 "cells": [
  {
   "cell_type": "code",
   "execution_count": 1,
   "id": "0f32fc7f",
   "metadata": {},
   "outputs": [],
   "source": [
    "class Solution:\n",
    "    def dayOfYear(self, date: str) -> int:\n",
    "        days_in_month = [31, 28, 31, 30, 31, 30, 31, 31, 30, 31, 30, 31]\n",
    "        \n",
    "        \n",
    "        year = int(date[:4])\n",
    "        month = int(date[5:7])\n",
    "        day = int(date[8:])\n",
    "        \n",
    "        \n",
    "        is_leap_year = (year % 4 == 0 and (year % 100 != 0 or year % 400 == 0))\n",
    "        \n",
    "        \n",
    "        if is_leap_year:\n",
    "            days_in_month[1] = 29\n",
    "        \n",
    "        \n",
    "        day_of_year = sum(days_in_month[:month-1]) + day\n",
    "        \n",
    "        return day_of_year"
   ]
  },
  {
   "cell_type": "code",
   "execution_count": 2,
   "id": "d77d9379",
   "metadata": {},
   "outputs": [
    {
     "name": "stdout",
     "output_type": "stream",
     "text": [
      "41\n"
     ]
    }
   ],
   "source": [
    "date = \"2019-02-10\"\n",
    "\n",
    "print(Solution().dayOfYear(date))"
   ]
  },
  {
   "cell_type": "code",
   "execution_count": null,
   "id": "7275f415",
   "metadata": {},
   "outputs": [],
   "source": []
  }
 ],
 "metadata": {
  "kernelspec": {
   "display_name": "Python 3 (ipykernel)",
   "language": "python",
   "name": "python3"
  },
  "language_info": {
   "codemirror_mode": {
    "name": "ipython",
    "version": 3
   },
   "file_extension": ".py",
   "mimetype": "text/x-python",
   "name": "python",
   "nbconvert_exporter": "python",
   "pygments_lexer": "ipython3",
   "version": "3.11.5"
  }
 },
 "nbformat": 4,
 "nbformat_minor": 5
}
