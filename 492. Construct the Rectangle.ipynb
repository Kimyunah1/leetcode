{
 "cells": [
  {
   "cell_type": "code",
   "execution_count": 2,
   "id": "13dea053",
   "metadata": {},
   "outputs": [],
   "source": [
    "from typing import List\n",
    "class Solution:\n",
    "    def constructRectangle(self, area: int) -> List[int]:\n",
    "         return next( [area//w, w] for w in range(int(area**0.5), 0, -1) if area % w == 0 )"
   ]
  },
  {
   "cell_type": "code",
   "execution_count": 3,
   "id": "5161127e",
   "metadata": {},
   "outputs": [
    {
     "name": "stdout",
     "output_type": "stream",
     "text": [
      "[427, 286]\n"
     ]
    }
   ],
   "source": [
    "area = 122122\n",
    "\n",
    "print(Solution().constructRectangle(area))"
   ]
  },
  {
   "cell_type": "code",
   "execution_count": null,
   "id": "1862001c",
   "metadata": {},
   "outputs": [],
   "source": []
  }
 ],
 "metadata": {
  "kernelspec": {
   "display_name": "Python 3 (ipykernel)",
   "language": "python",
   "name": "python3"
  },
  "language_info": {
   "codemirror_mode": {
    "name": "ipython",
    "version": 3
   },
   "file_extension": ".py",
   "mimetype": "text/x-python",
   "name": "python",
   "nbconvert_exporter": "python",
   "pygments_lexer": "ipython3",
   "version": "3.11.5"
  }
 },
 "nbformat": 4,
 "nbformat_minor": 5
}
