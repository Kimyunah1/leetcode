{
 "cells": [
  {
   "cell_type": "code",
   "execution_count": 10,
   "id": "5f996663",
   "metadata": {},
   "outputs": [],
   "source": [
    "class Solution:\n",
    "    def maxLengthBetweenEqualCharacters(self, s: str) -> int:\n",
    "        max_distance = -1\n",
    "        for i in range(len(s)):\n",
    "            for j in range(i + 1, len(s)):\n",
    "                if s[i] == s[j]:\n",
    "                    distance = j - i - 1\n",
    "                    max_distance = max(max_distance, distance)\n",
    "                    \n",
    "        return max_distance"
   ]
  },
  {
   "cell_type": "code",
   "execution_count": 11,
   "id": "3b230e9c",
   "metadata": {},
   "outputs": [
    {
     "name": "stdout",
     "output_type": "stream",
     "text": [
      "2\n"
     ]
    }
   ],
   "source": [
    "s = \"abca\"\n",
    "\n",
    "print(Solution().maxLengthBetweenEqualCharacters(s))"
   ]
  },
  {
   "cell_type": "code",
   "execution_count": 12,
   "id": "1a8e67b1",
   "metadata": {},
   "outputs": [
    {
     "name": "stdout",
     "output_type": "stream",
     "text": [
      "-1\n"
     ]
    }
   ],
   "source": [
    "s = \"cbzxy\"\n",
    "print(Solution().maxLengthBetweenEqualCharacters(s))"
   ]
  },
  {
   "cell_type": "code",
   "execution_count": null,
   "id": "f4e182df",
   "metadata": {},
   "outputs": [],
   "source": []
  }
 ],
 "metadata": {
  "kernelspec": {
   "display_name": "Python 3 (ipykernel)",
   "language": "python",
   "name": "python3"
  },
  "language_info": {
   "codemirror_mode": {
    "name": "ipython",
    "version": 3
   },
   "file_extension": ".py",
   "mimetype": "text/x-python",
   "name": "python",
   "nbconvert_exporter": "python",
   "pygments_lexer": "ipython3",
   "version": "3.11.5"
  }
 },
 "nbformat": 4,
 "nbformat_minor": 5
}
