{
 "cells": [
  {
   "cell_type": "code",
   "execution_count": null,
   "id": "437b2522",
   "metadata": {},
   "outputs": [],
   "source": [
    "class Solution:\n",
    "    def replaceDigits(self, s: str) -> str:\n",
    "        \n",
    "        s_list = list(s)\n",
    "\n",
    "        for i in range(1,len(s_list),2):\n",
    "            s_list[i] = chr(ord(s_list[i - 1]) + int(s_list[i]))\n",
    "\n",
    "        return ''.join(s_list)\n",
    "        "
   ]
  }
 ],
 "metadata": {
  "kernelspec": {
   "display_name": "Python 3 (ipykernel)",
   "language": "python",
   "name": "python3"
  },
  "language_info": {
   "codemirror_mode": {
    "name": "ipython",
    "version": 3
   },
   "file_extension": ".py",
   "mimetype": "text/x-python",
   "name": "python",
   "nbconvert_exporter": "python",
   "pygments_lexer": "ipython3",
   "version": "3.11.5"
  }
 },
 "nbformat": 4,
 "nbformat_minor": 5
}
