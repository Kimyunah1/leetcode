{
 "cells": [
  {
   "cell_type": "code",
   "execution_count": 6,
   "id": "85c799c4",
   "metadata": {},
   "outputs": [],
   "source": [
    "from typing import List\n",
    "class Solution:\n",
    "    def plusOne(self, digits: List[int]) -> List[int]:\n",
    "        l = []\n",
    "        for i in digits:    \n",
    "            s = str(i)\n",
    "            l.append(s)\n",
    "        w = str(int(''.join(l)) + 1)\n",
    "\n",
    "        ll = []\n",
    "        for word in w:\n",
    "            ll.append(int(word))\n",
    "            \n",
    "        return ll"
   ]
  },
  {
   "cell_type": "code",
   "execution_count": 7,
   "id": "8b6ce5ac",
   "metadata": {},
   "outputs": [
    {
     "name": "stdout",
     "output_type": "stream",
     "text": [
      "[1, 2, 4]\n"
     ]
    }
   ],
   "source": [
    "digits = [1, 2, 3]\n",
    "print(Solution().plusOne(digits))"
   ]
  },
  {
   "cell_type": "code",
   "execution_count": null,
   "id": "50e61ad3",
   "metadata": {},
   "outputs": [],
   "source": []
  }
 ],
 "metadata": {
  "kernelspec": {
   "display_name": "Python 3 (ipykernel)",
   "language": "python",
   "name": "python3"
  },
  "language_info": {
   "codemirror_mode": {
    "name": "ipython",
    "version": 3
   },
   "file_extension": ".py",
   "mimetype": "text/x-python",
   "name": "python",
   "nbconvert_exporter": "python",
   "pygments_lexer": "ipython3",
   "version": "3.11.5"
  }
 },
 "nbformat": 4,
 "nbformat_minor": 5
}
