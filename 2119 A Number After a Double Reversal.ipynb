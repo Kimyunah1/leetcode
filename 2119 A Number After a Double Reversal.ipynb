{
 "cells": [
  {
   "cell_type": "code",
   "execution_count": 2,
   "id": "cc35286c",
   "metadata": {},
   "outputs": [],
   "source": [
    "class Solution:\n",
    "    def isSameAfterReversals(self, num: int) -> bool:\n",
    "        return len(str(num)) == 1 or str(num)[-1] != \"0\""
   ]
  },
  {
   "cell_type": "code",
   "execution_count": 3,
   "id": "0cd3db86",
   "metadata": {},
   "outputs": [
    {
     "name": "stdout",
     "output_type": "stream",
     "text": [
      "False\n"
     ]
    }
   ],
   "source": [
    "num = 1800\n",
    "print(Solution().isSameAfterReversals(num))"
   ]
  },
  {
   "cell_type": "code",
   "execution_count": null,
   "id": "7038add9",
   "metadata": {},
   "outputs": [],
   "source": []
  }
 ],
 "metadata": {
  "kernelspec": {
   "display_name": "Python 3 (ipykernel)",
   "language": "python",
   "name": "python3"
  },
  "language_info": {
   "codemirror_mode": {
    "name": "ipython",
    "version": 3
   },
   "file_extension": ".py",
   "mimetype": "text/x-python",
   "name": "python",
   "nbconvert_exporter": "python",
   "pygments_lexer": "ipython3",
   "version": "3.11.5"
  }
 },
 "nbformat": 4,
 "nbformat_minor": 5
}
