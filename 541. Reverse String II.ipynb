{
 "cells": [
  {
   "cell_type": "code",
   "execution_count": 7,
   "id": "91783ee1",
   "metadata": {},
   "outputs": [],
   "source": [
    "class Solution:\n",
    "    def reverseStr(self, s: str, k: int) -> str:\n",
    "        l = [s[i:i+k] for i in range(0, len(s), k)]\n",
    "        for j in range(len(l)):\n",
    "            if j%2 == 0:\n",
    "                l[j] = l[j][::-1]\n",
    "\n",
    "        return ''.join(l)"
   ]
  },
  {
   "cell_type": "code",
   "execution_count": 8,
   "id": "4f4f96cb",
   "metadata": {},
   "outputs": [
    {
     "name": "stdout",
     "output_type": "stream",
     "text": [
      "bacdfeg\n"
     ]
    }
   ],
   "source": [
    "s = \"abcdefg\"\n",
    "k = 2\n",
    "\n",
    "print(Solution().reverseStr(s, k))"
   ]
  },
  {
   "cell_type": "code",
   "execution_count": null,
   "id": "852c0ce9",
   "metadata": {},
   "outputs": [],
   "source": []
  }
 ],
 "metadata": {
  "kernelspec": {
   "display_name": "Python 3 (ipykernel)",
   "language": "python",
   "name": "python3"
  },
  "language_info": {
   "codemirror_mode": {
    "name": "ipython",
    "version": 3
   },
   "file_extension": ".py",
   "mimetype": "text/x-python",
   "name": "python",
   "nbconvert_exporter": "python",
   "pygments_lexer": "ipython3",
   "version": "3.11.5"
  }
 },
 "nbformat": 4,
 "nbformat_minor": 5
}
