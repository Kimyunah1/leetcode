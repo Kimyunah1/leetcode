{
 "cells": [
  {
   "cell_type": "code",
   "execution_count": 1,
   "id": "e401221f",
   "metadata": {},
   "outputs": [],
   "source": [
    "class Solution:\n",
    "    def distributeCandies(self, n: int, limit: int) -> int:\n",
    "        count = 0\n",
    "\n",
    "        for i in range(min(n, limit) + 1):\n",
    "            for j in range(min(n - i, limit) + 1):\n",
    "\n",
    "                k = n - i - j\n",
    "                if 0 <= k <= limit:\n",
    "                    count += 1\n",
    "\n",
    "        return count"
   ]
  },
  {
   "cell_type": "code",
   "execution_count": 2,
   "id": "8f37d7eb",
   "metadata": {},
   "outputs": [
    {
     "name": "stdout",
     "output_type": "stream",
     "text": [
      "3\n"
     ]
    }
   ],
   "source": [
    "n = 5\n",
    "limit = 2\n",
    "print(Solution().distributeCandies(n, limit))"
   ]
  },
  {
   "cell_type": "code",
   "execution_count": null,
   "id": "42e085ca",
   "metadata": {},
   "outputs": [],
   "source": []
  }
 ],
 "metadata": {
  "kernelspec": {
   "display_name": "Python 3 (ipykernel)",
   "language": "python",
   "name": "python3"
  },
  "language_info": {
   "codemirror_mode": {
    "name": "ipython",
    "version": 3
   },
   "file_extension": ".py",
   "mimetype": "text/x-python",
   "name": "python",
   "nbconvert_exporter": "python",
   "pygments_lexer": "ipython3",
   "version": "3.11.5"
  }
 },
 "nbformat": 4,
 "nbformat_minor": 5
}
