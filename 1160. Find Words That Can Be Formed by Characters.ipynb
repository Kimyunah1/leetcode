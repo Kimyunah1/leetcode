{
 "cells": [
  {
   "cell_type": "code",
   "execution_count": 12,
   "id": "9e82055c",
   "metadata": {},
   "outputs": [],
   "source": [
    "from collections import Counter\n",
    "from typing import List\n",
    "class Solution:\n",
    "    def countCharacters(self, words: List[str], chars: str) -> int:\n",
    "        char_count = Counter(chars)\n",
    "        count = 0\n",
    "        for word in words:\n",
    "            word_count = Counter(word)\n",
    "            if all(word_count[char] <= char_count[char] for char in word_count):\n",
    "                count += len(word)\n",
    "        return count"
   ]
  },
  {
   "cell_type": "code",
   "execution_count": 13,
   "id": "5fe60d1e",
   "metadata": {},
   "outputs": [
    {
     "name": "stdout",
     "output_type": "stream",
     "text": [
      "6\n"
     ]
    }
   ],
   "source": [
    "words = [\"cat\",\"bt\",\"hat\",\"tree\"]\n",
    "chars = \"atach\"\n",
    "\n",
    "print(Solution().countCharacters(words, chars))"
   ]
  },
  {
   "cell_type": "code",
   "execution_count": 14,
   "id": "8fd01e86",
   "metadata": {},
   "outputs": [
    {
     "name": "stdout",
     "output_type": "stream",
     "text": [
      "10\n"
     ]
    }
   ],
   "source": [
    "words = [\"hello\",\"world\",\"leetcode\"]\n",
    "chars = \"welldonehoneyr\"\n",
    "\n",
    "print(Solution().countCharacters(words, chars))"
   ]
  },
  {
   "cell_type": "code",
   "execution_count": null,
   "id": "e88ef317",
   "metadata": {},
   "outputs": [],
   "source": []
  }
 ],
 "metadata": {
  "kernelspec": {
   "display_name": "Python 3 (ipykernel)",
   "language": "python",
   "name": "python3"
  },
  "language_info": {
   "codemirror_mode": {
    "name": "ipython",
    "version": 3
   },
   "file_extension": ".py",
   "mimetype": "text/x-python",
   "name": "python",
   "nbconvert_exporter": "python",
   "pygments_lexer": "ipython3",
   "version": "3.11.5"
  }
 },
 "nbformat": 4,
 "nbformat_minor": 5
}
