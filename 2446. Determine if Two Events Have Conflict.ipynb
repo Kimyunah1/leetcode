{
 "cells": [
  {
   "cell_type": "code",
   "execution_count": 33,
   "id": "d4773b8a",
   "metadata": {},
   "outputs": [],
   "source": [
    "from typing import List\n",
    "class Solution:\n",
    "    def haveConflict(self, event1: List[str], event2: List[str]) -> bool:\n",
    "        ev1start = event1[0].split(':')\n",
    "        ev1end = event1[1].split(':')\n",
    "\n",
    "        ev2start = event2[0].split(':')\n",
    "        ev2end = event2[1].split(':')\n",
    "\n",
    "\n",
    "        if ev2start > ev1end or ev1start > ev2end:\n",
    "            return False\n",
    "\n",
    "        else:\n",
    "            return True"
   ]
  },
  {
   "cell_type": "code",
   "execution_count": 34,
   "id": "c18cd834",
   "metadata": {},
   "outputs": [
    {
     "name": "stdout",
     "output_type": "stream",
     "text": [
      "True\n"
     ]
    }
   ],
   "source": [
    "event1 = [\"01:00\",\"02:00\"]\n",
    "event2 = [\"01:20\",\"03:00\"]\n",
    "\n",
    "print(Solution().haveConflict(event1, event2))"
   ]
  },
  {
   "cell_type": "code",
   "execution_count": null,
   "id": "64aa5f6f",
   "metadata": {},
   "outputs": [],
   "source": []
  },
  {
   "cell_type": "code",
   "execution_count": null,
   "id": "0148ee46",
   "metadata": {},
   "outputs": [],
   "source": []
  },
  {
   "cell_type": "code",
   "execution_count": null,
   "id": "9af861b7",
   "metadata": {},
   "outputs": [],
   "source": []
  }
 ],
 "metadata": {
  "kernelspec": {
   "display_name": "Python 3 (ipykernel)",
   "language": "python",
   "name": "python3"
  },
  "language_info": {
   "codemirror_mode": {
    "name": "ipython",
    "version": 3
   },
   "file_extension": ".py",
   "mimetype": "text/x-python",
   "name": "python",
   "nbconvert_exporter": "python",
   "pygments_lexer": "ipython3",
   "version": "3.11.5"
  }
 },
 "nbformat": 4,
 "nbformat_minor": 5
}
