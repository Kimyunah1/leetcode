{
 "cells": [
  {
   "cell_type": "code",
   "execution_count": 24,
   "id": "41cd1164",
   "metadata": {},
   "outputs": [],
   "source": [
    "#nums = [1,15,6,3] \n",
    "#k = ''\n",
    "#for num in nums:\n",
    " #   k += str(num)\n",
    "#print(k)"
   ]
  },
  {
   "cell_type": "code",
   "execution_count": 23,
   "id": "a3b423c7",
   "metadata": {},
   "outputs": [],
   "source": [
    "from typing import List\n",
    "class Solution:\n",
    "    def differenceOfSum(self, nums: List[int]) -> int:\n",
    "        element = sum(nums)\n",
    "        k = ''\n",
    "        for num in nums:\n",
    "            k += str(num)\n",
    "\n",
    "        count = 0\n",
    "        for i in k:\n",
    "            count += int(i)\n",
    "\n",
    "        return abs(element - count)\n"
   ]
  },
  {
   "cell_type": "code",
   "execution_count": 25,
   "id": "a08b8f92",
   "metadata": {},
   "outputs": [
    {
     "name": "stdout",
     "output_type": "stream",
     "text": [
      "9\n"
     ]
    }
   ],
   "source": [
    "sol = Solution()\n",
    "nums = [1,15,6,3] \n",
    "print(sol.differenceOfSum(nums))"
   ]
  },
  {
   "cell_type": "code",
   "execution_count": null,
   "id": "00ef79ca",
   "metadata": {},
   "outputs": [],
   "source": []
  }
 ],
 "metadata": {
  "kernelspec": {
   "display_name": "Python 3 (ipykernel)",
   "language": "python",
   "name": "python3"
  },
  "language_info": {
   "codemirror_mode": {
    "name": "ipython",
    "version": 3
   },
   "file_extension": ".py",
   "mimetype": "text/x-python",
   "name": "python",
   "nbconvert_exporter": "python",
   "pygments_lexer": "ipython3",
   "version": "3.11.5"
  }
 },
 "nbformat": 4,
 "nbformat_minor": 5
}
