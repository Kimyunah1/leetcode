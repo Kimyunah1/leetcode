{
 "cells": [
  {
   "cell_type": "code",
   "execution_count": 12,
   "id": "20f9c47e",
   "metadata": {},
   "outputs": [],
   "source": [
    "class Solution:\n",
    "    def maxScore(self, s: str) -> int:\n",
    "        l = 1\n",
    "        score = []\n",
    "\n",
    "        while 1:\n",
    "            \n",
    "            if l == len(s):\n",
    "                break\n",
    "\n",
    "            score.append(s[:l].count('0') + s[l:].count('1'))\n",
    "\n",
    "            l += 1\n",
    "        return max(score)\n"
   ]
  },
  {
   "cell_type": "code",
   "execution_count": 13,
   "id": "f1105f23",
   "metadata": {},
   "outputs": [
    {
     "name": "stdout",
     "output_type": "stream",
     "text": [
      "5\n"
     ]
    }
   ],
   "source": [
    "s = \"011101\"\n",
    "\n",
    "print(Solution().maxScore(s))"
   ]
  },
  {
   "cell_type": "code",
   "execution_count": null,
   "id": "62d4a8dd",
   "metadata": {},
   "outputs": [],
   "source": []
  }
 ],
 "metadata": {
  "kernelspec": {
   "display_name": "Python 3 (ipykernel)",
   "language": "python",
   "name": "python3"
  },
  "language_info": {
   "codemirror_mode": {
    "name": "ipython",
    "version": 3
   },
   "file_extension": ".py",
   "mimetype": "text/x-python",
   "name": "python",
   "nbconvert_exporter": "python",
   "pygments_lexer": "ipython3",
   "version": "3.11.5"
  }
 },
 "nbformat": 4,
 "nbformat_minor": 5
}
