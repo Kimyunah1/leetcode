{
 "cells": [
  {
   "cell_type": "code",
   "execution_count": 1,
   "id": "6551ddcc",
   "metadata": {},
   "outputs": [],
   "source": [
    "class Solution:\n",
    "    def maxDepth(self, s: str) -> int:\n",
    "        depth = 0\n",
    "        max_depth = 0\n",
    "    \n",
    "        for char in s:\n",
    "            if char == '(':\n",
    "                depth += 1\n",
    "                max_depth = max(max_depth, depth)\n",
    "            elif char == ')':\n",
    "                depth -= 1\n",
    "            \n",
    "        return max_depth"
   ]
  },
  {
   "cell_type": "code",
   "execution_count": 2,
   "id": "845ed3dd",
   "metadata": {},
   "outputs": [
    {
     "name": "stdout",
     "output_type": "stream",
     "text": [
      "3\n"
     ]
    }
   ],
   "source": [
    "s = \"(1+(2*3)+((8)/4))+1\"\n",
    "print(Solution().maxDepth(s))"
   ]
  },
  {
   "cell_type": "code",
   "execution_count": null,
   "id": "5ea36ba2",
   "metadata": {},
   "outputs": [],
   "source": []
  }
 ],
 "metadata": {
  "kernelspec": {
   "display_name": "Python 3 (ipykernel)",
   "language": "python",
   "name": "python3"
  },
  "language_info": {
   "codemirror_mode": {
    "name": "ipython",
    "version": 3
   },
   "file_extension": ".py",
   "mimetype": "text/x-python",
   "name": "python",
   "nbconvert_exporter": "python",
   "pygments_lexer": "ipython3",
   "version": "3.11.5"
  }
 },
 "nbformat": 4,
 "nbformat_minor": 5
}
