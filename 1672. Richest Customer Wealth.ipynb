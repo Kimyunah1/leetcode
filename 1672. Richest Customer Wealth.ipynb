{
 "cells": [
  {
   "cell_type": "code",
   "execution_count": 1,
   "id": "86d662f4",
   "metadata": {},
   "outputs": [],
   "source": [
    "from typing import List\n",
    "class Solution:\n",
    "    def maximumWealth(self, accounts: List[List[int]]) -> int:\n",
    "        l = []\n",
    "        for i in accounts:\n",
    "            l.append(sum(i))\n",
    "\n",
    "        return max(l)"
   ]
  },
  {
   "cell_type": "code",
   "execution_count": 2,
   "id": "3d6274ab",
   "metadata": {},
   "outputs": [
    {
     "name": "stdout",
     "output_type": "stream",
     "text": [
      "6\n"
     ]
    }
   ],
   "source": [
    "accounts = [[1,2,3],[3,2,1]]\n",
    "print(Solution().maximumWealth(accounts))"
   ]
  },
  {
   "cell_type": "code",
   "execution_count": null,
   "id": "d996df63",
   "metadata": {},
   "outputs": [],
   "source": []
  }
 ],
 "metadata": {
  "kernelspec": {
   "display_name": "Python 3 (ipykernel)",
   "language": "python",
   "name": "python3"
  },
  "language_info": {
   "codemirror_mode": {
    "name": "ipython",
    "version": 3
   },
   "file_extension": ".py",
   "mimetype": "text/x-python",
   "name": "python",
   "nbconvert_exporter": "python",
   "pygments_lexer": "ipython3",
   "version": "3.11.5"
  }
 },
 "nbformat": 4,
 "nbformat_minor": 5
}
