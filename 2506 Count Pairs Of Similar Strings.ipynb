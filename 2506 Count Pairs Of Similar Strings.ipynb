{
 "cells": [
  {
   "cell_type": "code",
   "execution_count": 1,
   "id": "7a05e15f",
   "metadata": {},
   "outputs": [],
   "source": [
    "from typing import List\n",
    "class Solution:\n",
    "    def similarPairs(self, words: List[str]) -> int:\n",
    "\n",
    "        count = 0\n",
    "\n",
    "        for i in range(len(words)):\n",
    "            for j in range(i):\n",
    "                if set(words[i]) ==  set(words[j]):\n",
    "                    count += 1\n",
    "\n",
    "        return count\n",
    "\n",
    "            "
   ]
  },
  {
   "cell_type": "code",
   "execution_count": 2,
   "id": "af0e3981",
   "metadata": {},
   "outputs": [
    {
     "name": "stdout",
     "output_type": "stream",
     "text": [
      "2\n"
     ]
    }
   ],
   "source": [
    "words = [\"aba\",\"aabb\",\"abcd\",\"bac\",\"aabc\"]\n",
    "\n",
    "print(Solution().similarPairs(words))"
   ]
  },
  {
   "cell_type": "code",
   "execution_count": null,
   "id": "3664d20b",
   "metadata": {},
   "outputs": [],
   "source": []
  }
 ],
 "metadata": {
  "kernelspec": {
   "display_name": "Python 3 (ipykernel)",
   "language": "python",
   "name": "python3"
  },
  "language_info": {
   "codemirror_mode": {
    "name": "ipython",
    "version": 3
   },
   "file_extension": ".py",
   "mimetype": "text/x-python",
   "name": "python",
   "nbconvert_exporter": "python",
   "pygments_lexer": "ipython3",
   "version": "3.11.5"
  }
 },
 "nbformat": 4,
 "nbformat_minor": 5
}
