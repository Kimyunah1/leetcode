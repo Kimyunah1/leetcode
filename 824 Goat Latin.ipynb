{
 "cells": [
  {
   "cell_type": "code",
   "execution_count": 8,
   "id": "78bb8f1c",
   "metadata": {},
   "outputs": [],
   "source": [
    "class Solution:\n",
    "    def toGoatLatin(self, sentence: str) -> str:\n",
    "        vowels = ['a', 'e', 'i', 'o','u','A','E','I','O','U']\n",
    "        l = []\n",
    "\n",
    "        for word in sentence.split():\n",
    "            if word[0].lower() in vowels:\n",
    "                l.append(word + 'ma')\n",
    "            else:\n",
    "                l.append(word[1:] + word[0] + 'ma')\n",
    "\n",
    "\n",
    "        for i in range(len(l)):\n",
    "            l[i] += 'a'*(i+1)\n",
    "\n",
    "        return ' '.join(l)\n",
    "\n",
    "\n"
   ]
  },
  {
   "cell_type": "code",
   "execution_count": 9,
   "id": "f0bb4802",
   "metadata": {},
   "outputs": [
    {
     "name": "stdout",
     "output_type": "stream",
     "text": [
      "Imaa peaksmaaa oatGmaaaa atinLmaaaaa\n"
     ]
    }
   ],
   "source": [
    "sentence = \"I speak Goat Latin\"\n",
    "\n",
    "print(Solution().toGoatLatin(sentence))"
   ]
  },
  {
   "cell_type": "code",
   "execution_count": null,
   "id": "517f336d",
   "metadata": {},
   "outputs": [],
   "source": []
  }
 ],
 "metadata": {
  "kernelspec": {
   "display_name": "Python 3 (ipykernel)",
   "language": "python",
   "name": "python3"
  },
  "language_info": {
   "codemirror_mode": {
    "name": "ipython",
    "version": 3
   },
   "file_extension": ".py",
   "mimetype": "text/x-python",
   "name": "python",
   "nbconvert_exporter": "python",
   "pygments_lexer": "ipython3",
   "version": "3.11.5"
  }
 },
 "nbformat": 4,
 "nbformat_minor": 5
}
