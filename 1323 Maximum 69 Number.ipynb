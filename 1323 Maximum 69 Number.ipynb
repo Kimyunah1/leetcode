{
 "cells": [
  {
   "cell_type": "code",
   "execution_count": 1,
   "id": "fd69afbc",
   "metadata": {},
   "outputs": [],
   "source": [
    "class Solution:\n",
    "    def maximum69Number (self, num: int) -> int:\n",
    "        new = list(str(num))\n",
    "\n",
    "        for i in range(len(new)):\n",
    "            if new[i] == '6':\n",
    "                new[i] = '9'\n",
    "                break\n",
    "            \n",
    "\n",
    "        return int(''.join(new))\n",
    "        \n"
   ]
  },
  {
   "cell_type": "code",
   "execution_count": 2,
   "id": "a1bab256",
   "metadata": {},
   "outputs": [
    {
     "name": "stdout",
     "output_type": "stream",
     "text": [
      "9969\n"
     ]
    }
   ],
   "source": [
    "num = 9669\n",
    "print(Solution().maximum69Number(num))"
   ]
  },
  {
   "cell_type": "code",
   "execution_count": null,
   "id": "41360a23",
   "metadata": {},
   "outputs": [],
   "source": []
  }
 ],
 "metadata": {
  "kernelspec": {
   "display_name": "Python 3 (ipykernel)",
   "language": "python",
   "name": "python3"
  },
  "language_info": {
   "codemirror_mode": {
    "name": "ipython",
    "version": 3
   },
   "file_extension": ".py",
   "mimetype": "text/x-python",
   "name": "python",
   "nbconvert_exporter": "python",
   "pygments_lexer": "ipython3",
   "version": "3.11.5"
  }
 },
 "nbformat": 4,
 "nbformat_minor": 5
}
