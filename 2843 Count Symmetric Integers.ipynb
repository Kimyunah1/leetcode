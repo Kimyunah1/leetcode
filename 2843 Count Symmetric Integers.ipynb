{
 "cells": [
  {
   "cell_type": "code",
   "execution_count": 2,
   "id": "35f46d43",
   "metadata": {},
   "outputs": [],
   "source": [
    "class Solution:\n",
    "    def countSymmetricIntegers(self, low: int, high: int) -> int:\n",
    "        count = 0\n",
    "        for num in range(low, high + 1):\n",
    "            num_str = str(num)\n",
    "            length = len(num_str)\n",
    "            if length % 2 == 0: \n",
    "                first_half = sum(map(int, num_str[:length // 2]))\n",
    "                second_half = sum(map(int, num_str[length // 2:]))\n",
    "                if first_half == second_half:\n",
    "                    count += 1\n",
    "        return count\n"
   ]
  },
  {
   "cell_type": "code",
   "execution_count": 3,
   "id": "b5a26e66",
   "metadata": {},
   "outputs": [
    {
     "name": "stdout",
     "output_type": "stream",
     "text": [
      "4\n"
     ]
    }
   ],
   "source": [
    "low = 1200\n",
    "high = 1230\n",
    "\n",
    "print(Solution().countSymmetricIntegers(low, high))"
   ]
  },
  {
   "cell_type": "code",
   "execution_count": null,
   "id": "03c7352c",
   "metadata": {},
   "outputs": [],
   "source": []
  }
 ],
 "metadata": {
  "kernelspec": {
   "display_name": "Python 3 (ipykernel)",
   "language": "python",
   "name": "python3"
  },
  "language_info": {
   "codemirror_mode": {
    "name": "ipython",
    "version": 3
   },
   "file_extension": ".py",
   "mimetype": "text/x-python",
   "name": "python",
   "nbconvert_exporter": "python",
   "pygments_lexer": "ipython3",
   "version": "3.11.5"
  }
 },
 "nbformat": 4,
 "nbformat_minor": 5
}
