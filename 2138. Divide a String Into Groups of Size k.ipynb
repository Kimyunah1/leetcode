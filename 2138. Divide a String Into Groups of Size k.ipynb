{
 "cells": [
  {
   "cell_type": "code",
   "execution_count": 1,
   "id": "c35f6d13",
   "metadata": {},
   "outputs": [],
   "source": [
    "from typing import List\n",
    "class Solution:\n",
    "    def divideString(self, s: str, k: int, fill: str) -> List[str]:\n",
    "        res = [s[i:i+k] for i in range(0,len(s),k)]\n",
    "\n",
    "        res[-1] = res[-1] + fill*(k - len(res[-1]))\n",
    "\n",
    "        return res"
   ]
  },
  {
   "cell_type": "code",
   "execution_count": 2,
   "id": "2d099944",
   "metadata": {},
   "outputs": [
    {
     "name": "stdout",
     "output_type": "stream",
     "text": [
      "['abc', 'def', 'ghi', 'jxx']\n"
     ]
    }
   ],
   "source": [
    "s = \"abcdefghij\"\n",
    "k = 3 \n",
    "fill = \"x\"\n",
    "\n",
    "print(Solution().divideString(s, k, fill))"
   ]
  },
  {
   "cell_type": "code",
   "execution_count": null,
   "id": "186dea4f",
   "metadata": {},
   "outputs": [],
   "source": []
  }
 ],
 "metadata": {
  "kernelspec": {
   "display_name": "Python 3 (ipykernel)",
   "language": "python",
   "name": "python3"
  },
  "language_info": {
   "codemirror_mode": {
    "name": "ipython",
    "version": 3
   },
   "file_extension": ".py",
   "mimetype": "text/x-python",
   "name": "python",
   "nbconvert_exporter": "python",
   "pygments_lexer": "ipython3",
   "version": "3.11.5"
  }
 },
 "nbformat": 4,
 "nbformat_minor": 5
}
