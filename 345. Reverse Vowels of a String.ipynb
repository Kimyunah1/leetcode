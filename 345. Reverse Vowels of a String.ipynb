{
 "cells": [
  {
   "cell_type": "code",
   "execution_count": 1,
   "id": "13d20992",
   "metadata": {},
   "outputs": [],
   "source": [
    "class Solution:\n",
    "    def reverseVowels(self, s: str) -> str:\n",
    "        l = 0\n",
    "        r = len(s) - 1\n",
    "        vowels = ['a', 'e', 'i', 'o', 'u']\n",
    "        s = list(s)\n",
    "        while (l < r):\n",
    "            if s[l].lower() not in vowels:\n",
    "                l += 1\n",
    "            elif s[r].lower() not in vowels:\n",
    "                r -= 1\n",
    "            else:\n",
    "                s[l], s[r] = s[r], s[l]\n",
    "                l += 1\n",
    "                r -= 1\n",
    "        return \"\".join(s)"
   ]
  },
  {
   "cell_type": "code",
   "execution_count": 2,
   "id": "ea262ab3",
   "metadata": {},
   "outputs": [
    {
     "name": "stdout",
     "output_type": "stream",
     "text": [
      "leotcede\n"
     ]
    }
   ],
   "source": [
    "s = \"leetcode\"\n",
    "\n",
    "print(Solution().reverseVowels( s))"
   ]
  },
  {
   "cell_type": "code",
   "execution_count": null,
   "id": "352586f2",
   "metadata": {},
   "outputs": [],
   "source": []
  }
 ],
 "metadata": {
  "kernelspec": {
   "display_name": "Python 3 (ipykernel)",
   "language": "python",
   "name": "python3"
  },
  "language_info": {
   "codemirror_mode": {
    "name": "ipython",
    "version": 3
   },
   "file_extension": ".py",
   "mimetype": "text/x-python",
   "name": "python",
   "nbconvert_exporter": "python",
   "pygments_lexer": "ipython3",
   "version": "3.11.5"
  }
 },
 "nbformat": 4,
 "nbformat_minor": 5
}
