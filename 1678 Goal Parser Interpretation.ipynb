{
 "cells": [
  {
   "cell_type": "code",
   "execution_count": 2,
   "id": "e786f94a",
   "metadata": {},
   "outputs": [],
   "source": [
    "class Solution:\n",
    "    def interpret(self, command: str) -> str:\n",
    "        return command.replace(\"()\",\"o\").replace(\"(al)\",\"al\")\n"
   ]
  },
  {
   "cell_type": "code",
   "execution_count": 3,
   "id": "db1dbc29",
   "metadata": {},
   "outputs": [
    {
     "name": "stdout",
     "output_type": "stream",
     "text": [
      "Goal\n"
     ]
    }
   ],
   "source": [
    "sol = Solution()\n",
    "\n",
    "command = \"G()(al)\"\n",
    "\n",
    "print(sol.interpret(command))"
   ]
  },
  {
   "cell_type": "code",
   "execution_count": null,
   "id": "c9a55e0f",
   "metadata": {},
   "outputs": [],
   "source": []
  },
  {
   "cell_type": "code",
   "execution_count": null,
   "id": "5823cd17",
   "metadata": {},
   "outputs": [],
   "source": []
  }
 ],
 "metadata": {
  "kernelspec": {
   "display_name": "Python 3 (ipykernel)",
   "language": "python",
   "name": "python3"
  },
  "language_info": {
   "codemirror_mode": {
    "name": "ipython",
    "version": 3
   },
   "file_extension": ".py",
   "mimetype": "text/x-python",
   "name": "python",
   "nbconvert_exporter": "python",
   "pygments_lexer": "ipython3",
   "version": "3.11.5"
  }
 },
 "nbformat": 4,
 "nbformat_minor": 5
}
