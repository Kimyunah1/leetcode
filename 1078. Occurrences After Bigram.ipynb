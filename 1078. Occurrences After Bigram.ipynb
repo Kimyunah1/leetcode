{
 "cells": [
  {
   "cell_type": "code",
   "execution_count": 5,
   "id": "9c3562fa",
   "metadata": {},
   "outputs": [],
   "source": [
    "from typing import List\n",
    "class Solution:\n",
    "    def findOcurrences(self, text: str, first: str, second: str) -> List[str]:\n",
    "        k = text.split()\n",
    "        l = []\n",
    "\n",
    "\n",
    "\n",
    "        for i in range(len(k)-2):\n",
    "            if k[i]+ k[i+1] == first + second:\n",
    "                l.append(k[i+2])\n",
    "\n",
    "        return l\n",
    "\n",
    "    "
   ]
  },
  {
   "cell_type": "code",
   "execution_count": 6,
   "id": "fc30b833",
   "metadata": {},
   "outputs": [
    {
     "name": "stdout",
     "output_type": "stream",
     "text": [
      "['girl', 'student']\n"
     ]
    }
   ],
   "source": [
    "text = \"alice is a good girl she is a good student\"\n",
    "first = \"a\"\n",
    "second = \"good\"\n",
    "print(Solution().findOcurrences(text, first, second))"
   ]
  },
  {
   "cell_type": "code",
   "execution_count": null,
   "id": "244519c6",
   "metadata": {},
   "outputs": [],
   "source": []
  }
 ],
 "metadata": {
  "kernelspec": {
   "display_name": "Python 3 (ipykernel)",
   "language": "python",
   "name": "python3"
  },
  "language_info": {
   "codemirror_mode": {
    "name": "ipython",
    "version": 3
   },
   "file_extension": ".py",
   "mimetype": "text/x-python",
   "name": "python",
   "nbconvert_exporter": "python",
   "pygments_lexer": "ipython3",
   "version": "3.11.5"
  }
 },
 "nbformat": 4,
 "nbformat_minor": 5
}
