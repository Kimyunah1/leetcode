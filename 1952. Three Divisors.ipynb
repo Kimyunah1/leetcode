{
 "cells": [
  {
   "cell_type": "code",
   "execution_count": 1,
   "id": "5e153ee3",
   "metadata": {},
   "outputs": [],
   "source": [
    "class Solution:\n",
    "    def isThree(self, n: int) -> bool:\n",
    "        return sum(n%i == 0 for i in range(1, n+1)) == 3"
   ]
  },
  {
   "cell_type": "code",
   "execution_count": 2,
   "id": "c4009894",
   "metadata": {},
   "outputs": [
    {
     "name": "stdout",
     "output_type": "stream",
     "text": [
      "True\n"
     ]
    }
   ],
   "source": [
    "n = 4\n",
    "\n",
    "print(Solution().isThree(n))"
   ]
  },
  {
   "cell_type": "code",
   "execution_count": 3,
   "id": "7bee10d1",
   "metadata": {},
   "outputs": [
    {
     "name": "stdout",
     "output_type": "stream",
     "text": [
      "False\n"
     ]
    }
   ],
   "source": [
    "n = 2\n",
    "print(Solution().isThree(n))"
   ]
  },
  {
   "cell_type": "code",
   "execution_count": null,
   "id": "d2481cdc",
   "metadata": {},
   "outputs": [],
   "source": []
  }
 ],
 "metadata": {
  "kernelspec": {
   "display_name": "Python 3 (ipykernel)",
   "language": "python",
   "name": "python3"
  },
  "language_info": {
   "codemirror_mode": {
    "name": "ipython",
    "version": 3
   },
   "file_extension": ".py",
   "mimetype": "text/x-python",
   "name": "python",
   "nbconvert_exporter": "python",
   "pygments_lexer": "ipython3",
   "version": "3.11.5"
  }
 },
 "nbformat": 4,
 "nbformat_minor": 5
}
