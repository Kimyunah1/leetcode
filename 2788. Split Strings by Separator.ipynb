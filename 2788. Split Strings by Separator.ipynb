{
 "cells": [
  {
   "cell_type": "code",
   "execution_count": 12,
   "id": "a49b41b5",
   "metadata": {},
   "outputs": [],
   "source": [
    "\n",
    "from typing import List\n",
    "class Solution:\n",
    "    def splitWordsBySeparator(self, words: List[str], separator: str) -> List[str]:\n",
    "        l = []\n",
    "        for word in words:\n",
    "            for w in word.split(separator):\n",
    "                if w:\n",
    "                    l.append(w)\n",
    "\n",
    "        return l"
   ]
  },
  {
   "cell_type": "code",
   "execution_count": 13,
   "id": "9d06a2ec",
   "metadata": {},
   "outputs": [
    {
     "name": "stdout",
     "output_type": "stream",
     "text": [
      "['easy', 'problem']\n"
     ]
    }
   ],
   "source": [
    "words = [\"$easy$\",\"$problem$\"]\n",
    "separator = \"$\"\n",
    "\n",
    "print(Solution().splitWordsBySeparator(words, separator))"
   ]
  },
  {
   "cell_type": "code",
   "execution_count": 14,
   "id": "c0ed252f",
   "metadata": {},
   "outputs": [
    {
     "name": "stdout",
     "output_type": "stream",
     "text": [
      "[]\n"
     ]
    }
   ],
   "source": [
    "words = [\"|||\"]\n",
    "separator = \"|\"\n",
    "print(Solution().splitWordsBySeparator(words, separator))"
   ]
  },
  {
   "cell_type": "code",
   "execution_count": null,
   "id": "6842048e",
   "metadata": {},
   "outputs": [],
   "source": []
  }
 ],
 "metadata": {
  "kernelspec": {
   "display_name": "Python 3 (ipykernel)",
   "language": "python",
   "name": "python3"
  },
  "language_info": {
   "codemirror_mode": {
    "name": "ipython",
    "version": 3
   },
   "file_extension": ".py",
   "mimetype": "text/x-python",
   "name": "python",
   "nbconvert_exporter": "python",
   "pygments_lexer": "ipython3",
   "version": "3.11.5"
  }
 },
 "nbformat": 4,
 "nbformat_minor": 5
}
