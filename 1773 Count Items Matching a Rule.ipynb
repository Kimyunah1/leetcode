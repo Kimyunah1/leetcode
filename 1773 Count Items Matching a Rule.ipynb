{
 "cells": [
  {
   "cell_type": "code",
   "execution_count": 2,
   "id": "3ae9fb68",
   "metadata": {},
   "outputs": [],
   "source": [
    "from typing import List\n",
    "class Solution:\n",
    "    def countMatches(self, items: List[List[str]], ruleKey: str, ruleValue: str) -> int:\n",
    "        count = 0\n",
    "        for x in items:\n",
    "            if ruleKey == \"type\" and x[0] == ruleValue:\n",
    "                count = count + 1\n",
    "            elif ruleKey == \"color\" and x[1] == ruleValue:\n",
    "                count = count + 1\n",
    "            elif ruleKey == \"name\" and x[2] == ruleValue:\n",
    "                count = count + 1\n",
    "\n",
    "        return count\n",
    "    "
   ]
  },
  {
   "cell_type": "code",
   "execution_count": 4,
   "id": "a4da9110",
   "metadata": {},
   "outputs": [
    {
     "name": "stdout",
     "output_type": "stream",
     "text": [
      "1\n"
     ]
    }
   ],
   "source": [
    "sol = Solution()\n",
    "items = [[\"phone\",\"blue\",\"pixel\"],[\"computer\",\"silver\",\"lenovo\"],[\"phone\",\"gold\",\"iphone\"]]\n",
    "ruleKey = \"color\"\n",
    "ruleValue = \"silver\"\n",
    "print(sol.countMatches(items, ruleKey, ruleValue))"
   ]
  },
  {
   "cell_type": "code",
   "execution_count": null,
   "id": "64d0e11d",
   "metadata": {},
   "outputs": [],
   "source": []
  },
  {
   "cell_type": "code",
   "execution_count": null,
   "id": "195ace92",
   "metadata": {},
   "outputs": [],
   "source": []
  }
 ],
 "metadata": {
  "kernelspec": {
   "display_name": "Python 3 (ipykernel)",
   "language": "python",
   "name": "python3"
  },
  "language_info": {
   "codemirror_mode": {
    "name": "ipython",
    "version": 3
   },
   "file_extension": ".py",
   "mimetype": "text/x-python",
   "name": "python",
   "nbconvert_exporter": "python",
   "pygments_lexer": "ipython3",
   "version": "3.11.5"
  }
 },
 "nbformat": 4,
 "nbformat_minor": 5
}
