{
 "cells": [
  {
   "cell_type": "code",
   "execution_count": 1,
   "id": "58802235",
   "metadata": {},
   "outputs": [],
   "source": [
    "from typing import List\n",
    "class Solution:\n",
    "    def isPrefixString(self, s: str, words: List[str]) -> bool:\n",
    "        prefix = \"\"\n",
    "    \n",
    "        for word in words:\n",
    "            prefix += word\n",
    "            if prefix == s:\n",
    "                return True\n",
    "            if len(prefix) > len(s):\n",
    "                return False\n",
    "    \n",
    "        return False"
   ]
  },
  {
   "cell_type": "code",
   "execution_count": 2,
   "id": "5fcce36b",
   "metadata": {},
   "outputs": [
    {
     "name": "stdout",
     "output_type": "stream",
     "text": [
      "True\n"
     ]
    }
   ],
   "source": [
    "s = \"iloveleetcode\"\n",
    "words = [\"i\",\"love\",\"leetcode\",\"apples\"]\n",
    "\n",
    "print(Solution().isPrefixString(s, words))"
   ]
  },
  {
   "cell_type": "code",
   "execution_count": null,
   "id": "039c21fc",
   "metadata": {},
   "outputs": [],
   "source": []
  }
 ],
 "metadata": {
  "kernelspec": {
   "display_name": "Python 3 (ipykernel)",
   "language": "python",
   "name": "python3"
  },
  "language_info": {
   "codemirror_mode": {
    "name": "ipython",
    "version": 3
   },
   "file_extension": ".py",
   "mimetype": "text/x-python",
   "name": "python",
   "nbconvert_exporter": "python",
   "pygments_lexer": "ipython3",
   "version": "3.11.5"
  }
 },
 "nbformat": 4,
 "nbformat_minor": 5
}
