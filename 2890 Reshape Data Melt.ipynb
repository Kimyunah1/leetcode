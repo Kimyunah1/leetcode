{
 "cells": [
  {
   "cell_type": "code",
   "execution_count": 1,
   "id": "81542dba",
   "metadata": {},
   "outputs": [],
   "source": [
    "import pandas as pd\n",
    "\n",
    "def meltTable(report: pd.DataFrame) -> pd.DataFrame:\n",
    "    melted = pd.melt(report,id_vars=['product'],var_name='quarter',value_name='sales')\n",
    "    return melted"
   ]
  },
  {
   "cell_type": "code",
   "execution_count": null,
   "id": "64e8ba0c",
   "metadata": {},
   "outputs": [],
   "source": [
    "Input:\n",
    "+-------------+-----------+-----------+-----------+-----------+\n",
    "| product     | quarter_1 | quarter_2 | quarter_3 | quarter_4 |\n",
    "+-------------+-----------+-----------+-----------+-----------+\n",
    "| Umbrella    | 417       | 224       | 379       | 611       |\n",
    "| SleepingBag | 800       | 936       | 93        | 875       |\n",
    "+-------------+-----------+-----------+-----------+-----------+\n",
    "Output:\n",
    "+-------------+-----------+-------+\n",
    "| product     | quarter   | sales |\n",
    "+-------------+-----------+-------+\n",
    "| Umbrella    | quarter_1 | 417   |\n",
    "| SleepingBag | quarter_1 | 800   |\n",
    "| Umbrella    | quarter_2 | 224   |\n",
    "| SleepingBag | quarter_2 | 936   |\n",
    "| Umbrella    | quarter_3 | 379   |\n",
    "| SleepingBag | quarter_3 | 93    |\n",
    "| Umbrella    | quarter_4 | 611   |\n",
    "| SleepingBag | quarter_4 | 875   |\n",
    "+-------------+-----------+-------+"
   ]
  }
 ],
 "metadata": {
  "kernelspec": {
   "display_name": "Python 3 (ipykernel)",
   "language": "python",
   "name": "python3"
  },
  "language_info": {
   "codemirror_mode": {
    "name": "ipython",
    "version": 3
   },
   "file_extension": ".py",
   "mimetype": "text/x-python",
   "name": "python",
   "nbconvert_exporter": "python",
   "pygments_lexer": "ipython3",
   "version": "3.11.5"
  }
 },
 "nbformat": 4,
 "nbformat_minor": 5
}
