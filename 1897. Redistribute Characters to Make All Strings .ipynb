{
 "cells": [
  {
   "cell_type": "code",
   "execution_count": 1,
   "id": "c129c3de",
   "metadata": {},
   "outputs": [],
   "source": [
    "from typing import List\n",
    "class Solution:\n",
    "    def makeEqual(self, words: List[str]) -> bool:\n",
    "        l = []\n",
    "        for word in words:\n",
    "            for i in word:\n",
    "                l.append(i)\n",
    "\n",
    "                k = set(l)\n",
    "\n",
    "        if len(set(words)) == 1:  \n",
    "            return True\n",
    "        elif len(k) * len(words) == len(l):  \n",
    "            return True\n",
    "        else:\n",
    "            return False"
   ]
  },
  {
   "cell_type": "code",
   "execution_count": 2,
   "id": "2ff1d520",
   "metadata": {},
   "outputs": [
    {
     "name": "stdout",
     "output_type": "stream",
     "text": [
      "True\n"
     ]
    }
   ],
   "source": [
    "words = [\"abc\",\"aabc\",\"bc\"]\n",
    "\n",
    "print(Solution().makeEqual(words))"
   ]
  },
  {
   "cell_type": "code",
   "execution_count": 3,
   "id": "c6c761f8",
   "metadata": {},
   "outputs": [
    {
     "name": "stdout",
     "output_type": "stream",
     "text": [
      "False\n"
     ]
    }
   ],
   "source": [
    "words = [\"ab\",\"a\"]\n",
    "print(Solution().makeEqual(words))"
   ]
  },
  {
   "cell_type": "code",
   "execution_count": null,
   "id": "ca492ffd",
   "metadata": {},
   "outputs": [],
   "source": []
  }
 ],
 "metadata": {
  "kernelspec": {
   "display_name": "Python 3 (ipykernel)",
   "language": "python",
   "name": "python3"
  },
  "language_info": {
   "codemirror_mode": {
    "name": "ipython",
    "version": 3
   },
   "file_extension": ".py",
   "mimetype": "text/x-python",
   "name": "python",
   "nbconvert_exporter": "python",
   "pygments_lexer": "ipython3",
   "version": "3.11.5"
  }
 },
 "nbformat": 4,
 "nbformat_minor": 5
}
