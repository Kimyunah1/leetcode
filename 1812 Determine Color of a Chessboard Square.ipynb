{
 "cells": [
  {
   "cell_type": "code",
   "execution_count": 5,
   "id": "7d635994",
   "metadata": {},
   "outputs": [],
   "source": [
    "class Solution:\n",
    "    def squareIsWhite(self, coordinates: str) -> bool:\n",
    "        od = ['a','c','e','g']\n",
    "        if coordinates[0] in od:\n",
    "            if int(coordinates[1])%2 == 0:\n",
    "                return True\n",
    "            else:\n",
    "                return False\n",
    "\n",
    "        else:\n",
    "            if int(coordinates[1])%2 != 0:\n",
    "                return True\n",
    "            else:\n",
    "                return False"
   ]
  },
  {
   "cell_type": "code",
   "execution_count": 6,
   "id": "05487029",
   "metadata": {},
   "outputs": [
    {
     "name": "stdout",
     "output_type": "stream",
     "text": [
      "False\n"
     ]
    }
   ],
   "source": [
    "coordinates = \"a1\"\n",
    "print(Solution().squareIsWhite(coordinates))"
   ]
  },
  {
   "cell_type": "code",
   "execution_count": null,
   "id": "3c6cb520",
   "metadata": {},
   "outputs": [],
   "source": []
  }
 ],
 "metadata": {
  "kernelspec": {
   "display_name": "Python 3 (ipykernel)",
   "language": "python",
   "name": "python3"
  },
  "language_info": {
   "codemirror_mode": {
    "name": "ipython",
    "version": 3
   },
   "file_extension": ".py",
   "mimetype": "text/x-python",
   "name": "python",
   "nbconvert_exporter": "python",
   "pygments_lexer": "ipython3",
   "version": "3.11.5"
  }
 },
 "nbformat": 4,
 "nbformat_minor": 5
}
