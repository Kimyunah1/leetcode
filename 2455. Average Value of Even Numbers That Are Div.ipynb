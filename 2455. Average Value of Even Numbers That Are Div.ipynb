{
 "cells": [
  {
   "cell_type": "code",
   "execution_count": 2,
   "id": "5a750cf5",
   "metadata": {},
   "outputs": [],
   "source": [
    "from typing import List\n",
    "class Solution:\n",
    "    def averageValue(self, nums: List[int]) -> int:\n",
    "        l=[]\n",
    "        for i in nums:\n",
    "            if i%6==0:\n",
    "                l.append(i)\n",
    "        return sum(l)//len(l) if len(l)>0 else 0"
   ]
  },
  {
   "cell_type": "code",
   "execution_count": 3,
   "id": "77fc68ba",
   "metadata": {},
   "outputs": [
    {
     "name": "stdout",
     "output_type": "stream",
     "text": [
      "9\n"
     ]
    }
   ],
   "source": [
    "nums = [1,3,6,10,12,15]\n",
    "\n",
    "print(Solution().averageValue(nums))"
   ]
  },
  {
   "cell_type": "code",
   "execution_count": null,
   "id": "8d5c5172",
   "metadata": {},
   "outputs": [],
   "source": []
  }
 ],
 "metadata": {
  "kernelspec": {
   "display_name": "Python 3 (ipykernel)",
   "language": "python",
   "name": "python3"
  },
  "language_info": {
   "codemirror_mode": {
    "name": "ipython",
    "version": 3
   },
   "file_extension": ".py",
   "mimetype": "text/x-python",
   "name": "python",
   "nbconvert_exporter": "python",
   "pygments_lexer": "ipython3",
   "version": "3.11.5"
  }
 },
 "nbformat": 4,
 "nbformat_minor": 5
}
