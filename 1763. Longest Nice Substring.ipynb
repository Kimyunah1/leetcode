{
 "cells": [
  {
   "cell_type": "code",
   "execution_count": 10,
   "id": "e73e8208",
   "metadata": {},
   "outputs": [],
   "source": [
    "class Solution:\n",
    "    def longestNiceSubstring(self, s: str) -> str:\n",
    "        ans = \"\"\n",
    "        for i in range(len(s)):\n",
    "            for j in range(i+1, len(s)+1):\n",
    "                if all(s[k].swapcase() in s[i:j] for k in range(i, j)): \n",
    "                    ans = max(ans, s[i:j], key=len)\n",
    "        return ans \n"
   ]
  },
  {
   "cell_type": "code",
   "execution_count": 11,
   "id": "86aa34a5",
   "metadata": {},
   "outputs": [
    {
     "name": "stdout",
     "output_type": "stream",
     "text": [
      "aAa\n"
     ]
    }
   ],
   "source": [
    "s = \"YazaAay\"\n",
    "\n",
    "print(Solution().longestNiceSubstring(s))"
   ]
  },
  {
   "cell_type": "code",
   "execution_count": 12,
   "id": "528381d5",
   "metadata": {},
   "outputs": [
    {
     "name": "stdout",
     "output_type": "stream",
     "text": [
      "Bb\n"
     ]
    }
   ],
   "source": [
    "s = \"Bb\"\n",
    "\n",
    "print(Solution().longestNiceSubstring(s))"
   ]
  },
  {
   "cell_type": "code",
   "execution_count": null,
   "id": "47f433c4",
   "metadata": {},
   "outputs": [],
   "source": []
  }
 ],
 "metadata": {
  "kernelspec": {
   "display_name": "Python 3 (ipykernel)",
   "language": "python",
   "name": "python3"
  },
  "language_info": {
   "codemirror_mode": {
    "name": "ipython",
    "version": 3
   },
   "file_extension": ".py",
   "mimetype": "text/x-python",
   "name": "python",
   "nbconvert_exporter": "python",
   "pygments_lexer": "ipython3",
   "version": "3.11.5"
  }
 },
 "nbformat": 4,
 "nbformat_minor": 5
}
