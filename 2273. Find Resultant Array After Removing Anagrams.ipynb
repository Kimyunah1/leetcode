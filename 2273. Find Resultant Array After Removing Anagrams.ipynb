{
 "cells": [
  {
   "cell_type": "code",
   "execution_count": 5,
   "id": "869eab11",
   "metadata": {},
   "outputs": [],
   "source": [
    "from typing import List\n",
    "class Solution:\n",
    "    def removeAnagrams(self, words: List[str]) -> List[str]:\n",
    "        \n",
    "\n",
    "        a = [words[0]]\n",
    "\n",
    "        for i in range(1,len(words)):\n",
    "            if sorted(words[i -1]) != sorted(words[i]):\n",
    "                a.append(words[i])\n",
    "        \n",
    "        return a"
   ]
  },
  {
   "cell_type": "code",
   "execution_count": 6,
   "id": "1f49c67b",
   "metadata": {},
   "outputs": [
    {
     "name": "stdout",
     "output_type": "stream",
     "text": [
      "['abba', 'cd']\n"
     ]
    }
   ],
   "source": [
    "words = [\"abba\",\"baba\",\"bbaa\",\"cd\",\"cd\"]\n",
    "\n",
    "print(Solution().removeAnagrams(words))"
   ]
  },
  {
   "cell_type": "code",
   "execution_count": 7,
   "id": "b552ca8a",
   "metadata": {},
   "outputs": [
    {
     "name": "stdout",
     "output_type": "stream",
     "text": [
      "['a', 'b', 'c', 'd', 'e']\n"
     ]
    }
   ],
   "source": [
    " words = [\"a\",\"b\",\"c\",\"d\",\"e\"]\n",
    "\n",
    "print(Solution().removeAnagrams(words))"
   ]
  },
  {
   "cell_type": "code",
   "execution_count": null,
   "id": "6bb43f64",
   "metadata": {},
   "outputs": [],
   "source": []
  }
 ],
 "metadata": {
  "kernelspec": {
   "display_name": "Python 3 (ipykernel)",
   "language": "python",
   "name": "python3"
  },
  "language_info": {
   "codemirror_mode": {
    "name": "ipython",
    "version": 3
   },
   "file_extension": ".py",
   "mimetype": "text/x-python",
   "name": "python",
   "nbconvert_exporter": "python",
   "pygments_lexer": "ipython3",
   "version": "3.11.5"
  }
 },
 "nbformat": 4,
 "nbformat_minor": 5
}
