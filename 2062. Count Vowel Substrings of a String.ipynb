{
 "cells": [
  {
   "cell_type": "code",
   "execution_count": 1,
   "id": "65403b56",
   "metadata": {},
   "outputs": [],
   "source": [
    "class Solution:\n",
    "    def countVowelSubstrings(self, word: str) -> int:\n",
    "        vowel = {'a', 'e', 'i', 'o', 'u'}\n",
    "        count = 0\n",
    "        for i in range(len(word)):\n",
    "            for j in range(i):  \n",
    "\n",
    "                if set(word[j:i+1]) ==  vowel:  \n",
    "                    count += 1\n",
    "                \n",
    "        return count"
   ]
  },
  {
   "cell_type": "code",
   "execution_count": 2,
   "id": "655b7c42",
   "metadata": {},
   "outputs": [
    {
     "name": "stdout",
     "output_type": "stream",
     "text": [
      "7\n"
     ]
    }
   ],
   "source": [
    "word = \"cuaieuouac\"\n",
    "\n",
    "print(Solution().countVowelSubstrings(word))"
   ]
  },
  {
   "cell_type": "code",
   "execution_count": null,
   "id": "6254314e",
   "metadata": {},
   "outputs": [],
   "source": []
  }
 ],
 "metadata": {
  "kernelspec": {
   "display_name": "Python 3 (ipykernel)",
   "language": "python",
   "name": "python3"
  },
  "language_info": {
   "codemirror_mode": {
    "name": "ipython",
    "version": 3
   },
   "file_extension": ".py",
   "mimetype": "text/x-python",
   "name": "python",
   "nbconvert_exporter": "python",
   "pygments_lexer": "ipython3",
   "version": "3.11.5"
  }
 },
 "nbformat": 4,
 "nbformat_minor": 5
}
