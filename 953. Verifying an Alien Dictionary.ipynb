{
 "cells": [
  {
   "cell_type": "code",
   "execution_count": 2,
   "id": "c7656abe",
   "metadata": {},
   "outputs": [],
   "source": [
    "from typing import List\n",
    "class Solution:\n",
    "    def isAlienSorted(self, words: List[str], order: str) -> bool:\n",
    "        alien_order = {char: i for i, char in enumerate(order)}\n",
    "        for i in range(len(words) - 1):\n",
    "            word1, word2 = words[i], words[i + 1]\n",
    "            for char1, char2 in zip(word1, word2):\n",
    "                if alien_order[char1] < alien_order[char2]:\n",
    "                    break\n",
    "                elif alien_order[char1] > alien_order[char2]:\n",
    "                    return False\n",
    "            else:\n",
    "                if len(word1) > len(word2):\n",
    "                    return False\n",
    "                \n",
    "        return True"
   ]
  },
  {
   "cell_type": "code",
   "execution_count": 5,
   "id": "a4a1fe01",
   "metadata": {},
   "outputs": [
    {
     "name": "stdout",
     "output_type": "stream",
     "text": [
      "True\n"
     ]
    }
   ],
   "source": [
    "words = [\"hello\",\"leetcode\"]\n",
    "order = \"hlabcdefgijkmnopqrstuvwxyz\"\n",
    "\n",
    "print(Solution().isAlienSorted(words, order))"
   ]
  },
  {
   "cell_type": "code",
   "execution_count": null,
   "id": "14ad35b5",
   "metadata": {},
   "outputs": [],
   "source": []
  }
 ],
 "metadata": {
  "kernelspec": {
   "display_name": "Python 3 (ipykernel)",
   "language": "python",
   "name": "python3"
  },
  "language_info": {
   "codemirror_mode": {
    "name": "ipython",
    "version": 3
   },
   "file_extension": ".py",
   "mimetype": "text/x-python",
   "name": "python",
   "nbconvert_exporter": "python",
   "pygments_lexer": "ipython3",
   "version": "3.11.5"
  }
 },
 "nbformat": 4,
 "nbformat_minor": 5
}
