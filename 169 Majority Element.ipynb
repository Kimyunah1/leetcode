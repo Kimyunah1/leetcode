{
 "cells": [
  {
   "cell_type": "code",
   "execution_count": null,
   "id": "38efc354",
   "metadata": {},
   "outputs": [],
   "source": []
  },
  {
   "cell_type": "code",
   "execution_count": 3,
   "id": "0c2a4a6e",
   "metadata": {},
   "outputs": [
    {
     "name": "stdout",
     "output_type": "stream",
     "text": [
      "2\n"
     ]
    }
   ],
   "source": [
    "nums = [3,2,3,2,5]\n",
    "print(nums.count(3))"
   ]
  },
  {
   "cell_type": "code",
   "execution_count": 5,
   "id": "db2c49ec",
   "metadata": {},
   "outputs": [],
   "source": [
    "from typing import List\n",
    "class Solution:\n",
    "    def majorityElement(self, nums: List[int]) -> int:\n",
    "        n = len(nums)\n",
    "        s = set(nums)\n",
    "        for i in s:\n",
    "            if nums.count(i) > n/2:\n",
    "                return i"
   ]
  },
  {
   "cell_type": "code",
   "execution_count": 7,
   "id": "95e75c35",
   "metadata": {},
   "outputs": [
    {
     "name": "stdout",
     "output_type": "stream",
     "text": [
      "2\n"
     ]
    }
   ],
   "source": [
    "nums = [2,2,1,1,1,2,2]\n",
    "\n",
    "print(Solution().majorityElement(nums))"
   ]
  },
  {
   "cell_type": "code",
   "execution_count": null,
   "id": "db8edb6b",
   "metadata": {},
   "outputs": [],
   "source": []
  }
 ],
 "metadata": {
  "kernelspec": {
   "display_name": "Python 3 (ipykernel)",
   "language": "python",
   "name": "python3"
  },
  "language_info": {
   "codemirror_mode": {
    "name": "ipython",
    "version": 3
   },
   "file_extension": ".py",
   "mimetype": "text/x-python",
   "name": "python",
   "nbconvert_exporter": "python",
   "pygments_lexer": "ipython3",
   "version": "3.11.5"
  }
 },
 "nbformat": 4,
 "nbformat_minor": 5
}
