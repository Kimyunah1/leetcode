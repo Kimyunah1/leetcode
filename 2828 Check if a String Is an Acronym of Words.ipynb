{
 "cells": [
  {
   "cell_type": "code",
   "execution_count": 6,
   "id": "220ec120",
   "metadata": {},
   "outputs": [],
   "source": [
    "from typing import List\n",
    "class Solution:\n",
    "    def isAcronym(self, words: List[str], s: str) -> bool:\n",
    "        l=\"\"\n",
    "        for word in words:\n",
    "            l += word[0]\n",
    "\n",
    "        return l == s"
   ]
  },
  {
   "cell_type": "code",
   "execution_count": 7,
   "id": "2c2c3745",
   "metadata": {},
   "outputs": [
    {
     "name": "stdout",
     "output_type": "stream",
     "text": [
      "True\n"
     ]
    }
   ],
   "source": [
    "words = [\"alice\",\"bob\",\"charlie\"]\n",
    "s = \"abc\"\n",
    "print(Solution().isAcronym(words, s))"
   ]
  },
  {
   "cell_type": "code",
   "execution_count": null,
   "id": "37b16ce9",
   "metadata": {},
   "outputs": [],
   "source": []
  }
 ],
 "metadata": {
  "kernelspec": {
   "display_name": "Python 3 (ipykernel)",
   "language": "python",
   "name": "python3"
  },
  "language_info": {
   "codemirror_mode": {
    "name": "ipython",
    "version": 3
   },
   "file_extension": ".py",
   "mimetype": "text/x-python",
   "name": "python",
   "nbconvert_exporter": "python",
   "pygments_lexer": "ipython3",
   "version": "3.11.5"
  }
 },
 "nbformat": 4,
 "nbformat_minor": 5
}
