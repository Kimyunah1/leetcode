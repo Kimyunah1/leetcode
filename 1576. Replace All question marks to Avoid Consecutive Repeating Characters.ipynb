{
 "cells": [
  {
   "cell_type": "code",
   "execution_count": 2,
   "id": "8941ff4e",
   "metadata": {},
   "outputs": [],
   "source": [
    "class Solution:\n",
    "    def modifyString(self, s: str) -> str:\n",
    "        s = list(s)\n",
    "        n = len(s)\n",
    "        \n",
    "        for i in range(n):\n",
    "            if s[i] == '?':\n",
    "                for c in 'abcdefghijklmnopqrstuvwxyz':\n",
    "                    \n",
    "                    if (i > 0 and s[i - 1] == c) or (i < n - 1 and s[i + 1] == c):\n",
    "                        continue\n",
    "                    s[i] = c\n",
    "                    break\n",
    "        \n",
    "        return ''.join(s)"
   ]
  },
  {
   "cell_type": "code",
   "execution_count": 3,
   "id": "2a305519",
   "metadata": {},
   "outputs": [
    {
     "name": "stdout",
     "output_type": "stream",
     "text": [
      "ubvaw\n"
     ]
    }
   ],
   "source": [
    "s = \"ubv?w\"\n",
    "\n",
    "print(Solution().modifyString(s))"
   ]
  },
  {
   "cell_type": "code",
   "execution_count": null,
   "id": "f2b45454",
   "metadata": {},
   "outputs": [],
   "source": []
  }
 ],
 "metadata": {
  "kernelspec": {
   "display_name": "Python 3 (ipykernel)",
   "language": "python",
   "name": "python3"
  },
  "language_info": {
   "codemirror_mode": {
    "name": "ipython",
    "version": 3
   },
   "file_extension": ".py",
   "mimetype": "text/x-python",
   "name": "python",
   "nbconvert_exporter": "python",
   "pygments_lexer": "ipython3",
   "version": "3.11.5"
  }
 },
 "nbformat": 4,
 "nbformat_minor": 5
}
