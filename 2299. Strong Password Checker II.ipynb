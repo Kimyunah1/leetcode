{
 "cells": [
  {
   "cell_type": "code",
   "execution_count": 1,
   "id": "7ecd97d9",
   "metadata": {},
   "outputs": [],
   "source": [
    "class Solution:\n",
    "    def strongPasswordCheckerII(self, password: str) -> bool:\n",
    "        ln = len(password) >= 8\n",
    "        lower = False\n",
    "        upper = False\n",
    "        dig = False\n",
    "        spec = False\n",
    "        spec_symb = \"!@#$%^&*()-+\"\n",
    "        not_adj = True\n",
    "        for i in password:\n",
    "            if i.islower():\n",
    "                lower = True\n",
    "            if i.isupper():\n",
    "                upper = True\n",
    "            if i.isdigit():\n",
    "                dig = True\n",
    "            if i in spec_symb:\n",
    "                spec = True\n",
    "        for i in range(1, len(password)):\n",
    "            if password[i] == password[i-1]:\n",
    "                not_adj = False\n",
    "        return ln == lower == upper == dig == spec == not_adj"
   ]
  },
  {
   "cell_type": "code",
   "execution_count": 2,
   "id": "d4a1044c",
   "metadata": {},
   "outputs": [
    {
     "name": "stdout",
     "output_type": "stream",
     "text": [
      "False\n"
     ]
    }
   ],
   "source": [
    "password = \"Me+You--IsMyDream\"\n",
    "    \n",
    "print(Solution().strongPasswordCheckerII(password))"
   ]
  },
  {
   "cell_type": "code",
   "execution_count": null,
   "id": "1e8fada9",
   "metadata": {},
   "outputs": [],
   "source": []
  }
 ],
 "metadata": {
  "kernelspec": {
   "display_name": "Python 3 (ipykernel)",
   "language": "python",
   "name": "python3"
  },
  "language_info": {
   "codemirror_mode": {
    "name": "ipython",
    "version": 3
   },
   "file_extension": ".py",
   "mimetype": "text/x-python",
   "name": "python",
   "nbconvert_exporter": "python",
   "pygments_lexer": "ipython3",
   "version": "3.11.5"
  }
 },
 "nbformat": 4,
 "nbformat_minor": 5
}
