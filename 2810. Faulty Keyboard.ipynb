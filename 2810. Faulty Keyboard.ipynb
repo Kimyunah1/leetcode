{
 "cells": [
  {
   "cell_type": "code",
   "execution_count": 1,
   "id": "20e5f9d9",
   "metadata": {},
   "outputs": [],
   "source": [
    "class Solution:\n",
    "    def finalString(self, s: str) -> str:\n",
    "        ans = \"\"\n",
    "        for letter in s:\n",
    "            if letter != 'i':\n",
    "                ans += letter\n",
    "\n",
    "            else:\n",
    "                ans = ans[::-1]\n",
    "\n",
    "        return ans\n",
    "\n"
   ]
  },
  {
   "cell_type": "code",
   "execution_count": 2,
   "id": "ee83e799",
   "metadata": {},
   "outputs": [
    {
     "name": "stdout",
     "output_type": "stream",
     "text": [
      "rtsng\n"
     ]
    }
   ],
   "source": [
    "s = \"string\"\n",
    "print(Solution().finalString(s))"
   ]
  },
  {
   "cell_type": "code",
   "execution_count": null,
   "id": "db5897d6",
   "metadata": {},
   "outputs": [],
   "source": []
  }
 ],
 "metadata": {
  "kernelspec": {
   "display_name": "Python 3 (ipykernel)",
   "language": "python",
   "name": "python3"
  },
  "language_info": {
   "codemirror_mode": {
    "name": "ipython",
    "version": 3
   },
   "file_extension": ".py",
   "mimetype": "text/x-python",
   "name": "python",
   "nbconvert_exporter": "python",
   "pygments_lexer": "ipython3",
   "version": "3.11.5"
  }
 },
 "nbformat": 4,
 "nbformat_minor": 5
}
