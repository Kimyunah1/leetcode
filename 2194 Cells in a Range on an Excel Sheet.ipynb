{
 "cells": [
  {
   "cell_type": "code",
   "execution_count": 10,
   "id": "0c3eccc7",
   "metadata": {},
   "outputs": [],
   "source": [
    "from typing import List\n",
    "class Solution:\n",
    "    def cellsInRange(self, s: str) -> List[str]:\n",
    "        col1, row1, col2, row2 = s[0], int(s[1]), s[3], int(s[4])\n",
    "        newlist = []\n",
    "\n",
    "        for col in range(ord(col1), ord(col2)+1):\n",
    "            for row in range(row1, row2+1):\n",
    "                newlist.append(f\"{chr(col)}{row}\")\n",
    "\n",
    "        return newlist\n"
   ]
  },
  {
   "cell_type": "code",
   "execution_count": 11,
   "id": "64c8f7cb",
   "metadata": {},
   "outputs": [
    {
     "name": "stdout",
     "output_type": "stream",
     "text": [
      "['K1', 'K2', 'L1', 'L2']\n"
     ]
    }
   ],
   "source": [
    "s = \"K1:L2\"\n",
    "print(Solution().cellsInRange(s))"
   ]
  },
  {
   "cell_type": "code",
   "execution_count": null,
   "id": "9f21be7c",
   "metadata": {},
   "outputs": [],
   "source": []
  }
 ],
 "metadata": {
  "kernelspec": {
   "display_name": "Python 3 (ipykernel)",
   "language": "python",
   "name": "python3"
  },
  "language_info": {
   "codemirror_mode": {
    "name": "ipython",
    "version": 3
   },
   "file_extension": ".py",
   "mimetype": "text/x-python",
   "name": "python",
   "nbconvert_exporter": "python",
   "pygments_lexer": "ipython3",
   "version": "3.11.5"
  }
 },
 "nbformat": 4,
 "nbformat_minor": 5
}
