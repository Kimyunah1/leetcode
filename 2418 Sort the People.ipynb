{
 "cells": [
  {
   "cell_type": "code",
   "execution_count": 1,
   "id": "2f464014",
   "metadata": {},
   "outputs": [],
   "source": [
    "from typing import List\n",
    "class Solution:\n",
    "    def sortPeople(self, names: List[str], heights: List[int]) -> List[str]:\n",
    "        \n",
    "        l = heights\n",
    "        l = sorted(l,reverse=True)\n",
    "        ans = []\n",
    "\n",
    "        for i in range(len(l)):\n",
    "            ans.append(names[heights.index(l[i])])\n",
    "\n",
    "        return ans"
   ]
  },
  {
   "cell_type": "code",
   "execution_count": 2,
   "id": "6d101fbb",
   "metadata": {},
   "outputs": [
    {
     "name": "stdout",
     "output_type": "stream",
     "text": [
      "['Bob', 'Alice', 'Bob']\n"
     ]
    }
   ],
   "source": [
    "names = [\"Alice\",\"Bob\",\"Bob\"]\n",
    "heights = [155,185,150]\n",
    "\n",
    "print(Solution().sortPeople(names, heights))"
   ]
  },
  {
   "cell_type": "code",
   "execution_count": null,
   "id": "3aed42bc",
   "metadata": {},
   "outputs": [],
   "source": []
  }
 ],
 "metadata": {
  "kernelspec": {
   "display_name": "Python 3 (ipykernel)",
   "language": "python",
   "name": "python3"
  },
  "language_info": {
   "codemirror_mode": {
    "name": "ipython",
    "version": 3
   },
   "file_extension": ".py",
   "mimetype": "text/x-python",
   "name": "python",
   "nbconvert_exporter": "python",
   "pygments_lexer": "ipython3",
   "version": "3.11.5"
  }
 },
 "nbformat": 4,
 "nbformat_minor": 5
}
