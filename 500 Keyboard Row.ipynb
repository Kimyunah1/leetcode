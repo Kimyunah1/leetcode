{
 "cells": [
  {
   "cell_type": "code",
   "execution_count": 2,
   "id": "472e0bef",
   "metadata": {},
   "outputs": [],
   "source": [
    "from typing import List\n",
    "class Solution:\n",
    "    def findWords(self, words: List[str]) -> List[str]:\n",
    "        first  = \"qwertyuiop\"\n",
    "        sec  = \"asdfghjkl\"\n",
    "        third  = \"zxcvbnm\"\n",
    "        ans = []\n",
    "        for word in words:\n",
    "            w = word.lower()\n",
    "            if len(set(first + w)) ==len(first) or len(set(sec + w)) == len(sec) or len(set(third + w)) == len(third):\n",
    "                ans.append(word)\n",
    "\n",
    "        return ans\n",
    "        "
   ]
  },
  {
   "cell_type": "code",
   "execution_count": 3,
   "id": "ae95a3e7",
   "metadata": {},
   "outputs": [
    {
     "name": "stdout",
     "output_type": "stream",
     "text": [
      "['Alaska', 'Dad']\n"
     ]
    }
   ],
   "source": [
    "words = [\"Hello\",\"Alaska\",\"Dad\",\"Peace\"]\n",
    "\n",
    "print(Solution().findWords(words))"
   ]
  },
  {
   "cell_type": "code",
   "execution_count": null,
   "id": "9fcbbdb7",
   "metadata": {},
   "outputs": [],
   "source": []
  }
 ],
 "metadata": {
  "kernelspec": {
   "display_name": "Python 3 (ipykernel)",
   "language": "python",
   "name": "python3"
  },
  "language_info": {
   "codemirror_mode": {
    "name": "ipython",
    "version": 3
   },
   "file_extension": ".py",
   "mimetype": "text/x-python",
   "name": "python",
   "nbconvert_exporter": "python",
   "pygments_lexer": "ipython3",
   "version": "3.11.5"
  }
 },
 "nbformat": 4,
 "nbformat_minor": 5
}
