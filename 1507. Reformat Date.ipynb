{
 "cells": [
  {
   "cell_type": "code",
   "execution_count": 1,
   "id": "543fb5fe",
   "metadata": {},
   "outputs": [],
   "source": [
    "class Solution:\n",
    "    def reformatDate(self, date: str) -> str:\n",
    "        monthDict = {'Jan': '01', 'Feb': '02', 'Mar': '03', 'Apr': '04', 'May': '05', 'Jun': '06', 'Jul': '07', 'Aug': '08', 'Sep': '09', 'Oct': '10', 'Nov': '11', 'Dec': '12'}\n",
    "\n",
    "        s = date.split()\n",
    "\n",
    "        day = s[0][:-2]\n",
    "        month = s[1]\n",
    "        year = s[2]\n",
    "\n",
    "        if int(day) < 10:\n",
    "            day = '0' + day\n",
    "\n",
    "        return ''.join(f'{year}-{monthDict[month]}-{day}')"
   ]
  },
  {
   "cell_type": "code",
   "execution_count": 2,
   "id": "37e6f7dc",
   "metadata": {},
   "outputs": [
    {
     "name": "stdout",
     "output_type": "stream",
     "text": [
      "1933-06-06\n"
     ]
    }
   ],
   "source": [
    "date = \"6th Jun 1933\"\n",
    "\n",
    "print(Solution().reformatDate(date))"
   ]
  },
  {
   "cell_type": "code",
   "execution_count": null,
   "id": "0c628af3",
   "metadata": {},
   "outputs": [],
   "source": []
  }
 ],
 "metadata": {
  "kernelspec": {
   "display_name": "Python 3 (ipykernel)",
   "language": "python",
   "name": "python3"
  },
  "language_info": {
   "codemirror_mode": {
    "name": "ipython",
    "version": 3
   },
   "file_extension": ".py",
   "mimetype": "text/x-python",
   "name": "python",
   "nbconvert_exporter": "python",
   "pygments_lexer": "ipython3",
   "version": "3.11.5"
  }
 },
 "nbformat": 4,
 "nbformat_minor": 5
}
