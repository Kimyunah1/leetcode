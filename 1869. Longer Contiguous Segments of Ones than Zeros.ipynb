{
 "cells": [
  {
   "cell_type": "code",
   "execution_count": 7,
   "id": "9a02f369",
   "metadata": {},
   "outputs": [],
   "source": [
    "class Solution:\n",
    "    def checkZeroOnes(self, s: str) -> bool:\n",
    "        k = s.split(\"0\")\n",
    "        g = s.split(\"1\")\n",
    "\n",
    "        kl = max([len(i) for i in k])\n",
    "        gl = max([len(j) for j in g])\n",
    "\n",
    "\n",
    "        return kl > gl\n"
   ]
  },
  {
   "cell_type": "code",
   "execution_count": 8,
   "id": "49dcf9bc",
   "metadata": {},
   "outputs": [
    {
     "name": "stdout",
     "output_type": "stream",
     "text": [
      "False\n"
     ]
    }
   ],
   "source": [
    "s = \"111000\"\n",
    "\n",
    "print(Solution().checkZeroOnes(s))"
   ]
  },
  {
   "cell_type": "code",
   "execution_count": 9,
   "id": "59226275",
   "metadata": {},
   "outputs": [
    {
     "name": "stdout",
     "output_type": "stream",
     "text": [
      "True\n"
     ]
    }
   ],
   "source": [
    "s = \"1101\"\n",
    "\n",
    "print(Solution().checkZeroOnes(s))"
   ]
  },
  {
   "cell_type": "code",
   "execution_count": null,
   "id": "7cc95309",
   "metadata": {},
   "outputs": [],
   "source": []
  }
 ],
 "metadata": {
  "kernelspec": {
   "display_name": "Python 3 (ipykernel)",
   "language": "python",
   "name": "python3"
  },
  "language_info": {
   "codemirror_mode": {
    "name": "ipython",
    "version": 3
   },
   "file_extension": ".py",
   "mimetype": "text/x-python",
   "name": "python",
   "nbconvert_exporter": "python",
   "pygments_lexer": "ipython3",
   "version": "3.11.5"
  }
 },
 "nbformat": 4,
 "nbformat_minor": 5
}
