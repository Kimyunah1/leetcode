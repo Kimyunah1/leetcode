{
 "cells": [
  {
   "cell_type": "code",
   "execution_count": 1,
   "id": "ae605394",
   "metadata": {},
   "outputs": [],
   "source": [
    "class Solution:\n",
    "    def subtractProductAndSum(self, n: int) -> int:\n",
    "        s = str(n)\n",
    "        total1 = 0\n",
    "\n",
    "        total2 = 1  \n",
    "\n",
    "        for i in s:\n",
    "            total1 += int(i)\n",
    "\n",
    "        for k in s:\n",
    "            total2 *= int(k)  \n",
    "\n",
    "        return total2 - total1 \n"
   ]
  },
  {
   "cell_type": "code",
   "execution_count": 3,
   "id": "5ada2fd1",
   "metadata": {},
   "outputs": [
    {
     "name": "stdout",
     "output_type": "stream",
     "text": [
      "15\n"
     ]
    }
   ],
   "source": [
    "sol = Solution()\n",
    "n = 234\n",
    "print(sol.subtractProductAndSum(n))"
   ]
  },
  {
   "cell_type": "code",
   "execution_count": null,
   "id": "ccf8c95c",
   "metadata": {},
   "outputs": [],
   "source": []
  }
 ],
 "metadata": {
  "kernelspec": {
   "display_name": "Python 3 (ipykernel)",
   "language": "python",
   "name": "python3"
  },
  "language_info": {
   "codemirror_mode": {
    "name": "ipython",
    "version": 3
   },
   "file_extension": ".py",
   "mimetype": "text/x-python",
   "name": "python",
   "nbconvert_exporter": "python",
   "pygments_lexer": "ipython3",
   "version": "3.11.5"
  }
 },
 "nbformat": 4,
 "nbformat_minor": 5
}
