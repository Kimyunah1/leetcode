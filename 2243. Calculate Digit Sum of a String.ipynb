{
 "cells": [
  {
   "cell_type": "code",
   "execution_count": 1,
   "id": "8f4d4157",
   "metadata": {},
   "outputs": [],
   "source": [
    "class Solution:\n",
    "    def digitSum(self, s: str, k: int) -> str:\n",
    "        \n",
    "        while len(s) > k:\n",
    "            set_k = [s[i:i+k] for i in range(0, len(s), k)]\n",
    "            s = ''\n",
    "            for e in set_k:\n",
    "                s += str(sum([int(n) for n in e]))\n",
    "        return s"
   ]
  },
  {
   "cell_type": "code",
   "execution_count": 2,
   "id": "6be69487",
   "metadata": {},
   "outputs": [
    {
     "name": "stdout",
     "output_type": "stream",
     "text": [
      "135\n"
     ]
    }
   ],
   "source": [
    "s = \"11111222223\"\n",
    "k = 3\n",
    "\n",
    "print(Solution().digitSum(s, k))"
   ]
  },
  {
   "cell_type": "code",
   "execution_count": 3,
   "id": "0a8596fb",
   "metadata": {},
   "outputs": [
    {
     "name": "stdout",
     "output_type": "stream",
     "text": [
      "000\n"
     ]
    }
   ],
   "source": [
    "s = \"00000000\"\n",
    "k = 3\n",
    "print(Solution().digitSum(s, k))"
   ]
  },
  {
   "cell_type": "code",
   "execution_count": null,
   "id": "9ad13f4c",
   "metadata": {},
   "outputs": [],
   "source": []
  }
 ],
 "metadata": {
  "kernelspec": {
   "display_name": "Python 3 (ipykernel)",
   "language": "python",
   "name": "python3"
  },
  "language_info": {
   "codemirror_mode": {
    "name": "ipython",
    "version": 3
   },
   "file_extension": ".py",
   "mimetype": "text/x-python",
   "name": "python",
   "nbconvert_exporter": "python",
   "pygments_lexer": "ipython3",
   "version": "3.11.5"
  }
 },
 "nbformat": 4,
 "nbformat_minor": 5
}
