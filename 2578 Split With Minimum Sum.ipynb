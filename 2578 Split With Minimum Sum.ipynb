{
 "cells": [
  {
   "cell_type": "code",
   "execution_count": 2,
   "id": "5917c9b3",
   "metadata": {},
   "outputs": [],
   "source": [
    "class Solution:\n",
    "    def splitNum(self, num: int) -> int:\n",
    "        s = sorted(str(num))\n",
    "        od = ''\n",
    "        ev = ''\n",
    "\n",
    "        for i in range(len(s)):\n",
    "            if i % 2 == 1:\n",
    "                od += s[i]\n",
    "            else:\n",
    "                ev += s[i]\n",
    "\n",
    "        \n",
    "        od = int(od)\n",
    "        ev = int(ev)\n",
    "\n",
    "        return od + ev"
   ]
  },
  {
   "cell_type": "code",
   "execution_count": 3,
   "id": "f4027a5e",
   "metadata": {},
   "outputs": [
    {
     "name": "stdout",
     "output_type": "stream",
     "text": [
      "59\n"
     ]
    }
   ],
   "source": [
    "num = 4325\n",
    "print(Solution().splitNum(num))"
   ]
  },
  {
   "cell_type": "code",
   "execution_count": null,
   "id": "ba2fb216",
   "metadata": {},
   "outputs": [],
   "source": []
  }
 ],
 "metadata": {
  "kernelspec": {
   "display_name": "Python 3 (ipykernel)",
   "language": "python",
   "name": "python3"
  },
  "language_info": {
   "codemirror_mode": {
    "name": "ipython",
    "version": 3
   },
   "file_extension": ".py",
   "mimetype": "text/x-python",
   "name": "python",
   "nbconvert_exporter": "python",
   "pygments_lexer": "ipython3",
   "version": "3.11.5"
  }
 },
 "nbformat": 4,
 "nbformat_minor": 5
}
