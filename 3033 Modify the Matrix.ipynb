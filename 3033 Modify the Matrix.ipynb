{
 "cells": [
  {
   "cell_type": "code",
   "execution_count": 2,
   "id": "57971c86",
   "metadata": {},
   "outputs": [],
   "source": [
    "from typing import List\n",
    "import numpy as np\n",
    "\n",
    "class Solution:\n",
    "    def modifiedMatrix(self, matrix: List[List[int]]) -> List[List[int]]:\n",
    "        \n",
    "        A = np.array(matrix)\n",
    "        A_column_max = np.max(A, axis=0)\n",
    "\n",
    "        B = A.copy()\n",
    "\n",
    "        m ,n = A.shape\n",
    "\n",
    "        for i in range(m):\n",
    "            for j in range(n):\n",
    "                if A[i,j] == -1:\n",
    "                    B[i,j] = A_column_max[j]\n",
    "\n",
    "        return B\n"
   ]
  },
  {
   "cell_type": "code",
   "execution_count": 3,
   "id": "b8e89d6e",
   "metadata": {},
   "outputs": [
    {
     "name": "stdout",
     "output_type": "stream",
     "text": [
      "[[1 2 9]\n",
      " [4 8 6]\n",
      " [7 8 9]]\n"
     ]
    }
   ],
   "source": [
    "matrix = [[1,2,-1],[4,-1,6],[7,8,9]]\n",
    "print(Solution().modifiedMatrix(matrix))"
   ]
  },
  {
   "cell_type": "code",
   "execution_count": null,
   "id": "1c651b1c",
   "metadata": {},
   "outputs": [],
   "source": []
  }
 ],
 "metadata": {
  "kernelspec": {
   "display_name": "Python 3 (ipykernel)",
   "language": "python",
   "name": "python3"
  },
  "language_info": {
   "codemirror_mode": {
    "name": "ipython",
    "version": 3
   },
   "file_extension": ".py",
   "mimetype": "text/x-python",
   "name": "python",
   "nbconvert_exporter": "python",
   "pygments_lexer": "ipython3",
   "version": "3.11.5"
  }
 },
 "nbformat": 4,
 "nbformat_minor": 5
}
