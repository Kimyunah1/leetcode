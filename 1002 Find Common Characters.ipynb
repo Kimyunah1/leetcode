{
 "cells": [
  {
   "cell_type": "code",
   "execution_count": 7,
   "id": "ab8bd867",
   "metadata": {},
   "outputs": [],
   "source": [
    "from typing import List\n",
    "class Solution:\n",
    "    def commonChars(self, words: List[str]) -> List[str]:\n",
    "        if len(words) < 2:\n",
    "            return words\n",
    "\n",
    "        l = []\n",
    "        words1 = set(words[0])\n",
    "\n",
    "        for char in words1:\n",
    "            freq = min([word.count(char) for word in words])\n",
    "            l += [char] * freq\n",
    "\n",
    "        return l"
   ]
  },
  {
   "cell_type": "code",
   "execution_count": 2,
   "id": "70fb3b7b",
   "metadata": {},
   "outputs": [
    {
     "name": "stdout",
     "output_type": "stream",
     "text": [
      "['l', 'l', 'e']\n"
     ]
    }
   ],
   "source": [
    "words = [\"bella\",\"label\",\"roller\"]\n",
    "\n",
    "print(Solution().commonChars(words))"
   ]
  },
  {
   "cell_type": "code",
   "execution_count": null,
   "id": "95e683b5",
   "metadata": {},
   "outputs": [],
   "source": []
  }
 ],
 "metadata": {
  "kernelspec": {
   "display_name": "Python 3 (ipykernel)",
   "language": "python",
   "name": "python3"
  },
  "language_info": {
   "codemirror_mode": {
    "name": "ipython",
    "version": 3
   },
   "file_extension": ".py",
   "mimetype": "text/x-python",
   "name": "python",
   "nbconvert_exporter": "python",
   "pygments_lexer": "ipython3",
   "version": "3.11.5"
  }
 },
 "nbformat": 4,
 "nbformat_minor": 5
}
