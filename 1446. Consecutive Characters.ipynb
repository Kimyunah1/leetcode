{
 "cells": [
  {
   "cell_type": "code",
   "execution_count": 6,
   "id": "cf01c293",
   "metadata": {},
   "outputs": [],
   "source": [
    "class Solution:\n",
    "    def maxPower(self, s: str) -> int:\n",
    "        ans = 1\n",
    "        c = 1\n",
    "\n",
    "        for i in range(len(s)-1):\n",
    "            if s[i] == s[i+1]:\n",
    "                c += 1\n",
    "                ans = max(ans, c)\n",
    "\n",
    "            else:\n",
    "                c=1\n",
    "        return ans"
   ]
  },
  {
   "cell_type": "code",
   "execution_count": 7,
   "id": "9a23ada6",
   "metadata": {},
   "outputs": [
    {
     "name": "stdout",
     "output_type": "stream",
     "text": [
      "5\n"
     ]
    }
   ],
   "source": [
    "s = \"abbcccddddeeeeedcba\"\n",
    "\n",
    "print(Solution().maxPower(s))"
   ]
  },
  {
   "cell_type": "code",
   "execution_count": 9,
   "id": "a4702c5c",
   "metadata": {},
   "outputs": [
    {
     "name": "stdout",
     "output_type": "stream",
     "text": [
      "2\n"
     ]
    }
   ],
   "source": [
    " s = \"leetcode\"\n",
    "print(Solution().maxPower(s))"
   ]
  },
  {
   "cell_type": "code",
   "execution_count": null,
   "id": "16063c7f",
   "metadata": {},
   "outputs": [],
   "source": []
  }
 ],
 "metadata": {
  "kernelspec": {
   "display_name": "Python 3 (ipykernel)",
   "language": "python",
   "name": "python3"
  },
  "language_info": {
   "codemirror_mode": {
    "name": "ipython",
    "version": 3
   },
   "file_extension": ".py",
   "mimetype": "text/x-python",
   "name": "python",
   "nbconvert_exporter": "python",
   "pygments_lexer": "ipython3",
   "version": "3.11.5"
  }
 },
 "nbformat": 4,
 "nbformat_minor": 5
}
