{
 "cells": [
  {
   "cell_type": "code",
   "execution_count": 1,
   "id": "eeee2237",
   "metadata": {},
   "outputs": [
    {
     "name": "stdout",
     "output_type": "stream",
     "text": [
      "15\n"
     ]
    }
   ],
   "source": [
    "#numbers = [1, 2, 3, 4, 5]\n",
    "#print(sum(numbers))"
   ]
  },
  {
   "cell_type": "code",
   "execution_count": 11,
   "id": "d5566429",
   "metadata": {},
   "outputs": [],
   "source": [
    "#n = 8\n",
    "\n",
    "#l = list(range(1, n + 1))\n",
    "#print(l)\n",
    "#for i in l:\n",
    "   # if sum(l[:i]) == sum(l[i-1:]):\n",
    "   #     print(i)"
   ]
  },
  {
   "cell_type": "code",
   "execution_count": 12,
   "id": "fc28fe3e",
   "metadata": {},
   "outputs": [],
   "source": [
    "class Solution:\n",
    "    def pivotInteger(self, n: int) -> int:\n",
    "        l = list(range(1, n + 1))\n",
    "\n",
    "        for i in l:\n",
    "            if sum(l[:i]) == sum(l[i-1:]) :\n",
    "                return i\n",
    "\n",
    "        return -1"
   ]
  },
  {
   "cell_type": "code",
   "execution_count": 13,
   "id": "917222bd",
   "metadata": {},
   "outputs": [
    {
     "name": "stdout",
     "output_type": "stream",
     "text": [
      "6\n"
     ]
    }
   ],
   "source": [
    "sol = Solution()\n",
    "n = 8\n",
    "print(sol.pivotInteger(n))"
   ]
  },
  {
   "cell_type": "code",
   "execution_count": null,
   "id": "f8f438d5",
   "metadata": {},
   "outputs": [],
   "source": []
  }
 ],
 "metadata": {
  "kernelspec": {
   "display_name": "Python 3 (ipykernel)",
   "language": "python",
   "name": "python3"
  },
  "language_info": {
   "codemirror_mode": {
    "name": "ipython",
    "version": 3
   },
   "file_extension": ".py",
   "mimetype": "text/x-python",
   "name": "python",
   "nbconvert_exporter": "python",
   "pygments_lexer": "ipython3",
   "version": "3.11.5"
  }
 },
 "nbformat": 4,
 "nbformat_minor": 5
}
