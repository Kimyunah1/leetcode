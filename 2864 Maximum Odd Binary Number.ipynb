{
 "cells": [
  {
   "cell_type": "code",
   "execution_count": 11,
   "id": "cad71e76",
   "metadata": {},
   "outputs": [],
   "source": [
    "class Solution:\n",
    "    def maximumOddBinaryNumber(self, s: str) -> str:\n",
    "        countone = s.count('1')\n",
    "\n",
    "        return '1' * (countone - 1) + '0' * (len(s) - countone) + '1'\n"
   ]
  },
  {
   "cell_type": "code",
   "execution_count": 12,
   "id": "fa8f6cf9",
   "metadata": {},
   "outputs": [
    {
     "name": "stdout",
     "output_type": "stream",
     "text": [
      "1001\n"
     ]
    }
   ],
   "source": [
    "s = \"0101\"\n",
    "print(Solution().maximumOddBinaryNumber(s))"
   ]
  },
  {
   "cell_type": "code",
   "execution_count": null,
   "id": "6f0d1515",
   "metadata": {},
   "outputs": [],
   "source": []
  }
 ],
 "metadata": {
  "kernelspec": {
   "display_name": "Python 3 (ipykernel)",
   "language": "python",
   "name": "python3"
  },
  "language_info": {
   "codemirror_mode": {
    "name": "ipython",
    "version": 3
   },
   "file_extension": ".py",
   "mimetype": "text/x-python",
   "name": "python",
   "nbconvert_exporter": "python",
   "pygments_lexer": "ipython3",
   "version": "3.11.5"
  }
 },
 "nbformat": 4,
 "nbformat_minor": 5
}
